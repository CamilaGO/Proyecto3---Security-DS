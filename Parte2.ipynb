{
 "cells": [
  {
   "cell_type": "markdown",
   "id": "650ea2bc",
   "metadata": {},
   "source": [
    "# PROYECTO 3 - Security Data Science\n",
    "### Parte 2"
   ]
  },
  {
   "cell_type": "code",
   "execution_count": 1,
   "id": "99a33744",
   "metadata": {},
   "outputs": [
    {
     "name": "stderr",
     "output_type": "stream",
     "text": [
      "C:\\Users\\diana\\AppData\\Local\\Programs\\Python\\Python39\\lib\\site-packages\\tqdm\\auto.py:22: TqdmWarning: IProgress not found. Please update jupyter and ipywidgets. See https://ipywidgets.readthedocs.io/en/stable/user_install.html\n",
      "  from .autonotebook import tqdm as notebook_tqdm\n",
      "C:\\Users\\diana\\AppData\\Local\\Programs\\Python\\Python39\\lib\\site-packages\\art\\estimators\\certification\\__init__.py:12: UserWarning: PyTorch not found. Not importing DeepZ functionality\n",
      "  warnings.warn(\"PyTorch not found. Not importing DeepZ functionality\")\n"
     ]
    }
   ],
   "source": [
    "import sys\n",
    "import os\n",
    "from math import log\n",
    "import numpy as np\n",
    "import scipy as sp\n",
    "from PIL import Image\n",
    "import matplotlib.pyplot as plt\n",
    "import joblib\n",
    "import pandas as pd\n",
    "from sklearn.model_selection import train_test_split\n",
    "from art.estimators.classification import KerasClassifier\n",
    "import keras\n",
    "from tensorflow.keras.layers import Input\n",
    "from keras.models import Sequential, Model\n",
    "from keras.layers import Dense, Dropout, Flatten\n",
    "from keras.layers import Conv2D, MaxPooling2D, InputLayer, Reshape\n",
    "from tensorflow.keras.layers import BatchNormalization\n",
    "# from keras.layers.normalization import BatchNormalization\n",
    "import tensorflow as tf\n",
    "from art.attacks import ExtractionAttack\n",
    "from art.attacks.extraction import CopycatCNN, KnockoffNets\n",
    "from art.defences.postprocessor import ReverseSigmoid\n",
    "from keras.preprocessing.image import ImageDataGenerator\n",
    "from art.attacks.evasion import FastGradientMethod\n",
    "from art.attacks.evasion import BasicIterativeMethod\n",
    "from art.defences.trainer import AdversarialTrainer\n",
    "from art.estimators.classification import TensorFlowV2Classifier\n",
    "import joblib"
   ]
  },
  {
   "cell_type": "code",
   "execution_count": 2,
   "id": "5073777c",
   "metadata": {},
   "outputs": [],
   "source": [
    "# Escribir aqui el path de la carpeta con imagenes. Usar doble \\\\ para el path\n",
    "path_root = \"D:\\\\UVG\\\\9noSemestre\\\\SecurityDataScience\\\\Proyecto3---Security-DS\\\\malimg_dataset\\\\malimg_paper_dataset_imgs\\\\\""
   ]
  },
  {
   "cell_type": "code",
   "execution_count": 3,
   "id": "efd43e21",
   "metadata": {},
   "outputs": [
    {
     "name": "stdout",
     "output_type": "stream",
     "text": [
      "Found 9339 images belonging to 25 classes.\n"
     ]
    }
   ],
   "source": [
    "batches = ImageDataGenerator().flow_from_directory(directory = path_root, target_size = (64, 64), batch_size = 10000)"
   ]
  },
  {
   "cell_type": "code",
   "execution_count": 4,
   "id": "b223612b",
   "metadata": {},
   "outputs": [],
   "source": [
    "# Usamos next() para recorrer todos los elementos y generar un batch de imagenes y label del data set\n",
    "imgs, labels = next(batches)"
   ]
  },
  {
   "cell_type": "code",
   "execution_count": 5,
   "id": "ef6905d3",
   "metadata": {},
   "outputs": [
    {
     "data": {
      "text/plain": [
       "(9339, 64, 64, 3)"
      ]
     },
     "execution_count": 5,
     "metadata": {},
     "output_type": "execute_result"
    }
   ],
   "source": [
    "# nuestras imagenes estan en RGB con formato 64x64 [width x length x depth].\n",
    "imgs.shape"
   ]
  },
  {
   "cell_type": "markdown",
   "id": "80af99fd",
   "metadata": {},
   "source": [
    "# Entrenamiento y prueba\n",
    "Se divide la data en 55% train y 45% test "
   ]
  },
  {
   "cell_type": "code",
   "execution_count": 6,
   "id": "6642c8ee",
   "metadata": {},
   "outputs": [],
   "source": [
    "X_train, X_test0, y_train, y_test0 = train_test_split(imgs / 255., labels, test_size = 0.45)"
   ]
  },
  {
   "cell_type": "code",
   "execution_count": 7,
   "id": "551d080f",
   "metadata": {},
   "outputs": [
    {
     "data": {
      "text/plain": [
       "(5136, 64, 64, 3)"
      ]
     },
     "execution_count": 7,
     "metadata": {},
     "output_type": "execute_result"
    }
   ],
   "source": [
    "X_train.shape"
   ]
  },
  {
   "cell_type": "code",
   "execution_count": 8,
   "id": "2dff3eb9",
   "metadata": {},
   "outputs": [],
   "source": [
    "num_classes = 25 # se especifica la cantidad de clases de imagenes para clasificar\n",
    "\n",
    "def malware_model_robust():\n",
    "    Malware_model = Sequential()\n",
    "    Malware_model.add(Conv2D(32, kernel_size=(3, 3),\n",
    "                     activation='relu',\n",
    "                     input_shape=(64,64,3)))\n",
    "    Malware_model.add(MaxPooling2D(pool_size=(2, 2)))\n",
    "    Malware_model.add(Conv2D(15, (3, 3), activation='relu'))\n",
    "    Malware_model.add(MaxPooling2D(pool_size=(2, 2)))\n",
    "    Malware_model.add(Dropout(0.25))\n",
    "    Malware_model.add(Flatten())\n",
    "    Malware_model.add(Dense(1024, activation='relu'))\n",
    "    Malware_model.add(Dropout(0.5))\n",
    "    Malware_model.add(Dense(128, activation='relu'))\n",
    "    Malware_model.add(Dense(num_classes, activation='softmax'))\n",
    "    Malware_model.compile(loss='categorical_crossentropy', optimizer = 'adam', metrics=['accuracy'])\n",
    "    return Malware_model"
   ]
  },
  {
   "cell_type": "code",
   "execution_count": 9,
   "id": "b5fb0567",
   "metadata": {},
   "outputs": [],
   "source": [
    "Malware_model = malware_model_robust() # se crea el modelo con capas mas densas, es decir un modelo mas pro para mejores resultados"
   ]
  },
  {
   "cell_type": "code",
   "execution_count": 10,
   "id": "b6bb285d",
   "metadata": {},
   "outputs": [
    {
     "name": "stdout",
     "output_type": "stream",
     "text": [
      "Model: \"sequential\"\n",
      "_________________________________________________________________\n",
      " Layer (type)                Output Shape              Param #   \n",
      "=================================================================\n",
      " conv2d (Conv2D)             (None, 62, 62, 32)        896       \n",
      "                                                                 \n",
      " max_pooling2d (MaxPooling2D  (None, 31, 31, 32)       0         \n",
      " )                                                               \n",
      "                                                                 \n",
      " conv2d_1 (Conv2D)           (None, 29, 29, 15)        4335      \n",
      "                                                                 \n",
      " max_pooling2d_1 (MaxPooling  (None, 14, 14, 15)       0         \n",
      " 2D)                                                             \n",
      "                                                                 \n",
      " dropout (Dropout)           (None, 14, 14, 15)        0         \n",
      "                                                                 \n",
      " flatten (Flatten)           (None, 2940)              0         \n",
      "                                                                 \n",
      " dense (Dense)               (None, 1024)              3011584   \n",
      "                                                                 \n",
      " dropout_1 (Dropout)         (None, 1024)              0         \n",
      "                                                                 \n",
      " dense_1 (Dense)             (None, 128)               131200    \n",
      "                                                                 \n",
      " dense_2 (Dense)             (None, 25)                3225      \n",
      "                                                                 \n",
      "=================================================================\n",
      "Total params: 3,151,240\n",
      "Trainable params: 3,151,240\n",
      "Non-trainable params: 0\n",
      "_________________________________________________________________\n"
     ]
    }
   ],
   "source": [
    "Malware_model.summary()"
   ]
  },
  {
   "cell_type": "code",
   "execution_count": 11,
   "id": "032a0b14",
   "metadata": {},
   "outputs": [
    {
     "data": {
      "text/plain": [
       "(5136, 25)"
      ]
     },
     "execution_count": 11,
     "metadata": {},
     "output_type": "execute_result"
    }
   ],
   "source": [
    "y_train.shape"
   ]
  },
  {
   "cell_type": "code",
   "execution_count": 12,
   "id": "d7177a6b",
   "metadata": {},
   "outputs": [
    {
     "data": {
      "text/plain": [
       "array([ 2, 24, 13, ..., 10,  9, 22], dtype=int64)"
      ]
     },
     "execution_count": 12,
     "metadata": {},
     "output_type": "execute_result"
    }
   ],
   "source": [
    "y_train_new = np.argmax(y_train, axis=1) # se extraen solo las clases\n",
    "y_train_new"
   ]
  },
  {
   "cell_type": "markdown",
   "id": "695b73ea",
   "metadata": {},
   "source": [
    "### Entrenamiento "
   ]
  },
  {
   "cell_type": "code",
   "execution_count": 13,
   "id": "21f3ddf1",
   "metadata": {},
   "outputs": [
    {
     "name": "stdout",
     "output_type": "stream",
     "text": [
      "Epoch 1/10\n",
      "161/161 [==============================] - 22s 135ms/step - loss: 1.3427 - accuracy: 0.5874 - val_loss: 0.6421 - val_accuracy: 0.8154\n",
      "Epoch 2/10\n",
      "161/161 [==============================] - 21s 132ms/step - loss: 0.4820 - accuracy: 0.8477 - val_loss: 0.3441 - val_accuracy: 0.9284\n",
      "Epoch 3/10\n",
      "161/161 [==============================] - 21s 131ms/step - loss: 0.2414 - accuracy: 0.9243 - val_loss: 0.2675 - val_accuracy: 0.9208\n",
      "Epoch 4/10\n",
      "161/161 [==============================] - 21s 131ms/step - loss: 0.1697 - accuracy: 0.9472 - val_loss: 0.1653 - val_accuracy: 0.9450\n",
      "Epoch 5/10\n",
      "161/161 [==============================] - 21s 131ms/step - loss: 0.1275 - accuracy: 0.9614 - val_loss: 0.1255 - val_accuracy: 0.9600\n",
      "Epoch 6/10\n",
      "161/161 [==============================] - 22s 138ms/step - loss: 0.1165 - accuracy: 0.9630 - val_loss: 0.1310 - val_accuracy: 0.9584\n",
      "Epoch 7/10\n",
      "161/161 [==============================] - 22s 136ms/step - loss: 0.1037 - accuracy: 0.9694 - val_loss: 0.1354 - val_accuracy: 0.9538\n",
      "Epoch 8/10\n",
      "161/161 [==============================] - 22s 137ms/step - loss: 0.0912 - accuracy: 0.9725 - val_loss: 0.1251 - val_accuracy: 0.9584\n",
      "Epoch 9/10\n",
      "161/161 [==============================] - 22s 138ms/step - loss: 0.0739 - accuracy: 0.9770 - val_loss: 0.1498 - val_accuracy: 0.9531\n",
      "Epoch 10/10\n",
      "161/161 [==============================] - 22s 139ms/step - loss: 0.0715 - accuracy: 0.9780 - val_loss: 0.1636 - val_accuracy: 0.9488\n"
     ]
    },
    {
     "data": {
      "text/plain": [
       "<keras.callbacks.History at 0x1bcb66cd460>"
      ]
     },
     "execution_count": 13,
     "metadata": {},
     "output_type": "execute_result"
    }
   ],
   "source": [
    "Malware_model.fit(X_train, y_train, validation_data=(X_test0, y_test0), epochs=10)"
   ]
  },
  {
   "cell_type": "code",
   "execution_count": 14,
   "id": "63944107",
   "metadata": {},
   "outputs": [],
   "source": [
    "# se guarda el modelo \n",
    "Malware_model.save('malware-listo-model-robust.h5')"
   ]
  },
  {
   "cell_type": "code",
   "execution_count": 15,
   "id": "cd2be269",
   "metadata": {},
   "outputs": [],
   "source": [
    "if tf.executing_eagerly():\n",
    "    tf.compat.v1.disable_eager_execution()"
   ]
  },
  {
   "cell_type": "code",
   "execution_count": 16,
   "id": "120df7be",
   "metadata": {},
   "outputs": [],
   "source": [
    "# Recrea exactamente el mismo modelo cargando solo el archivo\n",
    "malware_model = keras.models.load_model('malware-listo-model.h5')\n",
    "# malware_model = keras.models.load_model('malware-listo-model-robust.h5')"
   ]
  },
  {
   "cell_type": "code",
   "execution_count": 17,
   "id": "4e29a235",
   "metadata": {},
   "outputs": [],
   "source": [
    "classifier_original = KerasClassifier(malware_model, clip_values=(0, 1), use_logits=False)"
   ]
  },
  {
   "cell_type": "markdown",
   "id": "3fd2678c",
   "metadata": {},
   "source": [
    "### Predicciones"
   ]
  },
  {
   "cell_type": "code",
   "execution_count": 18,
   "id": "afd2f67f",
   "metadata": {},
   "outputs": [
    {
     "name": "stderr",
     "output_type": "stream",
     "text": [
      "C:\\Users\\diana\\AppData\\Local\\Programs\\Python\\Python39\\lib\\site-packages\\keras\\engine\\training_v1.py:2067: UserWarning: `Model.state_updates` will be removed in a future version. This property should not be used in TensorFlow 2.0, as `updates` are applied automatically.\n",
      "  updates=self.state_updates,\n"
     ]
    },
    {
     "name": "stdout",
     "output_type": "stream",
     "text": [
      "Original test data (4203 images):\n",
      "Correctly classified: 4073\n",
      "Incorrectly classified: 130\n"
     ]
    }
   ],
   "source": [
    "x_test_pred = np.argmax(classifier_original.predict(X_test0), axis=1)\n",
    "nb_correct_pred = np.sum(x_test_pred == np.argmax(y_test0, axis=1))\n",
    "\n",
    "print(\"Original test data ({} images):\".format(len(X_test0)))\n",
    "print(\"Correctly classified: {}\".format(nb_correct_pred))\n",
    "print(\"Incorrectly classified: {}\".format(len(X_test0) - nb_correct_pred))"
   ]
  },
  {
   "cell_type": "markdown",
   "id": "897f1fdc",
   "metadata": {},
   "source": [
    "Se puede ver segun los resultados que unicamente el 3.85% de los datos fueron seleccionados incorrectamente"
   ]
  },
  {
   "cell_type": "code",
   "execution_count": 19,
   "id": "2f9c8815",
   "metadata": {},
   "outputs": [],
   "source": [
    "attacker = FastGradientMethod(classifier_original, eps=0.5)\n",
    "x_test_adv = attacker.generate(X_test0)"
   ]
  },
  {
   "cell_type": "code",
   "execution_count": 20,
   "id": "dd43b126",
   "metadata": {},
   "outputs": [
    {
     "name": "stdout",
     "output_type": "stream",
     "text": [
      "Adversarial test data (4203 images):\n",
      "Correctly classified: 87\n",
      "Incorrectly classified: 4116\n"
     ]
    }
   ],
   "source": [
    "x_test_adv_pred = np.argmax(classifier_original.predict(x_test_adv), axis=1)\n",
    "nb_correct_adv_pred = np.sum(x_test_adv_pred == np.argmax(y_test0, axis=1))\n",
    "\n",
    "print(\"Adversarial test data ({} images):\".format(len(X_test0)))\n",
    "print(\"Correctly classified: {}\".format(nb_correct_adv_pred))\n",
    "print(\"Incorrectly classified: {}\".format(len(X_test0) - nb_correct_adv_pred))"
   ]
  },
  {
   "cell_type": "markdown",
   "id": "b07e3514",
   "metadata": {},
   "source": [
    "Se puede ver segun los resultados que despues del ataque unicamente el 2.21% de los datos fueron seleccionados correctamente"
   ]
  },
  {
   "cell_type": "code",
   "execution_count": 21,
   "id": "76c64423",
   "metadata": {},
   "outputs": [],
   "source": [
    "# Recrea exactamente el mismo modelo cargando solo el archivo\n",
    "malware_model_robust = keras.models.load_model('malware-listo-model-robust.h5')"
   ]
  },
  {
   "cell_type": "code",
   "execution_count": 22,
   "id": "12751b94",
   "metadata": {},
   "outputs": [],
   "source": [
    "classifier_robust = KerasClassifier(malware_model_robust, clip_values=(0, 1), use_logits=False)"
   ]
  },
  {
   "cell_type": "code",
   "execution_count": 23,
   "id": "762e4526",
   "metadata": {},
   "outputs": [],
   "source": [
    "attacks = BasicIterativeMethod(classifier_robust, eps=0.3, eps_step=0.01) # se especifica el ataque para robar info"
   ]
  },
  {
   "cell_type": "markdown",
   "id": "bd40ee26",
   "metadata": {},
   "source": [
    "### Se entrena el nuevo modelo "
   ]
  },
  {
   "cell_type": "code",
   "execution_count": 24,
   "id": "5620f401",
   "metadata": {},
   "outputs": [
    {
     "name": "stderr",
     "output_type": "stream",
     "text": [
      "Precompute adv samples: 100%|████████████████████████████████████████████████████████████████████| 1/1 [00:00<?, ?it/s]\n",
      "Adversarial training epochs: 100%|██████████████████████████████████████████████████| 15/15 [2:11:09<00:00, 524.65s/it]\n"
     ]
    }
   ],
   "source": [
    "trainer = AdversarialTrainer(classifier_robust, attacks)\n",
    "trainer.fit(X_train, y_train, nb_epochs=15, batch_size=50)"
   ]
  },
  {
   "cell_type": "code",
   "execution_count": 25,
   "id": "8355e1ec",
   "metadata": {},
   "outputs": [],
   "source": [
    "# se guarda el modelo \n",
    "model_malware_robust = trainer.get_classifier()"
   ]
  },
  {
   "cell_type": "code",
   "execution_count": 26,
   "id": "da71cf19",
   "metadata": {},
   "outputs": [
    {
     "data": {
      "text/plain": [
       "array([[2.96236394e-04, 4.77714821e-05, 3.44797247e-03, ...,\n",
       "        1.15074497e-03, 4.69977840e-06, 7.94795156e-01],\n",
       "       [4.91202576e-03, 4.51378059e-03, 5.68084955e-01, ...,\n",
       "        1.98896211e-02, 1.32689532e-02, 2.27033012e-02],\n",
       "       [5.11166174e-04, 3.16922873e-04, 1.84465926e-02, ...,\n",
       "        2.68884692e-02, 1.37022161e-03, 1.97295914e-03],\n",
       "       ...,\n",
       "       [3.48123652e-03, 2.41219182e-03, 6.92709029e-01, ...,\n",
       "        1.52728073e-02, 8.39884300e-03, 1.17834555e-02],\n",
       "       [4.60853800e-03, 4.38773725e-03, 5.70055962e-01, ...,\n",
       "        2.01294292e-02, 1.76523924e-02, 1.89463533e-02],\n",
       "       [3.18042166e-03, 2.22050399e-03, 7.31134713e-01, ...,\n",
       "        1.46799749e-02, 5.70520665e-03, 1.01906154e-02]], dtype=float32)"
      ]
     },
     "execution_count": 26,
     "metadata": {},
     "output_type": "execute_result"
    }
   ],
   "source": [
    "model_malware_robust.predict(X_test0)"
   ]
  },
  {
   "cell_type": "code",
   "execution_count": 27,
   "id": "8a474c62",
   "metadata": {},
   "outputs": [
    {
     "name": "stdout",
     "output_type": "stream",
     "text": [
      "Original test data (4203 images):\n",
      "Correctly classified: 3242\n",
      "Incorrectly classified: 961\n"
     ]
    }
   ],
   "source": [
    "x_test_robust_pred = np.argmax(model_malware_robust.predict(X_test0), axis=1)\n",
    "nb_correct_robust_pred = np.sum(x_test_robust_pred == np.argmax(y_test0, axis=1))\n",
    "\n",
    "print(\"Original test data ({} images):\".format(len(X_test0)))\n",
    "print(\"Correctly classified: {}\".format(nb_correct_robust_pred))\n",
    "print(\"Incorrectly classified: {}\".format(len(X_test0) - nb_correct_robust_pred))"
   ]
  },
  {
   "cell_type": "markdown",
   "id": "d48bfde9",
   "metadata": {},
   "source": [
    "El nuevo modelo robusto responde mejor que el anterior a los ataques ya aproximadamente el 90% de los datos se clasificaron bien"
   ]
  },
  {
   "cell_type": "code",
   "execution_count": 28,
   "id": "602ff435",
   "metadata": {},
   "outputs": [],
   "source": [
    "attacker_robust = FastGradientMethod(model_malware_robust, eps=0.5)\n",
    "x_test_adv_robust = attacker_robust.generate(X_test0)"
   ]
  },
  {
   "cell_type": "code",
   "execution_count": 29,
   "id": "b4c3d449",
   "metadata": {},
   "outputs": [
    {
     "name": "stdout",
     "output_type": "stream",
     "text": [
      "Adversarial test data (4203 images):\n",
      "Correctly classified: 1310\n",
      "Incorrectly classified: 2893\n"
     ]
    }
   ],
   "source": [
    "x_test_adv_robust_pred = np.argmax(model_malware_robust.predict(x_test_adv_robust), axis=1)\n",
    "nb_correct_adv_robust_pred = np.sum(x_test_adv_robust_pred == np.argmax(y_test0, axis=1))\n",
    "\n",
    "print(\"Adversarial test data ({} images):\".format(len(X_test0)))\n",
    "print(\"Correctly classified: {}\".format(nb_correct_adv_robust_pred))\n",
    "print(\"Incorrectly classified: {}\".format(len(X_test0) - nb_correct_adv_robust_pred))"
   ]
  },
  {
   "cell_type": "markdown",
   "id": "ca7b014d",
   "metadata": {},
   "source": [
    "El nuevo modelo robusto responde mejor que el anterior a los ataques ya aproximadamente el 90% de los datos se clasificaron bien"
   ]
  },
  {
   "cell_type": "markdown",
   "id": "ee1896c0",
   "metadata": {},
   "source": [
    "## Grafica ROC\n",
    "para modelos utilizados y correcta clasificacion"
   ]
  },
  {
   "cell_type": "code",
   "execution_count": 30,
   "id": "fd56f38d",
   "metadata": {},
   "outputs": [],
   "source": [
    "eps_range = [0.01, 0.02, 0.03, 0.04, 0.05, 0.1, 0.2, 0.3, 0.4, 0.5, 0.6, 0.7, 0.8, 0.9]\n",
    "nb_correct_original = []\n",
    "nb_correct_robust = []\n",
    "\n",
    "for eps in eps_range:\n",
    "    attacker.set_params(**{'eps': eps})\n",
    "    attacker_robust.set_params(**{'eps': eps})\n",
    "    x_test_adv = attacker.generate(X_test0)\n",
    "    x_test_adv_robust = attacker_robust.generate(X_test0)\n",
    "    \n",
    "    x_test_adv_pred = np.argmax(classifier_original.predict(x_test_adv), axis=1)\n",
    "    nb_correct_original += [np.sum(x_test_adv_pred == np.argmax(y_test0, axis=1))]\n",
    "    \n",
    "    x_test_adv_robust_pred = np.argmax(model_malware_robust.predict(x_test_adv_robust), axis=1)\n",
    "    nb_correct_robust += [np.sum(x_test_adv_robust_pred == np.argmax(y_test0, axis=1))]\n",
    "\n",
    "eps_range = [0] + eps_range\n",
    "nb_correct_original = [nb_correct_pred] + nb_correct_original\n",
    "nb_correct_robust = [nb_correct_robust_pred] + nb_correct_robust"
   ]
  },
  {
   "cell_type": "code",
   "execution_count": 31,
   "id": "312193af",
   "metadata": {},
   "outputs": [
    {
     "data": {
      "text/plain": [
       "[4073, 3918, 3128, 2509, 1873, 1431, 726, 161, 118, 102, 87, 61, 55, 55, 53]"
      ]
     },
     "execution_count": 31,
     "metadata": {},
     "output_type": "execute_result"
    }
   ],
   "source": [
    "nb_correct_original"
   ]
  },
  {
   "cell_type": "code",
   "execution_count": 32,
   "id": "af5954d3",
   "metadata": {},
   "outputs": [
    {
     "data": {
      "text/plain": [
       "[3242,\n",
       " 3156,\n",
       " 3047,\n",
       " 2860,\n",
       " 2697,\n",
       " 2487,\n",
       " 1480,\n",
       " 1306,\n",
       " 1305,\n",
       " 1310,\n",
       " 1310,\n",
       " 1305,\n",
       " 1305,\n",
       " 1305,\n",
       " 1305]"
      ]
     },
     "execution_count": 32,
     "metadata": {},
     "output_type": "execute_result"
    }
   ],
   "source": [
    "nb_correct_robust"
   ]
  },
  {
   "cell_type": "code",
   "execution_count": 33,
   "id": "63c181ac",
   "metadata": {},
   "outputs": [
    {
     "data": {
      "image/png": "[encoded data removed]",
      "text/plain": [
       "<Figure size 432x288 with 1 Axes>"
      ]
     },
     "metadata": {
      "needs_background": "light"
     },
     "output_type": "display_data"
    }
   ],
   "source": [
    "fig, ax = plt.subplots()\n",
    "ax.plot(np.array(eps_range), np.array(nb_correct_original), 'b--', label='Original classifier')\n",
    "ax.plot(np.array(eps_range), np.array(nb_correct_robust), 'r--', label='Robust classifier')\n",
    "\n",
    "legend = ax.legend(loc='upper center', shadow=True, fontsize='large')\n",
    "legend.get_frame().set_facecolor('#00FFCC')\n",
    "\n",
    "plt.xlabel('Attack strength (eps)')\n",
    "plt.ylabel('Correct predictions')\n",
    "plt.show()"
   ]
  },
  {
   "cell_type": "markdown",
   "id": "0f2a2f24",
   "metadata": {},
   "source": [
    "Con esta grafica se observa como el desempeño del clasificador original fue ligeramente mejor aunque la realidad es que son bastante similares "
   ]
  },
  {
   "cell_type": "code",
   "execution_count": 34,
   "id": "ec53a849",
   "metadata": {},
   "outputs": [
    {
     "data": {
      "text/plain": [
       "['model_malware_robust-parte2.h5']"
      ]
     },
     "execution_count": 34,
     "metadata": {},
     "output_type": "execute_result"
    }
   ],
   "source": [
    "joblib.dump(model_malware_robust,'model_malware_robust-parte2.h5')"
   ]
  },
  {
   "cell_type": "code",
   "execution_count": null,
   "id": "e00294a5",
   "metadata": {},
   "outputs": [],
   "source": []
  }
 ],
 "metadata": {
  "kernelspec": {
   "display_name": "Python 3 (ipykernel)",
   "language": "python",
   "name": "python3"
  },
  "language_info": {
   "codemirror_mode": {
    "name": "ipython",
    "version": 3
   },
   "file_extension": ".py",
   "mimetype": "text/x-python",
   "name": "python",
   "nbconvert_exporter": "python",
   "pygments_lexer": "ipython3",
   "version": "3.9.10"
  }
 },
 "nbformat": 4,
 "nbformat_minor": 5
}

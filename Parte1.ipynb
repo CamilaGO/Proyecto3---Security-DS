{
 "cells": [
  {
   "cell_type": "code",
   "execution_count": 22,
   "metadata": {},
   "outputs": [],
   "source": [
    "import sys\n",
    "import os\n",
    "from math import log\n",
    "import numpy as np\n",
    "import scipy as sp\n",
    "from PIL import Image\n",
    "import matplotlib.pyplot as plt\n",
    "import joblib\n",
    "import pandas as pd\n",
    "from sklearn.model_selection import train_test_split\n",
    "from art.estimators.classification import KerasClassifier\n",
    "import keras\n",
    "from tensorflow.keras.layers import Input\n",
    "from keras.models import Sequential, Model\n",
    "from keras.layers import Dense, Dropout, Flatten\n",
    "from keras.layers import Conv2D, MaxPooling2D\n",
    "from tensorflow.keras.layers import BatchNormalization\n",
    "# from keras.layers.normalization import BatchNormalization\n",
    "import tensorflow as tf\n",
    "from art.attacks import ExtractionAttack\n",
    "from art.attacks.extraction import CopycatCNN, KnockoffNets"
   ]
  },
  {
   "cell_type": "code",
   "execution_count": 2,
   "metadata": {},
   "outputs": [],
   "source": [
    "path_root = \"D:\\\\UVG\\\\9noSemestre\\\\SecurityDataScience\\\\Proyecto3---Security-DS\\\\malimg_dataset\\\\malimg_paper_dataset_imgs\\\\\""
   ]
  },
  {
   "cell_type": "code",
   "execution_count": 3,
   "metadata": {},
   "outputs": [
    {
     "name": "stdout",
     "output_type": "stream",
     "text": [
      "Found 9339 images belonging to 25 classes.\n"
     ]
    }
   ],
   "source": [
    "from keras.preprocessing.image import ImageDataGenerator\n",
    "\n",
    "batches = ImageDataGenerator().flow_from_directory(directory = path_root, target_size = (64, 64), batch_size = 10000)"
   ]
  },
  {
   "cell_type": "code",
   "execution_count": 4,
   "metadata": {},
   "outputs": [],
   "source": [
    "# Usamos next() para recorrer todos los elementos y generar un batch de imagenes y label del data set\n",
    "imgs, labels = next(batches)"
   ]
  },
  {
   "cell_type": "code",
   "execution_count": 5,
   "metadata": {},
   "outputs": [
    {
     "data": {
      "text/plain": [
       "(9339, 64, 64, 3)"
      ]
     },
     "execution_count": 5,
     "metadata": {},
     "output_type": "execute_result"
    }
   ],
   "source": [
    "# nuestras imagenes estan en RGB con formato 64x64 [width x length x depth].\n",
    "imgs.shape"
   ]
  },
  {
   "cell_type": "markdown",
   "metadata": {},
   "source": [
    "# Entrenamiento y prueba\n",
    "Se divide la data en 70% train y 30% test "
   ]
  },
  {
   "cell_type": "code",
   "execution_count": 6,
   "metadata": {},
   "outputs": [],
   "source": [
    "X_train, X_test0, y_train, y_test0 = train_test_split(imgs / 255., labels, test_size = 0.45)"
   ]
  },
  {
   "cell_type": "code",
   "execution_count": 7,
   "metadata": {},
   "outputs": [],
   "source": [
    "X_test, X_steal, y_test, y_steal = train_test_split(X_test0, y_test0, test_size=0.33, random_state = 31)"
   ]
  },
  {
   "cell_type": "code",
   "execution_count": 8,
   "metadata": {},
   "outputs": [
    {
     "data": {
      "text/plain": [
       "(5136, 64, 64, 3)"
      ]
     },
     "execution_count": 8,
     "metadata": {},
     "output_type": "execute_result"
    }
   ],
   "source": [
    "X_train.shape"
   ]
  },
  {
   "cell_type": "markdown",
   "metadata": {},
   "source": [
    "# Modelo de Red Neural Convolutional"
   ]
  },
  {
   "cell_type": "code",
   "execution_count": 9,
   "metadata": {},
   "outputs": [],
   "source": [
    "num_classes = 25\n",
    "\n",
    "def malware_model():\n",
    "    Malware_model = Sequential()\n",
    "    Malware_model.add(Conv2D(30, kernel_size=(3, 3),\n",
    "                     activation='relu',\n",
    "                     input_shape=(64,64,3)))\n",
    "\n",
    "    Malware_model.add(MaxPooling2D(pool_size=(2, 2)))\n",
    "    Malware_model.add(Conv2D(15, (3, 3), activation='relu'))\n",
    "    Malware_model.add(MaxPooling2D(pool_size=(2, 2)))\n",
    "    Malware_model.add(Dropout(0.25))\n",
    "    Malware_model.add(Flatten())\n",
    "    Malware_model.add(Dense(128, activation='relu'))\n",
    "    Malware_model.add(Dropout(0.5))\n",
    "    Malware_model.add(Dense(50, activation='relu'))\n",
    "    Malware_model.add(Dense(num_classes, activation='softmax'))\n",
    "    Malware_model.compile(loss='categorical_crossentropy', optimizer = 'adam', metrics=['accuracy'])\n",
    "    return Malware_model"
   ]
  },
  {
   "cell_type": "code",
   "execution_count": 10,
   "metadata": {},
   "outputs": [],
   "source": [
    "Malware_model = malware_model()"
   ]
  },
  {
   "cell_type": "code",
   "execution_count": 11,
   "metadata": {},
   "outputs": [
    {
     "name": "stdout",
     "output_type": "stream",
     "text": [
      "Model: \"sequential\"\n",
      "_________________________________________________________________\n",
      " Layer (type)                Output Shape              Param #   \n",
      "=================================================================\n",
      " conv2d (Conv2D)             (None, 62, 62, 30)        840       \n",
      "                                                                 \n",
      " max_pooling2d (MaxPooling2D  (None, 31, 31, 30)       0         \n",
      " )                                                               \n",
      "                                                                 \n",
      " conv2d_1 (Conv2D)           (None, 29, 29, 15)        4065      \n",
      "                                                                 \n",
      " max_pooling2d_1 (MaxPooling  (None, 14, 14, 15)       0         \n",
      " 2D)                                                             \n",
      "                                                                 \n",
      " dropout (Dropout)           (None, 14, 14, 15)        0         \n",
      "                                                                 \n",
      " flatten (Flatten)           (None, 2940)              0         \n",
      "                                                                 \n",
      " dense (Dense)               (None, 128)               376448    \n",
      "                                                                 \n",
      " dropout_1 (Dropout)         (None, 128)               0         \n",
      "                                                                 \n",
      " dense_1 (Dense)             (None, 50)                6450      \n",
      "                                                                 \n",
      " dense_2 (Dense)             (None, 25)                1275      \n",
      "                                                                 \n",
      "=================================================================\n",
      "Total params: 389,078\n",
      "Trainable params: 389,078\n",
      "Non-trainable params: 0\n",
      "_________________________________________________________________\n"
     ]
    }
   ],
   "source": [
    "Malware_model.summary()"
   ]
  },
  {
   "cell_type": "code",
   "execution_count": 12,
   "metadata": {},
   "outputs": [
    {
     "data": {
      "text/plain": [
       "(5136, 25)"
      ]
     },
     "execution_count": 12,
     "metadata": {},
     "output_type": "execute_result"
    }
   ],
   "source": [
    "y_train.shape"
   ]
  },
  {
   "cell_type": "code",
   "execution_count": 13,
   "metadata": {},
   "outputs": [
    {
     "data": {
      "text/plain": [
       "array([16,  3,  2, ..., 22, 24,  8], dtype=int64)"
      ]
     },
     "execution_count": 13,
     "metadata": {},
     "output_type": "execute_result"
    }
   ],
   "source": [
    "y_train_new = np.argmax(y_train, axis=1)\n",
    "y_train_new"
   ]
  },
  {
   "cell_type": "code",
   "execution_count": 14,
   "metadata": {},
   "outputs": [
    {
     "name": "stdout",
     "output_type": "stream",
     "text": [
      "Epoch 1/10\n",
      "161/161 [==============================] - 9s 56ms/step - loss: 1.8234 - accuracy: 0.4603 - val_loss: 0.9919 - val_accuracy: 0.6431\n",
      "Epoch 2/10\n",
      "161/161 [==============================] - 8s 52ms/step - loss: 0.9679 - accuracy: 0.6690 - val_loss: 0.5809 - val_accuracy: 0.8153\n",
      "Epoch 3/10\n",
      "161/161 [==============================] - 8s 52ms/step - loss: 0.6552 - accuracy: 0.7833 - val_loss: 0.3607 - val_accuracy: 0.9016\n",
      "Epoch 4/10\n",
      "161/161 [==============================] - 8s 51ms/step - loss: 0.4468 - accuracy: 0.8571 - val_loss: 0.2317 - val_accuracy: 0.9240\n",
      "Epoch 5/10\n",
      "161/161 [==============================] - 8s 51ms/step - loss: 0.3508 - accuracy: 0.8910 - val_loss: 0.1929 - val_accuracy: 0.9311\n",
      "Epoch 6/10\n",
      "161/161 [==============================] - 9s 54ms/step - loss: 0.2756 - accuracy: 0.9132 - val_loss: 0.1689 - val_accuracy: 0.9478\n",
      "Epoch 7/10\n",
      "161/161 [==============================] - 9s 54ms/step - loss: 0.2437 - accuracy: 0.9206 - val_loss: 0.1550 - val_accuracy: 0.9528\n",
      "Epoch 8/10\n",
      "161/161 [==============================] - 8s 52ms/step - loss: 0.2245 - accuracy: 0.9272 - val_loss: 0.1673 - val_accuracy: 0.9503\n",
      "Epoch 9/10\n",
      "161/161 [==============================] - 8s 52ms/step - loss: 0.2210 - accuracy: 0.9276 - val_loss: 0.1529 - val_accuracy: 0.9510\n",
      "Epoch 10/10\n",
      "161/161 [==============================] - 8s 52ms/step - loss: 0.1914 - accuracy: 0.9404 - val_loss: 0.1368 - val_accuracy: 0.9556\n"
     ]
    },
    {
     "data": {
      "text/plain": [
       "<keras.callbacks.History at 0x2244e56fbe0>"
      ]
     },
     "execution_count": 14,
     "metadata": {},
     "output_type": "execute_result"
    }
   ],
   "source": [
    "Malware_model.fit(X_train, y_train, validation_data=(X_test, y_test), epochs=10)"
   ]
  },
  {
   "cell_type": "code",
   "execution_count": 15,
   "metadata": {},
   "outputs": [
    {
     "name": "stdout",
     "output_type": "stream",
     "text": [
      "88/88 [==============================] - 1s 10ms/step - loss: 0.1368 - accuracy: 0.9556\n"
     ]
    }
   ],
   "source": [
    "scores = Malware_model.evaluate(X_test, y_test)"
   ]
  },
  {
   "cell_type": "code",
   "execution_count": 16,
   "metadata": {},
   "outputs": [
    {
     "name": "stdout",
     "output_type": "stream",
     "text": [
      "Accuracy final CNN:  0.9556108117103577\n"
     ]
    }
   ],
   "source": [
    "print('Accuracy final CNN: ', scores[1])\n",
    "# Fue bastante alto el acc obtenido"
   ]
  },
  {
   "cell_type": "code",
   "execution_count": 17,
   "metadata": {},
   "outputs": [],
   "source": [
    "# se guarda el modelo \n",
    "Malware_model.save('malware-listo-model.h5')"
   ]
  },
  {
   "cell_type": "code",
   "execution_count": 18,
   "metadata": {},
   "outputs": [],
   "source": [
    "if tf.executing_eagerly():\n",
    "    tf.compat.v1.disable_eager_execution()"
   ]
  },
  {
   "cell_type": "code",
   "execution_count": 19,
   "metadata": {},
   "outputs": [],
   "source": [
    "# Recrea exactamente el mismo modelo solo desde el archivo\n",
    "malware_model = keras.models.load_model('malware-listo-model.h5')"
   ]
  },
  {
   "cell_type": "code",
   "execution_count": 20,
   "metadata": {},
   "outputs": [],
   "source": [
    "classifier_original = KerasClassifier(malware_model, clip_values=(0, 1), use_logits=False)"
   ]
  },
  {
   "cell_type": "code",
   "execution_count": 25,
   "metadata": {},
   "outputs": [],
   "source": [
    "num_epochs = 10\n",
    "len_steal = 5000\n",
    "# Stealing from the unprotected classifier.\n",
    "attack_catalogue = {\"Probabilistic CopycatCNN\": CopycatCNN(classifier=classifier_original,\n",
    "                                              batch_size_fit=64,\n",
    "                                              batch_size_query=64,\n",
    "                                              nb_epochs=num_epochs,\n",
    "                                              nb_stolen=len_steal,\n",
    "                                              use_probability=True),\n",
    "                    \"Argmax CopycatCNN\": CopycatCNN(classifier=classifier_original,\n",
    "                                              batch_size_fit=64,\n",
    "                                              batch_size_query=64,\n",
    "                                              nb_epochs=num_epochs,\n",
    "                                              nb_stolen=len_steal,\n",
    "                                              use_probability=False),\n",
    "                    \"Probabilistic KnockoffNets\": KnockoffNets(classifier=classifier_original,\n",
    "                                              batch_size_fit=64,\n",
    "                                              batch_size_query=64,\n",
    "                                              nb_epochs=num_epochs,\n",
    "                                              nb_stolen=len_steal,\n",
    "                                              use_probability=True),\n",
    "                    \"Argmax KnockoffNets\": KnockoffNets(classifier=classifier_original,\n",
    "                                              batch_size_fit=64,\n",
    "                                              batch_size_query=64,\n",
    "                                              nb_epochs=num_epochs,\n",
    "                                              nb_stolen=len_steal,\n",
    "                                              use_probability=False),\n",
    "                   }"
   ]
  },
  {
   "cell_type": "code",
   "execution_count": 30,
   "metadata": {},
   "outputs": [],
   "source": [
    "def malware_steal_model():\n",
    "    Malware_model = Sequential(Conv2D(30, kernel_size=(3, 3),\n",
    "                     activation='relu',\n",
    "                     input_shape=(64,64,3)))\n",
    "   \n",
    "    Malware_model.add(MaxPooling2D(pool_size=(2, 2)))\n",
    "    Malware_model.add(Conv2D(15, (3, 3), activation='relu'))\n",
    "    Malware_model.add(MaxPooling2D(pool_size=(2, 2)))\n",
    "    Malware_model.add(Dropout(0.25))\n",
    "    Malware_model.add(Flatten())\n",
    "    Malware_model.add(Dense(128, activation='relu'))\n",
    "    Malware_model.add(Dropout(0.5))\n",
    "    Malware_model.add(Dense(50, activation='relu'))\n",
    "    Malware_model.add(Dense(num_classes, activation='softmax'))\n",
    "    Malware_model.compile(loss='categorical_crossentropy', optimizer = 'adam', metrics=['accuracy'])\n",
    "    return Malware_model"
   ]
  },
  {
   "cell_type": "code",
   "execution_count": null,
   "metadata": {},
   "outputs": [
    {
     "name": "stdout",
     "output_type": "stream",
     "text": [
      "Train on 250 samples\n",
      "Epoch 1/10\n",
      "250/250 [==============================] - 3s 12ms/sample - loss: 2.9509 - accuracy: 0.2280\n",
      "Epoch 2/10\n",
      "250/250 [==============================] - 3s 11ms/sample - loss: 2.6873 - accuracy: 0.2880\n",
      "Epoch 3/10\n",
      "250/250 [==============================] - 3s 11ms/sample - loss: 2.5835 - accuracy: 0.2240\n",
      "Epoch 4/10\n",
      "250/250 [==============================] - 3s 11ms/sample - loss: 2.4912 - accuracy: 0.2880\n",
      "Epoch 5/10\n",
      "250/250 [==============================] - 3s 11ms/sample - loss: 2.3880 - accuracy: 0.3280\n",
      "Epoch 6/10\n",
      "250/250 [==============================] - 3s 11ms/sample - loss: 2.3663 - accuracy: 0.3280\n",
      "Epoch 7/10\n",
      "250/250 [==============================] - 3s 10ms/sample - loss: 2.2356 - accuracy: 0.3600\n",
      "Epoch 8/10\n",
      "250/250 [==============================] - 3s 11ms/sample - loss: 2.1291 - accuracy: 0.3440\n",
      "Epoch 9/10\n",
      "250/250 [==============================] - 3s 10ms/sample - loss: 2.0010 - accuracy: 0.3880\n",
      "Epoch 10/10\n",
      "250/250 [==============================] - 3s 11ms/sample - loss: 1.9110 - accuracy: 0.4240\n",
      "Probabilistic CopycatCNN : 0.42170504\n",
      "Train on 250 samples\n",
      "Epoch 1/10\n",
      "250/250 [==============================] - 3s 12ms/sample - loss: 2.9009 - accuracy: 0.2280\n",
      "Epoch 2/10\n",
      "250/250 [==============================] - 3s 10ms/sample - loss: 2.5697 - accuracy: 0.3160\n",
      "Epoch 3/10\n",
      "250/250 [==============================] - 2s 10ms/sample - loss: 2.5203 - accuracy: 0.2760\n",
      "Epoch 4/10\n",
      "250/250 [==============================] - 2s 9ms/sample - loss: 2.4146 - accuracy: 0.3160\n",
      "Epoch 5/10\n",
      "250/250 [==============================] - 3s 10ms/sample - loss: 2.2986 - accuracy: 0.3040\n",
      "Epoch 6/10\n",
      "250/250 [==============================] - 3s 11ms/sample - loss: 2.1263 - accuracy: 0.3800\n",
      "Epoch 7/10\n",
      "250/250 [==============================] - 3s 12ms/sample - loss: 2.0842 - accuracy: 0.3760\n",
      "Epoch 8/10\n",
      "250/250 [==============================] - 3s 11ms/sample - loss: 1.9620 - accuracy: 0.4200\n",
      "Epoch 9/10\n",
      "250/250 [==============================] - 3s 11ms/sample - loss: 1.7543 - accuracy: 0.4560\n",
      "Epoch 10/10\n",
      "250/250 [==============================] - 3s 11ms/sample - loss: 1.6719 - accuracy: 0.4800\n",
      "Argmax CopycatCNN : 0.46445736\n",
      "Probabilistic KnockoffNets : 0.4963319\n",
      "Argmax KnockoffNets : 0.41512775\n",
      "Train on 500 samples\n",
      "Epoch 1/10\n",
      "500/500 [==============================] - 6s 13ms/sample - loss: 2.9048 - accuracy: 0.2240\n",
      "Epoch 2/10\n",
      "500/500 [==============================] - 6s 12ms/sample - loss: 2.6637 - accuracy: 0.2780\n",
      "Epoch 3/10\n",
      "500/500 [==============================] - 6s 12ms/sample - loss: 2.3641 - accuracy: 0.3240\n",
      "Epoch 4/10\n",
      "500/500 [==============================] - 6s 12ms/sample - loss: 2.2496 - accuracy: 0.3320\n",
      "Epoch 5/10\n",
      "500/500 [==============================] - 6s 12ms/sample - loss: 2.0288 - accuracy: 0.4060\n",
      "Epoch 6/10\n",
      "500/500 [==============================] - 6s 12ms/sample - loss: 1.8745 - accuracy: 0.4540\n",
      "Epoch 7/10\n",
      "500/500 [==============================] - 6s 11ms/sample - loss: 1.7120 - accuracy: 0.4900\n",
      "Epoch 8/10\n",
      "500/500 [==============================] - 6s 12ms/sample - loss: 1.5916 - accuracy: 0.5260\n",
      "Epoch 9/10\n",
      "500/500 [==============================] - 6s 13ms/sample - loss: 1.4466 - accuracy: 0.5740\n",
      "Epoch 10/10\n",
      "500/500 [==============================] - 6s 13ms/sample - loss: 1.3416 - accuracy: 0.5900\n",
      "Probabilistic CopycatCNN : 0.5757494\n",
      "Train on 500 samples\n",
      "Epoch 1/10\n",
      "500/500 [==============================] - 7s 13ms/sample - loss: 2.9268 - accuracy: 0.2440\n",
      "Epoch 2/10\n",
      "500/500 [==============================] - 6s 12ms/sample - loss: 2.6179 - accuracy: 0.3220\n",
      "Epoch 3/10\n",
      "500/500 [==============================] - 6s 12ms/sample - loss: 2.3363 - accuracy: 0.3820\n",
      "Epoch 4/10\n",
      "500/500 [==============================] - 6s 13ms/sample - loss: 2.0967 - accuracy: 0.4100\n",
      "Epoch 5/10\n",
      "500/500 [==============================] - 6s 13ms/sample - loss: 1.8973 - accuracy: 0.4480\n",
      "Epoch 6/10\n",
      "500/500 [==============================] - 6s 12ms/sample - loss: 1.7426 - accuracy: 0.4960\n",
      "Epoch 7/10\n",
      "500/500 [==============================] - 6s 12ms/sample - loss: 1.6041 - accuracy: 0.5200\n",
      "Epoch 8/10\n",
      "500/500 [==============================] - 6s 13ms/sample - loss: 1.4642 - accuracy: 0.5660\n",
      "Epoch 9/10\n",
      "500/500 [==============================] - 6s 12ms/sample - loss: 1.3772 - accuracy: 0.5820\n",
      "Epoch 10/10\n",
      "500/500 [==============================] - 6s 13ms/sample - loss: 1.2128 - accuracy: 0.6400\n",
      "Argmax CopycatCNN : 0.5798002\n",
      "Probabilistic KnockoffNets : 0.5166082\n"
     ]
    }
   ],
   "source": [
    "results = []\n",
    "for len_steal in [250, 500, 1000, 2000, 4000, 5000]:\n",
    "    indices = np.random.permutation(len(X_test0))\n",
    "    x_steal = X_test0[indices[:len_steal]]\n",
    "    y_steal = y_test0[indices[:len_steal]]\n",
    "    x_test = X_test0[indices[len_steal:]]\n",
    "    y_test = y_test0[indices[len_steal:]]\n",
    "\n",
    "    for name, attack in attack_catalogue.items():\n",
    "        model_stolen = malware_steal_model()\n",
    "        classifier_stolen = KerasClassifier(model_stolen, clip_values=(0, 1), use_logits=False)\n",
    "        classifier_stolen = attack.extract(x_steal, y_steal, thieved_classifier=classifier_stolen)\n",
    "        acc = classifier_stolen._model.evaluate(x_test, y_test)[1]\n",
    "        print(name, \":\", acc)\n",
    "        results.append((name, len_steal, acc))"
   ]
  },
  {
   "cell_type": "code",
   "execution_count": null,
   "metadata": {},
   "outputs": [],
   "source": []
  }
 ],
 "metadata": {
  "kernelspec": {
   "display_name": "Python 3 (ipykernel)",
   "language": "python",
   "name": "python3"
  },
  "language_info": {
   "codemirror_mode": {
    "name": "ipython",
    "version": 3
   },
   "file_extension": ".py",
   "mimetype": "text/x-python",
   "name": "python",
   "nbconvert_exporter": "python",
   "pygments_lexer": "ipython3",
   "version": "3.9.10"
  }
 },
 "nbformat": 4,
 "nbformat_minor": 4
}

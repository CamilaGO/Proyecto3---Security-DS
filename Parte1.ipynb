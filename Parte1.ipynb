{
 "cells": [
  {
   "cell_type": "code",
   "execution_count": 39,
   "metadata": {},
   "outputs": [],
   "source": [
    "import sys\n",
    "import os\n",
    "from math import log\n",
    "import numpy as np\n",
    "import scipy as sp\n",
    "from PIL import Image\n",
    "import matplotlib.pyplot as plt\n",
    "import joblib\n",
    "import pandas as pd\n",
    "from sklearn.model_selection import train_test_split\n",
    "from art.estimators.classification import KerasClassifier\n",
    "import keras\n",
    "from tensorflow.keras.layers import Input\n",
    "from keras.models import Sequential, Model\n",
    "from keras.layers import Dense, Dropout, Flatten\n",
    "from keras.layers import Conv2D, MaxPooling2D, InputLayer, Reshape\n",
    "from tensorflow.keras.layers import BatchNormalization\n",
    "# from keras.layers.normalization import BatchNormalization\n",
    "import tensorflow as tf\n",
    "from art.attacks import ExtractionAttack\n",
    "from art.attacks.extraction import CopycatCNN, KnockoffNets\n",
    "from art.defences.postprocessor import ReverseSigmoid"
   ]
  },
  {
   "cell_type": "code",
   "execution_count": 2,
   "metadata": {},
   "outputs": [],
   "source": [
    "path_root = \"D:\\\\UVG\\\\9noSemestre\\\\SecurityDataScience\\\\Proyecto3---Security-DS\\\\malimg_dataset\\\\malimg_paper_dataset_imgs\\\\\""
   ]
  },
  {
   "cell_type": "code",
   "execution_count": 3,
   "metadata": {},
   "outputs": [
    {
     "name": "stdout",
     "output_type": "stream",
     "text": [
      "Found 9339 images belonging to 25 classes.\n"
     ]
    }
   ],
   "source": [
    "from keras.preprocessing.image import ImageDataGenerator\n",
    "\n",
    "batches = ImageDataGenerator().flow_from_directory(directory = path_root, target_size = (64, 64), batch_size = 10000)"
   ]
  },
  {
   "cell_type": "code",
   "execution_count": 4,
   "metadata": {},
   "outputs": [],
   "source": [
    "# Usamos next() para recorrer todos los elementos y generar un batch de imagenes y label del data set\n",
    "imgs, labels = next(batches)"
   ]
  },
  {
   "cell_type": "code",
   "execution_count": 5,
   "metadata": {},
   "outputs": [
    {
     "data": {
      "text/plain": [
       "(9339, 64, 64, 3)"
      ]
     },
     "execution_count": 5,
     "metadata": {},
     "output_type": "execute_result"
    }
   ],
   "source": [
    "# nuestras imagenes estan en RGB con formato 64x64 [width x length x depth].\n",
    "imgs.shape"
   ]
  },
  {
   "cell_type": "markdown",
   "metadata": {},
   "source": [
    "# Entrenamiento y prueba\n",
    "Se divide la data en 70% train y 30% test "
   ]
  },
  {
   "cell_type": "code",
   "execution_count": 6,
   "metadata": {},
   "outputs": [],
   "source": [
    "X_train, X_test0, y_train, y_test0 = train_test_split(imgs / 255., labels, test_size = 0.45)"
   ]
  },
  {
   "cell_type": "code",
   "execution_count": 8,
   "metadata": {},
   "outputs": [
    {
     "data": {
      "text/plain": [
       "(5136, 64, 64, 3)"
      ]
     },
     "execution_count": 8,
     "metadata": {},
     "output_type": "execute_result"
    }
   ],
   "source": [
    "X_train.shape"
   ]
  },
  {
   "cell_type": "markdown",
   "metadata": {},
   "source": [
    "# Modelo de Red Neural Convolutional"
   ]
  },
  {
   "cell_type": "code",
   "execution_count": 9,
   "metadata": {},
   "outputs": [],
   "source": [
    "num_classes = 25\n",
    "\n",
    "def malware_model():\n",
    "    Malware_model = Sequential()\n",
    "    Malware_model.add(Conv2D(30, kernel_size=(3, 3),\n",
    "                     activation='relu',\n",
    "                     input_shape=(64,64,3)))\n",
    "\n",
    "    Malware_model.add(MaxPooling2D(pool_size=(2, 2)))\n",
    "    Malware_model.add(Conv2D(15, (3, 3), activation='relu'))\n",
    "    Malware_model.add(MaxPooling2D(pool_size=(2, 2)))\n",
    "    Malware_model.add(Dropout(0.25))\n",
    "    Malware_model.add(Flatten())\n",
    "    Malware_model.add(Dense(128, activation='relu'))\n",
    "    Malware_model.add(Dropout(0.5))\n",
    "    Malware_model.add(Dense(50, activation='relu'))\n",
    "    Malware_model.add(Dense(num_classes, activation='softmax'))\n",
    "    Malware_model.compile(loss='categorical_crossentropy', optimizer = 'adam', metrics=['accuracy'])\n",
    "    return Malware_model"
   ]
  },
  {
   "cell_type": "code",
   "execution_count": 10,
   "metadata": {},
   "outputs": [],
   "source": [
    "Malware_model = malware_model()"
   ]
  },
  {
   "cell_type": "code",
   "execution_count": 11,
   "metadata": {},
   "outputs": [
    {
     "name": "stdout",
     "output_type": "stream",
     "text": [
      "Model: \"sequential\"\n",
      "_________________________________________________________________\n",
      " Layer (type)                Output Shape              Param #   \n",
      "=================================================================\n",
      " conv2d (Conv2D)             (None, 62, 62, 30)        840       \n",
      "                                                                 \n",
      " max_pooling2d (MaxPooling2D  (None, 31, 31, 30)       0         \n",
      " )                                                               \n",
      "                                                                 \n",
      " conv2d_1 (Conv2D)           (None, 29, 29, 15)        4065      \n",
      "                                                                 \n",
      " max_pooling2d_1 (MaxPooling  (None, 14, 14, 15)       0         \n",
      " 2D)                                                             \n",
      "                                                                 \n",
      " dropout (Dropout)           (None, 14, 14, 15)        0         \n",
      "                                                                 \n",
      " flatten (Flatten)           (None, 2940)              0         \n",
      "                                                                 \n",
      " dense (Dense)               (None, 128)               376448    \n",
      "                                                                 \n",
      " dropout_1 (Dropout)         (None, 128)               0         \n",
      "                                                                 \n",
      " dense_1 (Dense)             (None, 50)                6450      \n",
      "                                                                 \n",
      " dense_2 (Dense)             (None, 25)                1275      \n",
      "                                                                 \n",
      "=================================================================\n",
      "Total params: 389,078\n",
      "Trainable params: 389,078\n",
      "Non-trainable params: 0\n",
      "_________________________________________________________________\n"
     ]
    }
   ],
   "source": [
    "Malware_model.summary()"
   ]
  },
  {
   "cell_type": "code",
   "execution_count": 12,
   "metadata": {},
   "outputs": [
    {
     "data": {
      "text/plain": [
       "(5136, 25)"
      ]
     },
     "execution_count": 12,
     "metadata": {},
     "output_type": "execute_result"
    }
   ],
   "source": [
    "y_train.shape"
   ]
  },
  {
   "cell_type": "code",
   "execution_count": 13,
   "metadata": {},
   "outputs": [
    {
     "data": {
      "text/plain": [
       "array([16,  3,  2, ..., 22, 24,  8], dtype=int64)"
      ]
     },
     "execution_count": 13,
     "metadata": {},
     "output_type": "execute_result"
    }
   ],
   "source": [
    "y_train_new = np.argmax(y_train, axis=1)\n",
    "y_train_new"
   ]
  },
  {
   "cell_type": "code",
   "execution_count": 14,
   "metadata": {},
   "outputs": [
    {
     "name": "stdout",
     "output_type": "stream",
     "text": [
      "Epoch 1/10\n",
      "161/161 [==============================] - 9s 56ms/step - loss: 1.8234 - accuracy: 0.4603 - val_loss: 0.9919 - val_accuracy: 0.6431\n",
      "Epoch 2/10\n",
      "161/161 [==============================] - 8s 52ms/step - loss: 0.9679 - accuracy: 0.6690 - val_loss: 0.5809 - val_accuracy: 0.8153\n",
      "Epoch 3/10\n",
      "161/161 [==============================] - 8s 52ms/step - loss: 0.6552 - accuracy: 0.7833 - val_loss: 0.3607 - val_accuracy: 0.9016\n",
      "Epoch 4/10\n",
      "161/161 [==============================] - 8s 51ms/step - loss: 0.4468 - accuracy: 0.8571 - val_loss: 0.2317 - val_accuracy: 0.9240\n",
      "Epoch 5/10\n",
      "161/161 [==============================] - 8s 51ms/step - loss: 0.3508 - accuracy: 0.8910 - val_loss: 0.1929 - val_accuracy: 0.9311\n",
      "Epoch 6/10\n",
      "161/161 [==============================] - 9s 54ms/step - loss: 0.2756 - accuracy: 0.9132 - val_loss: 0.1689 - val_accuracy: 0.9478\n",
      "Epoch 7/10\n",
      "161/161 [==============================] - 9s 54ms/step - loss: 0.2437 - accuracy: 0.9206 - val_loss: 0.1550 - val_accuracy: 0.9528\n",
      "Epoch 8/10\n",
      "161/161 [==============================] - 8s 52ms/step - loss: 0.2245 - accuracy: 0.9272 - val_loss: 0.1673 - val_accuracy: 0.9503\n",
      "Epoch 9/10\n",
      "161/161 [==============================] - 8s 52ms/step - loss: 0.2210 - accuracy: 0.9276 - val_loss: 0.1529 - val_accuracy: 0.9510\n",
      "Epoch 10/10\n",
      "161/161 [==============================] - 8s 52ms/step - loss: 0.1914 - accuracy: 0.9404 - val_loss: 0.1368 - val_accuracy: 0.9556\n"
     ]
    },
    {
     "data": {
      "text/plain": [
       "<keras.callbacks.History at 0x2244e56fbe0>"
      ]
     },
     "execution_count": 14,
     "metadata": {},
     "output_type": "execute_result"
    }
   ],
   "source": [
    "Malware_model.fit(X_train, y_train, validation_data=(X_test0, y_test0), epochs=10)"
   ]
  },
  {
   "cell_type": "code",
   "execution_count": 15,
   "metadata": {},
   "outputs": [
    {
     "name": "stdout",
     "output_type": "stream",
     "text": [
      "88/88 [==============================] - 1s 10ms/step - loss: 0.1368 - accuracy: 0.9556\n"
     ]
    }
   ],
   "source": [
    "scores = Malware_model.evaluate(X_test0, y_test0)"
   ]
  },
  {
   "cell_type": "code",
   "execution_count": 16,
   "metadata": {},
   "outputs": [
    {
     "name": "stdout",
     "output_type": "stream",
     "text": [
      "Accuracy final CNN:  0.9556108117103577\n"
     ]
    }
   ],
   "source": [
    "print('Accuracy final CNN: ', scores[1])\n",
    "# Fue bastante alto el acc obtenido"
   ]
  },
  {
   "cell_type": "code",
   "execution_count": 17,
   "metadata": {},
   "outputs": [],
   "source": [
    "# se guarda el modelo \n",
    "Malware_model.save('malware-listo-model.h5')"
   ]
  },
  {
   "cell_type": "code",
   "execution_count": 18,
   "metadata": {},
   "outputs": [],
   "source": [
    "if tf.executing_eagerly():\n",
    "    tf.compat.v1.disable_eager_execution()"
   ]
  },
  {
   "cell_type": "code",
   "execution_count": 19,
   "metadata": {},
   "outputs": [],
   "source": [
    "# Recrea exactamente el mismo modelo solo desde el archivo\n",
    "malware_model = keras.models.load_model('malware-listo-model.h5')"
   ]
  },
  {
   "cell_type": "code",
   "execution_count": 20,
   "metadata": {},
   "outputs": [],
   "source": [
    "classifier_original = KerasClassifier(malware_model, clip_values=(0, 1), use_logits=False)"
   ]
  },
  {
   "cell_type": "code",
   "execution_count": 25,
   "metadata": {},
   "outputs": [],
   "source": [
    "num_epochs = 10\n",
    "len_steal = 5000\n",
    "# Stealing from the unprotected classifier.\n",
    "attack_catalogue = {\"Probabilistic CopycatCNN\": CopycatCNN(classifier=classifier_original,\n",
    "                                              batch_size_fit=64,\n",
    "                                              batch_size_query=64,\n",
    "                                              nb_epochs=num_epochs,\n",
    "                                              nb_stolen=len_steal,\n",
    "                                              use_probability=True),\n",
    "                    \"Argmax CopycatCNN\": CopycatCNN(classifier=classifier_original,\n",
    "                                              batch_size_fit=64,\n",
    "                                              batch_size_query=64,\n",
    "                                              nb_epochs=num_epochs,\n",
    "                                              nb_stolen=len_steal,\n",
    "                                              use_probability=False),\n",
    "                    \"Probabilistic KnockoffNets\": KnockoffNets(classifier=classifier_original,\n",
    "                                              batch_size_fit=64,\n",
    "                                              batch_size_query=64,\n",
    "                                              nb_epochs=num_epochs,\n",
    "                                              nb_stolen=len_steal,\n",
    "                                              use_probability=True),\n",
    "                    \"Argmax KnockoffNets\": KnockoffNets(classifier=classifier_original,\n",
    "                                              batch_size_fit=64,\n",
    "                                              batch_size_query=64,\n",
    "                                              nb_epochs=num_epochs,\n",
    "                                              nb_stolen=len_steal,\n",
    "                                              use_probability=False),\n",
    "                   }"
   ]
  },
  {
   "cell_type": "code",
   "execution_count": 30,
   "metadata": {},
   "outputs": [],
   "source": [
    "def malware_steal_model():\n",
    "    Malware_model = Sequential(Conv2D(30, kernel_size=(3, 3),\n",
    "                     activation='relu',\n",
    "                     input_shape=(64,64,3)))\n",
    "   \n",
    "    Malware_model.add(MaxPooling2D(pool_size=(2, 2)))\n",
    "    Malware_model.add(Conv2D(15, (3, 3), activation='relu'))\n",
    "    Malware_model.add(MaxPooling2D(pool_size=(2, 2)))\n",
    "    Malware_model.add(Dropout(0.25))\n",
    "    Malware_model.add(Flatten())\n",
    "    Malware_model.add(Dense(128, activation='relu'))\n",
    "    Malware_model.add(Dropout(0.5))\n",
    "    Malware_model.add(Dense(50, activation='relu'))\n",
    "    Malware_model.add(Dense(num_classes, activation='softmax'))\n",
    "    Malware_model.compile(loss='categorical_crossentropy', optimizer = 'adam', metrics=['accuracy'])\n",
    "    return Malware_model"
   ]
  },
  {
   "cell_type": "code",
   "execution_count": 32,
   "metadata": {},
   "outputs": [
    {
     "name": "stdout",
     "output_type": "stream",
     "text": [
      "Train on 250 samples\n",
      "Epoch 1/10\n",
      "250/250 [==============================] - 3s 12ms/sample - loss: 2.9509 - accuracy: 0.2280\n",
      "Epoch 2/10\n",
      "250/250 [==============================] - 3s 11ms/sample - loss: 2.6873 - accuracy: 0.2880\n",
      "Epoch 3/10\n",
      "250/250 [==============================] - 3s 11ms/sample - loss: 2.5835 - accuracy: 0.2240\n",
      "Epoch 4/10\n",
      "250/250 [==============================] - 3s 11ms/sample - loss: 2.4912 - accuracy: 0.2880\n",
      "Epoch 5/10\n",
      "250/250 [==============================] - 3s 11ms/sample - loss: 2.3880 - accuracy: 0.3280\n",
      "Epoch 6/10\n",
      "250/250 [==============================] - 3s 11ms/sample - loss: 2.3663 - accuracy: 0.3280\n",
      "Epoch 7/10\n",
      "250/250 [==============================] - 3s 10ms/sample - loss: 2.2356 - accuracy: 0.3600\n",
      "Epoch 8/10\n",
      "250/250 [==============================] - 3s 11ms/sample - loss: 2.1291 - accuracy: 0.3440\n",
      "Epoch 9/10\n",
      "250/250 [==============================] - 3s 10ms/sample - loss: 2.0010 - accuracy: 0.3880\n",
      "Epoch 10/10\n",
      "250/250 [==============================] - 3s 11ms/sample - loss: 1.9110 - accuracy: 0.4240\n",
      "Probabilistic CopycatCNN : 0.42170504\n",
      "Train on 250 samples\n",
      "Epoch 1/10\n",
      "250/250 [==============================] - 3s 12ms/sample - loss: 2.9009 - accuracy: 0.2280\n",
      "Epoch 2/10\n",
      "250/250 [==============================] - 3s 10ms/sample - loss: 2.5697 - accuracy: 0.3160\n",
      "Epoch 3/10\n",
      "250/250 [==============================] - 2s 10ms/sample - loss: 2.5203 - accuracy: 0.2760\n",
      "Epoch 4/10\n",
      "250/250 [==============================] - 2s 9ms/sample - loss: 2.4146 - accuracy: 0.3160\n",
      "Epoch 5/10\n",
      "250/250 [==============================] - 3s 10ms/sample - loss: 2.2986 - accuracy: 0.3040\n",
      "Epoch 6/10\n",
      "250/250 [==============================] - 3s 11ms/sample - loss: 2.1263 - accuracy: 0.3800\n",
      "Epoch 7/10\n",
      "250/250 [==============================] - 3s 12ms/sample - loss: 2.0842 - accuracy: 0.3760\n",
      "Epoch 8/10\n",
      "250/250 [==============================] - 3s 11ms/sample - loss: 1.9620 - accuracy: 0.4200\n",
      "Epoch 9/10\n",
      "250/250 [==============================] - 3s 11ms/sample - loss: 1.7543 - accuracy: 0.4560\n",
      "Epoch 10/10\n",
      "250/250 [==============================] - 3s 11ms/sample - loss: 1.6719 - accuracy: 0.4800\n",
      "Argmax CopycatCNN : 0.46445736\n",
      "Probabilistic KnockoffNets : 0.4963319\n",
      "Argmax KnockoffNets : 0.41512775\n",
      "Train on 500 samples\n",
      "Epoch 1/10\n",
      "500/500 [==============================] - 6s 13ms/sample - loss: 2.9048 - accuracy: 0.2240\n",
      "Epoch 2/10\n",
      "500/500 [==============================] - 6s 12ms/sample - loss: 2.6637 - accuracy: 0.2780\n",
      "Epoch 3/10\n",
      "500/500 [==============================] - 6s 12ms/sample - loss: 2.3641 - accuracy: 0.3240\n",
      "Epoch 4/10\n",
      "500/500 [==============================] - 6s 12ms/sample - loss: 2.2496 - accuracy: 0.3320\n",
      "Epoch 5/10\n",
      "500/500 [==============================] - 6s 12ms/sample - loss: 2.0288 - accuracy: 0.4060\n",
      "Epoch 6/10\n",
      "500/500 [==============================] - 6s 12ms/sample - loss: 1.8745 - accuracy: 0.4540\n",
      "Epoch 7/10\n",
      "500/500 [==============================] - 6s 11ms/sample - loss: 1.7120 - accuracy: 0.4900\n",
      "Epoch 8/10\n",
      "500/500 [==============================] - 6s 12ms/sample - loss: 1.5916 - accuracy: 0.5260\n",
      "Epoch 9/10\n",
      "500/500 [==============================] - 6s 13ms/sample - loss: 1.4466 - accuracy: 0.5740\n",
      "Epoch 10/10\n",
      "500/500 [==============================] - 6s 13ms/sample - loss: 1.3416 - accuracy: 0.5900\n",
      "Probabilistic CopycatCNN : 0.5757494\n",
      "Train on 500 samples\n",
      "Epoch 1/10\n",
      "500/500 [==============================] - 7s 13ms/sample - loss: 2.9268 - accuracy: 0.2440\n",
      "Epoch 2/10\n",
      "500/500 [==============================] - 6s 12ms/sample - loss: 2.6179 - accuracy: 0.3220\n",
      "Epoch 3/10\n",
      "500/500 [==============================] - 6s 12ms/sample - loss: 2.3363 - accuracy: 0.3820\n",
      "Epoch 4/10\n",
      "500/500 [==============================] - 6s 13ms/sample - loss: 2.0967 - accuracy: 0.4100\n",
      "Epoch 5/10\n",
      "500/500 [==============================] - 6s 13ms/sample - loss: 1.8973 - accuracy: 0.4480\n",
      "Epoch 6/10\n",
      "500/500 [==============================] - 6s 12ms/sample - loss: 1.7426 - accuracy: 0.4960\n",
      "Epoch 7/10\n",
      "500/500 [==============================] - 6s 12ms/sample - loss: 1.6041 - accuracy: 0.5200\n",
      "Epoch 8/10\n",
      "500/500 [==============================] - 6s 13ms/sample - loss: 1.4642 - accuracy: 0.5660\n",
      "Epoch 9/10\n",
      "500/500 [==============================] - 6s 12ms/sample - loss: 1.3772 - accuracy: 0.5820\n",
      "Epoch 10/10\n",
      "500/500 [==============================] - 6s 13ms/sample - loss: 1.2128 - accuracy: 0.6400\n",
      "Argmax CopycatCNN : 0.5798002\n",
      "Probabilistic KnockoffNets : 0.5166082\n",
      "Argmax KnockoffNets : 0.5814205\n",
      "Train on 1000 samples\n",
      "Epoch 1/10\n",
      "1000/1000 [==============================] - 14s 14ms/sample - loss: 2.7883 - accuracy: 0.2670\n",
      "Epoch 2/10\n",
      "1000/1000 [==============================] - 13s 13ms/sample - loss: 2.4101 - accuracy: 0.3280\n",
      "Epoch 3/10\n",
      "1000/1000 [==============================] - 13s 13ms/sample - loss: 2.0078 - accuracy: 0.4250\n",
      "Epoch 4/10\n",
      "1000/1000 [==============================] - 13s 13ms/sample - loss: 1.7321 - accuracy: 0.5070\n",
      "Epoch 5/10\n",
      "1000/1000 [==============================] - 13s 13ms/sample - loss: 1.4889 - accuracy: 0.5190\n",
      "Epoch 6/10\n",
      "1000/1000 [==============================] - 13s 13ms/sample - loss: 1.3222 - accuracy: 0.5750\n",
      "Epoch 7/10\n",
      "1000/1000 [==============================] - 13s 13ms/sample - loss: 1.1274 - accuracy: 0.6490\n",
      "Epoch 8/10\n",
      "1000/1000 [==============================] - 12s 12ms/sample - loss: 0.9977 - accuracy: 0.6890\n",
      "Epoch 9/10\n",
      "1000/1000 [==============================] - 13s 13ms/sample - loss: 0.9192 - accuracy: 0.6990\n",
      "Epoch 10/10\n",
      "1000/1000 [==============================] - 13s 13ms/sample - loss: 0.8167 - accuracy: 0.7410\n",
      "Probabilistic CopycatCNN : 0.71589136\n",
      "Train on 1000 samples\n",
      "Epoch 1/10\n",
      "1000/1000 [==============================] - 14s 14ms/sample - loss: 2.8214 - accuracy: 0.2550\n",
      "Epoch 2/10\n",
      "1000/1000 [==============================] - 14s 14ms/sample - loss: 2.4268 - accuracy: 0.3520\n",
      "Epoch 3/10\n",
      "1000/1000 [==============================] - 13s 13ms/sample - loss: 2.0479 - accuracy: 0.4290\n",
      "Epoch 4/10\n",
      "1000/1000 [==============================] - 14s 14ms/sample - loss: 1.7352 - accuracy: 0.4770\n",
      "Epoch 5/10\n",
      "1000/1000 [==============================] - 14s 14ms/sample - loss: 1.5121 - accuracy: 0.5090\n",
      "Epoch 6/10\n",
      "1000/1000 [==============================] - 14s 14ms/sample - loss: 1.3348 - accuracy: 0.5560\n",
      "Epoch 7/10\n",
      "1000/1000 [==============================] - 13s 13ms/sample - loss: 1.1618 - accuracy: 0.6320\n",
      "Epoch 8/10\n",
      "1000/1000 [==============================] - 13s 13ms/sample - loss: 1.0051 - accuracy: 0.6620\n",
      "Epoch 9/10\n",
      "1000/1000 [==============================] - 13s 13ms/sample - loss: 0.9160 - accuracy: 0.6860\n",
      "Epoch 10/10\n",
      "1000/1000 [==============================] - 12s 12ms/sample - loss: 0.9298 - accuracy: 0.6850\n",
      "Argmax CopycatCNN : 0.79737747\n",
      "Probabilistic KnockoffNets : 0.74586326\n",
      "Argmax KnockoffNets : 0.6871683\n",
      "Train on 2000 samples\n",
      "Epoch 1/10\n",
      "2000/2000 [==============================] - 32s 16ms/sample - loss: 2.4464 - accuracy: 0.3250\n",
      "Epoch 2/10\n",
      "2000/2000 [==============================] - 30s 15ms/sample - loss: 1.7227 - accuracy: 0.4845\n",
      "Epoch 3/10\n",
      "2000/2000 [==============================] - 31s 15ms/sample - loss: 1.2935 - accuracy: 0.5820\n",
      "Epoch 4/10\n",
      "2000/2000 [==============================] - 31s 16ms/sample - loss: 1.0198 - accuracy: 0.6575\n",
      "Epoch 5/10\n",
      "2000/2000 [==============================] - 31s 15ms/sample - loss: 0.8165 - accuracy: 0.7290\n",
      "Epoch 6/10\n",
      "2000/2000 [==============================] - 31s 15ms/sample - loss: 0.7102 - accuracy: 0.7595\n",
      "Epoch 7/10\n",
      "2000/2000 [==============================] - 31s 16ms/sample - loss: 0.6341 - accuracy: 0.7885\n",
      "Epoch 8/10\n",
      "2000/2000 [==============================] - 31s 15ms/sample - loss: 0.5862 - accuracy: 0.8120\n",
      "Epoch 9/10\n",
      "2000/2000 [==============================] - 31s 15ms/sample - loss: 0.5144 - accuracy: 0.8415\n",
      "Epoch 10/10\n",
      "2000/2000 [==============================] - 30s 15ms/sample - loss: 0.4404 - accuracy: 0.8830\n",
      "Probabilistic CopycatCNN : 0.8937812\n",
      "Train on 2000 samples\n",
      "Epoch 1/10\n",
      "2000/2000 [==============================] - 31s 15ms/sample - loss: 2.6225 - accuracy: 0.3090\n",
      "Epoch 2/10\n",
      "2000/2000 [==============================] - 29s 15ms/sample - loss: 1.9919 - accuracy: 0.4165\n",
      "Epoch 3/10\n",
      "2000/2000 [==============================] - 29s 14ms/sample - loss: 1.5863 - accuracy: 0.5020\n",
      "Epoch 4/10\n",
      "2000/2000 [==============================] - 29s 14ms/sample - loss: 1.2190 - accuracy: 0.5975\n",
      "Epoch 5/10\n",
      "2000/2000 [==============================] - 29s 15ms/sample - loss: 1.0118 - accuracy: 0.6570\n",
      "Epoch 6/10\n",
      "2000/2000 [==============================] - 29s 15ms/sample - loss: 0.8627 - accuracy: 0.7045\n",
      "Epoch 7/10\n",
      "2000/2000 [==============================] - 29s 15ms/sample - loss: 0.7206 - accuracy: 0.7555\n",
      "Epoch 8/10\n",
      "2000/2000 [==============================] - 30s 15ms/sample - loss: 0.6637 - accuracy: 0.7785\n",
      "Epoch 9/10\n",
      "2000/2000 [==============================] - 32s 16ms/sample - loss: 0.5429 - accuracy: 0.8185\n",
      "Epoch 10/10\n",
      "2000/2000 [==============================] - 30s 15ms/sample - loss: 0.4682 - accuracy: 0.8525\n",
      "Argmax CopycatCNN : 0.8969587\n",
      "Probabilistic KnockoffNets : 0.901044\n",
      "Argmax KnockoffNets : 0.9001362\n",
      "Train on 4000 samples\n",
      "Epoch 1/10\n",
      "4000/4000 [==============================] - 69s 17ms/sample - loss: 2.2819 - accuracy: 0.3632\n",
      "Epoch 2/10\n",
      "4000/4000 [==============================] - 69s 17ms/sample - loss: 1.3535 - accuracy: 0.5660\n",
      "Epoch 3/10\n",
      "4000/4000 [==============================] - 69s 17ms/sample - loss: 0.9413 - accuracy: 0.7045\n",
      "Epoch 4/10\n",
      "4000/4000 [==============================] - 68s 17ms/sample - loss: 0.6583 - accuracy: 0.8175\n",
      "Epoch 5/10\n",
      "4000/4000 [==============================] - 65s 16ms/sample - loss: 0.4982 - accuracy: 0.8705\n",
      "Epoch 6/10\n",
      "4000/4000 [==============================] - 67s 17ms/sample - loss: 0.4125 - accuracy: 0.8923\n",
      "Epoch 7/10\n",
      "4000/4000 [==============================] - 67s 17ms/sample - loss: 0.3806 - accuracy: 0.9005\n",
      "Epoch 8/10\n",
      "4000/4000 [==============================] - 66s 17ms/sample - loss: 0.3154 - accuracy: 0.9287\n",
      "Epoch 9/10\n",
      "4000/4000 [==============================] - 66s 16ms/sample - loss: 0.2934 - accuracy: 0.9290\n",
      "Epoch 10/10\n",
      "4000/4000 [==============================] - 67s 17ms/sample - loss: 0.2657 - accuracy: 0.9367\n",
      "Probabilistic CopycatCNN : 0.97044337\n",
      "Train on 4000 samples\n",
      "Epoch 1/10\n",
      "4000/4000 [==============================] - 68s 17ms/sample - loss: 2.2325 - accuracy: 0.3635\n",
      "Epoch 2/10\n",
      "4000/4000 [==============================] - 67s 17ms/sample - loss: 1.2493 - accuracy: 0.5788\n",
      "Epoch 3/10\n",
      "4000/4000 [==============================] - 65s 16ms/sample - loss: 0.8339 - accuracy: 0.7120\n",
      "Epoch 4/10\n",
      "4000/4000 [==============================] - 66s 16ms/sample - loss: 0.6307 - accuracy: 0.7850\n",
      "Epoch 5/10\n",
      "4000/4000 [==============================] - 68s 17ms/sample - loss: 0.4578 - accuracy: 0.8543\n",
      "Epoch 6/10\n",
      "4000/4000 [==============================] - 66s 16ms/sample - loss: 0.3427 - accuracy: 0.8895\n",
      "Epoch 7/10\n",
      "4000/4000 [==============================] - 68s 17ms/sample - loss: 0.2832 - accuracy: 0.9100\n",
      "Epoch 8/10\n",
      "4000/4000 [==============================] - 69s 17ms/sample - loss: 0.2251 - accuracy: 0.9283\n",
      "Epoch 9/10\n",
      "4000/4000 [==============================] - 69s 17ms/sample - loss: 0.2097 - accuracy: 0.9325\n",
      "Epoch 10/10\n",
      "4000/4000 [==============================] - 69s 17ms/sample - loss: 0.1841 - accuracy: 0.9433\n",
      "Argmax CopycatCNN : 0.9655172\n",
      "Probabilistic KnockoffNets : 0.9507389\n",
      "Argmax KnockoffNets : 0.9655172\n",
      "Train on 4203 samples\n",
      "Epoch 1/10\n",
      "4203/4203 [==============================] - 59s 14ms/sample - loss: 2.2833 - accuracy: 0.3628\n",
      "Epoch 2/10\n",
      "4203/4203 [==============================] - 57s 14ms/sample - loss: 1.2948 - accuracy: 0.6020\n",
      "Epoch 3/10\n",
      "4203/4203 [==============================] - 60s 14ms/sample - loss: 0.8696 - accuracy: 0.7223\n",
      "Epoch 4/10\n",
      "4203/4203 [==============================] - 61s 14ms/sample - loss: 0.6312 - accuracy: 0.8139\n",
      "Epoch 5/10\n",
      "4203/4203 [==============================] - 59s 14ms/sample - loss: 0.4816 - accuracy: 0.8732\n",
      "Epoch 6/10\n",
      "4203/4203 [==============================] - 49s 12ms/sample - loss: 0.3875 - accuracy: 0.9058\n",
      "Epoch 7/10\n",
      "4203/4203 [==============================] - 52s 12ms/sample - loss: 0.3521 - accuracy: 0.9110\n",
      "Epoch 8/10\n",
      "3456/4203 [=======================>......] - ETA: 12s - loss: 0.3198 - accuracy: 0.9242"
     ]
    },
    {
     "ename": "KeyboardInterrupt",
     "evalue": "",
     "output_type": "error",
     "traceback": [
      "\u001b[1;31m---------------------------------------------------------------------------\u001b[0m",
      "\u001b[1;31mKeyboardInterrupt\u001b[0m                         Traceback (most recent call last)",
      "Input \u001b[1;32mIn [32]\u001b[0m, in \u001b[0;36m<module>\u001b[1;34m\u001b[0m\n\u001b[0;32m     10\u001b[0m model_stolen \u001b[38;5;241m=\u001b[39m malware_steal_model()\n\u001b[0;32m     11\u001b[0m classifier_stolen \u001b[38;5;241m=\u001b[39m KerasClassifier(model_stolen, clip_values\u001b[38;5;241m=\u001b[39m(\u001b[38;5;241m0\u001b[39m, \u001b[38;5;241m1\u001b[39m), use_logits\u001b[38;5;241m=\u001b[39m\u001b[38;5;28;01mFalse\u001b[39;00m)\n\u001b[1;32m---> 12\u001b[0m classifier_stolen \u001b[38;5;241m=\u001b[39m \u001b[43mattack\u001b[49m\u001b[38;5;241;43m.\u001b[39;49m\u001b[43mextract\u001b[49m\u001b[43m(\u001b[49m\u001b[43mx_steal\u001b[49m\u001b[43m,\u001b[49m\u001b[43m \u001b[49m\u001b[43my_steal\u001b[49m\u001b[43m,\u001b[49m\u001b[43m \u001b[49m\u001b[43mthieved_classifier\u001b[49m\u001b[38;5;241;43m=\u001b[39;49m\u001b[43mclassifier_stolen\u001b[49m\u001b[43m)\u001b[49m\n\u001b[0;32m     13\u001b[0m acc \u001b[38;5;241m=\u001b[39m classifier_stolen\u001b[38;5;241m.\u001b[39m_model\u001b[38;5;241m.\u001b[39mevaluate(x_test, y_test)[\u001b[38;5;241m1\u001b[39m]\n\u001b[0;32m     14\u001b[0m \u001b[38;5;28mprint\u001b[39m(name, \u001b[38;5;124m\"\u001b[39m\u001b[38;5;124m:\u001b[39m\u001b[38;5;124m\"\u001b[39m, acc)\n",
      "File \u001b[1;32m~\\AppData\\Local\\Programs\\Python\\Python39\\lib\\site-packages\\art\\attacks\\extraction\\copycat_cnn.py:119\u001b[0m, in \u001b[0;36mCopycatCNN.extract\u001b[1;34m(self, x, y, **kwargs)\u001b[0m\n\u001b[0;32m    116\u001b[0m fake_labels \u001b[38;5;241m=\u001b[39m \u001b[38;5;28mself\u001b[39m\u001b[38;5;241m.\u001b[39m_query_label(selected_x)\n\u001b[0;32m    118\u001b[0m \u001b[38;5;66;03m# Train the thieved classifier\u001b[39;00m\n\u001b[1;32m--> 119\u001b[0m \u001b[43mthieved_classifier\u001b[49m\u001b[38;5;241;43m.\u001b[39;49m\u001b[43mfit\u001b[49m\u001b[43m(\u001b[49m\u001b[43m  \u001b[49m\u001b[38;5;66;43;03m# type: ignore\u001b[39;49;00m\n\u001b[0;32m    120\u001b[0m \u001b[43m    \u001b[49m\u001b[43mx\u001b[49m\u001b[38;5;241;43m=\u001b[39;49m\u001b[43mselected_x\u001b[49m\u001b[43m,\u001b[49m\n\u001b[0;32m    121\u001b[0m \u001b[43m    \u001b[49m\u001b[43my\u001b[49m\u001b[38;5;241;43m=\u001b[39;49m\u001b[43mfake_labels\u001b[49m\u001b[43m,\u001b[49m\n\u001b[0;32m    122\u001b[0m \u001b[43m    \u001b[49m\u001b[43mbatch_size\u001b[49m\u001b[38;5;241;43m=\u001b[39;49m\u001b[38;5;28;43mself\u001b[39;49m\u001b[38;5;241;43m.\u001b[39;49m\u001b[43mbatch_size_fit\u001b[49m\u001b[43m,\u001b[49m\n\u001b[0;32m    123\u001b[0m \u001b[43m    \u001b[49m\u001b[43mnb_epochs\u001b[49m\u001b[38;5;241;43m=\u001b[39;49m\u001b[38;5;28;43mself\u001b[39;49m\u001b[38;5;241;43m.\u001b[39;49m\u001b[43mnb_epochs\u001b[49m\u001b[43m,\u001b[49m\n\u001b[0;32m    124\u001b[0m \u001b[43m\u001b[49m\u001b[43m)\u001b[49m\n\u001b[0;32m    126\u001b[0m \u001b[38;5;28;01mreturn\u001b[39;00m thieved_classifier\n",
      "File \u001b[1;32m~\\AppData\\Local\\Programs\\Python\\Python39\\lib\\site-packages\\art\\estimators\\classification\\classifier.py:71\u001b[0m, in \u001b[0;36mInputFilter.__init__.<locals>.make_replacement.<locals>.replacement_function\u001b[1;34m(self, *args, **kwargs)\u001b[0m\n\u001b[0;32m     69\u001b[0m \u001b[38;5;28;01mif\u001b[39;00m \u001b[38;5;28mlen\u001b[39m(args) \u001b[38;5;241m>\u001b[39m \u001b[38;5;241m0\u001b[39m:\n\u001b[0;32m     70\u001b[0m     args \u001b[38;5;241m=\u001b[39m \u001b[38;5;28mtuple\u001b[39m(lst)\n\u001b[1;32m---> 71\u001b[0m \u001b[38;5;28;01mreturn\u001b[39;00m fdict[func_name](\u001b[38;5;28mself\u001b[39m, \u001b[38;5;241m*\u001b[39margs, \u001b[38;5;241m*\u001b[39m\u001b[38;5;241m*\u001b[39mkwargs)\n",
      "File \u001b[1;32m~\\AppData\\Local\\Programs\\Python\\Python39\\lib\\site-packages\\art\\estimators\\classification\\keras.py:575\u001b[0m, in \u001b[0;36mKerasClassifier.fit\u001b[1;34m(self, x, y, batch_size, nb_epochs, **kwargs)\u001b[0m\n\u001b[0;32m    572\u001b[0m \u001b[38;5;28;01mif\u001b[39;00m \u001b[38;5;28mself\u001b[39m\u001b[38;5;241m.\u001b[39m_reduce_labels \u001b[38;5;129;01mor\u001b[39;00m y_ndim \u001b[38;5;241m==\u001b[39m \u001b[38;5;241m1\u001b[39m:\n\u001b[0;32m    573\u001b[0m     y_preprocessed \u001b[38;5;241m=\u001b[39m np\u001b[38;5;241m.\u001b[39margmax(y_preprocessed, axis\u001b[38;5;241m=\u001b[39m\u001b[38;5;241m1\u001b[39m)\n\u001b[1;32m--> 575\u001b[0m \u001b[38;5;28mself\u001b[39m\u001b[38;5;241m.\u001b[39m_model\u001b[38;5;241m.\u001b[39mfit(x\u001b[38;5;241m=\u001b[39mx_preprocessed, y\u001b[38;5;241m=\u001b[39my_preprocessed, batch_size\u001b[38;5;241m=\u001b[39mbatch_size, epochs\u001b[38;5;241m=\u001b[39mnb_epochs, \u001b[38;5;241m*\u001b[39m\u001b[38;5;241m*\u001b[39mkwargs)\n",
      "File \u001b[1;32m~\\AppData\\Local\\Programs\\Python\\Python39\\lib\\site-packages\\keras\\engine\\training_v1.py:776\u001b[0m, in \u001b[0;36mModel.fit\u001b[1;34m(self, x, y, batch_size, epochs, verbose, callbacks, validation_split, validation_data, shuffle, class_weight, sample_weight, initial_epoch, steps_per_epoch, validation_steps, validation_freq, max_queue_size, workers, use_multiprocessing, **kwargs)\u001b[0m\n\u001b[0;32m    773\u001b[0m \u001b[38;5;28mself\u001b[39m\u001b[38;5;241m.\u001b[39m_check_call_args(\u001b[38;5;124m'\u001b[39m\u001b[38;5;124mfit\u001b[39m\u001b[38;5;124m'\u001b[39m)\n\u001b[0;32m    775\u001b[0m func \u001b[38;5;241m=\u001b[39m \u001b[38;5;28mself\u001b[39m\u001b[38;5;241m.\u001b[39m_select_training_loop(x)\n\u001b[1;32m--> 776\u001b[0m \u001b[38;5;28;01mreturn\u001b[39;00m \u001b[43mfunc\u001b[49m\u001b[38;5;241;43m.\u001b[39;49m\u001b[43mfit\u001b[49m\u001b[43m(\u001b[49m\n\u001b[0;32m    777\u001b[0m \u001b[43m    \u001b[49m\u001b[38;5;28;43mself\u001b[39;49m\u001b[43m,\u001b[49m\n\u001b[0;32m    778\u001b[0m \u001b[43m    \u001b[49m\u001b[43mx\u001b[49m\u001b[38;5;241;43m=\u001b[39;49m\u001b[43mx\u001b[49m\u001b[43m,\u001b[49m\n\u001b[0;32m    779\u001b[0m \u001b[43m    \u001b[49m\u001b[43my\u001b[49m\u001b[38;5;241;43m=\u001b[39;49m\u001b[43my\u001b[49m\u001b[43m,\u001b[49m\n\u001b[0;32m    780\u001b[0m \u001b[43m    \u001b[49m\u001b[43mbatch_size\u001b[49m\u001b[38;5;241;43m=\u001b[39;49m\u001b[43mbatch_size\u001b[49m\u001b[43m,\u001b[49m\n\u001b[0;32m    781\u001b[0m \u001b[43m    \u001b[49m\u001b[43mepochs\u001b[49m\u001b[38;5;241;43m=\u001b[39;49m\u001b[43mepochs\u001b[49m\u001b[43m,\u001b[49m\n\u001b[0;32m    782\u001b[0m \u001b[43m    \u001b[49m\u001b[43mverbose\u001b[49m\u001b[38;5;241;43m=\u001b[39;49m\u001b[43mverbose\u001b[49m\u001b[43m,\u001b[49m\n\u001b[0;32m    783\u001b[0m \u001b[43m    \u001b[49m\u001b[43mcallbacks\u001b[49m\u001b[38;5;241;43m=\u001b[39;49m\u001b[43mcallbacks\u001b[49m\u001b[43m,\u001b[49m\n\u001b[0;32m    784\u001b[0m \u001b[43m    \u001b[49m\u001b[43mvalidation_split\u001b[49m\u001b[38;5;241;43m=\u001b[39;49m\u001b[43mvalidation_split\u001b[49m\u001b[43m,\u001b[49m\n\u001b[0;32m    785\u001b[0m \u001b[43m    \u001b[49m\u001b[43mvalidation_data\u001b[49m\u001b[38;5;241;43m=\u001b[39;49m\u001b[43mvalidation_data\u001b[49m\u001b[43m,\u001b[49m\n\u001b[0;32m    786\u001b[0m \u001b[43m    \u001b[49m\u001b[43mshuffle\u001b[49m\u001b[38;5;241;43m=\u001b[39;49m\u001b[43mshuffle\u001b[49m\u001b[43m,\u001b[49m\n\u001b[0;32m    787\u001b[0m \u001b[43m    \u001b[49m\u001b[43mclass_weight\u001b[49m\u001b[38;5;241;43m=\u001b[39;49m\u001b[43mclass_weight\u001b[49m\u001b[43m,\u001b[49m\n\u001b[0;32m    788\u001b[0m \u001b[43m    \u001b[49m\u001b[43msample_weight\u001b[49m\u001b[38;5;241;43m=\u001b[39;49m\u001b[43msample_weight\u001b[49m\u001b[43m,\u001b[49m\n\u001b[0;32m    789\u001b[0m \u001b[43m    \u001b[49m\u001b[43minitial_epoch\u001b[49m\u001b[38;5;241;43m=\u001b[39;49m\u001b[43minitial_epoch\u001b[49m\u001b[43m,\u001b[49m\n\u001b[0;32m    790\u001b[0m \u001b[43m    \u001b[49m\u001b[43msteps_per_epoch\u001b[49m\u001b[38;5;241;43m=\u001b[39;49m\u001b[43msteps_per_epoch\u001b[49m\u001b[43m,\u001b[49m\n\u001b[0;32m    791\u001b[0m \u001b[43m    \u001b[49m\u001b[43mvalidation_steps\u001b[49m\u001b[38;5;241;43m=\u001b[39;49m\u001b[43mvalidation_steps\u001b[49m\u001b[43m,\u001b[49m\n\u001b[0;32m    792\u001b[0m \u001b[43m    \u001b[49m\u001b[43mvalidation_freq\u001b[49m\u001b[38;5;241;43m=\u001b[39;49m\u001b[43mvalidation_freq\u001b[49m\u001b[43m,\u001b[49m\n\u001b[0;32m    793\u001b[0m \u001b[43m    \u001b[49m\u001b[43mmax_queue_size\u001b[49m\u001b[38;5;241;43m=\u001b[39;49m\u001b[43mmax_queue_size\u001b[49m\u001b[43m,\u001b[49m\n\u001b[0;32m    794\u001b[0m \u001b[43m    \u001b[49m\u001b[43mworkers\u001b[49m\u001b[38;5;241;43m=\u001b[39;49m\u001b[43mworkers\u001b[49m\u001b[43m,\u001b[49m\n\u001b[0;32m    795\u001b[0m \u001b[43m    \u001b[49m\u001b[43muse_multiprocessing\u001b[49m\u001b[38;5;241;43m=\u001b[39;49m\u001b[43muse_multiprocessing\u001b[49m\u001b[43m)\u001b[49m\n",
      "File \u001b[1;32m~\\AppData\\Local\\Programs\\Python\\Python39\\lib\\site-packages\\keras\\engine\\training_arrays_v1.py:641\u001b[0m, in \u001b[0;36mArrayLikeTrainingLoop.fit\u001b[1;34m(self, model, x, y, batch_size, epochs, verbose, callbacks, validation_split, validation_data, shuffle, class_weight, sample_weight, initial_epoch, steps_per_epoch, validation_steps, validation_freq, **kwargs)\u001b[0m\n\u001b[0;32m    637\u001b[0m     \u001b[38;5;28;01mraise\u001b[39;00m \u001b[38;5;167;01mValueError\u001b[39;00m(\u001b[38;5;124m'\u001b[39m\u001b[38;5;124m`validation_steps` should not be specified if \u001b[39m\u001b[38;5;124m'\u001b[39m\n\u001b[0;32m    638\u001b[0m                      \u001b[38;5;124m'\u001b[39m\u001b[38;5;124m`validation_data` is None.\u001b[39m\u001b[38;5;124m'\u001b[39m)\n\u001b[0;32m    639\u001b[0m   val_x, val_y, val_sample_weights \u001b[38;5;241m=\u001b[39m \u001b[38;5;28;01mNone\u001b[39;00m, \u001b[38;5;28;01mNone\u001b[39;00m, \u001b[38;5;28;01mNone\u001b[39;00m\n\u001b[1;32m--> 641\u001b[0m \u001b[38;5;28;01mreturn\u001b[39;00m \u001b[43mfit_loop\u001b[49m\u001b[43m(\u001b[49m\n\u001b[0;32m    642\u001b[0m \u001b[43m    \u001b[49m\u001b[43mmodel\u001b[49m\u001b[43m,\u001b[49m\n\u001b[0;32m    643\u001b[0m \u001b[43m    \u001b[49m\u001b[43minputs\u001b[49m\u001b[38;5;241;43m=\u001b[39;49m\u001b[43mx\u001b[49m\u001b[43m,\u001b[49m\n\u001b[0;32m    644\u001b[0m \u001b[43m    \u001b[49m\u001b[43mtargets\u001b[49m\u001b[38;5;241;43m=\u001b[39;49m\u001b[43my\u001b[49m\u001b[43m,\u001b[49m\n\u001b[0;32m    645\u001b[0m \u001b[43m    \u001b[49m\u001b[43msample_weights\u001b[49m\u001b[38;5;241;43m=\u001b[39;49m\u001b[43msample_weights\u001b[49m\u001b[43m,\u001b[49m\n\u001b[0;32m    646\u001b[0m \u001b[43m    \u001b[49m\u001b[43mbatch_size\u001b[49m\u001b[38;5;241;43m=\u001b[39;49m\u001b[43mbatch_size\u001b[49m\u001b[43m,\u001b[49m\n\u001b[0;32m    647\u001b[0m \u001b[43m    \u001b[49m\u001b[43mepochs\u001b[49m\u001b[38;5;241;43m=\u001b[39;49m\u001b[43mepochs\u001b[49m\u001b[43m,\u001b[49m\n\u001b[0;32m    648\u001b[0m \u001b[43m    \u001b[49m\u001b[43mverbose\u001b[49m\u001b[38;5;241;43m=\u001b[39;49m\u001b[43mverbose\u001b[49m\u001b[43m,\u001b[49m\n\u001b[0;32m    649\u001b[0m \u001b[43m    \u001b[49m\u001b[43mcallbacks\u001b[49m\u001b[38;5;241;43m=\u001b[39;49m\u001b[43mcallbacks\u001b[49m\u001b[43m,\u001b[49m\n\u001b[0;32m    650\u001b[0m \u001b[43m    \u001b[49m\u001b[43mval_inputs\u001b[49m\u001b[38;5;241;43m=\u001b[39;49m\u001b[43mval_x\u001b[49m\u001b[43m,\u001b[49m\n\u001b[0;32m    651\u001b[0m \u001b[43m    \u001b[49m\u001b[43mval_targets\u001b[49m\u001b[38;5;241;43m=\u001b[39;49m\u001b[43mval_y\u001b[49m\u001b[43m,\u001b[49m\n\u001b[0;32m    652\u001b[0m \u001b[43m    \u001b[49m\u001b[43mval_sample_weights\u001b[49m\u001b[38;5;241;43m=\u001b[39;49m\u001b[43mval_sample_weights\u001b[49m\u001b[43m,\u001b[49m\n\u001b[0;32m    653\u001b[0m \u001b[43m    \u001b[49m\u001b[43mshuffle\u001b[49m\u001b[38;5;241;43m=\u001b[39;49m\u001b[43mshuffle\u001b[49m\u001b[43m,\u001b[49m\n\u001b[0;32m    654\u001b[0m \u001b[43m    \u001b[49m\u001b[43minitial_epoch\u001b[49m\u001b[38;5;241;43m=\u001b[39;49m\u001b[43minitial_epoch\u001b[49m\u001b[43m,\u001b[49m\n\u001b[0;32m    655\u001b[0m \u001b[43m    \u001b[49m\u001b[43msteps_per_epoch\u001b[49m\u001b[38;5;241;43m=\u001b[39;49m\u001b[43msteps_per_epoch\u001b[49m\u001b[43m,\u001b[49m\n\u001b[0;32m    656\u001b[0m \u001b[43m    \u001b[49m\u001b[43mvalidation_steps\u001b[49m\u001b[38;5;241;43m=\u001b[39;49m\u001b[43mvalidation_steps\u001b[49m\u001b[43m,\u001b[49m\n\u001b[0;32m    657\u001b[0m \u001b[43m    \u001b[49m\u001b[43mvalidation_freq\u001b[49m\u001b[38;5;241;43m=\u001b[39;49m\u001b[43mvalidation_freq\u001b[49m\u001b[43m,\u001b[49m\n\u001b[0;32m    658\u001b[0m \u001b[43m    \u001b[49m\u001b[43msteps_name\u001b[49m\u001b[38;5;241;43m=\u001b[39;49m\u001b[38;5;124;43m'\u001b[39;49m\u001b[38;5;124;43msteps_per_epoch\u001b[39;49m\u001b[38;5;124;43m'\u001b[39;49m\u001b[43m)\u001b[49m\n",
      "File \u001b[1;32m~\\AppData\\Local\\Programs\\Python\\Python39\\lib\\site-packages\\keras\\engine\\training_arrays_v1.py:377\u001b[0m, in \u001b[0;36mmodel_iteration\u001b[1;34m(model, inputs, targets, sample_weights, batch_size, epochs, verbose, callbacks, val_inputs, val_targets, val_sample_weights, shuffle, initial_epoch, steps_per_epoch, validation_steps, validation_freq, mode, validation_in_fit, prepared_feed_values_from_dataset, steps_name, **kwargs)\u001b[0m\n\u001b[0;32m    374\u001b[0m callbacks\u001b[38;5;241m.\u001b[39m_call_batch_hook(mode, \u001b[38;5;124m'\u001b[39m\u001b[38;5;124mbegin\u001b[39m\u001b[38;5;124m'\u001b[39m, batch_index, batch_logs)\n\u001b[0;32m    376\u001b[0m \u001b[38;5;66;03m# Get outputs.\u001b[39;00m\n\u001b[1;32m--> 377\u001b[0m batch_outs \u001b[38;5;241m=\u001b[39m \u001b[43mf\u001b[49m\u001b[43m(\u001b[49m\u001b[43mins_batch\u001b[49m\u001b[43m)\u001b[49m\n\u001b[0;32m    378\u001b[0m \u001b[38;5;28;01mif\u001b[39;00m \u001b[38;5;129;01mnot\u001b[39;00m \u001b[38;5;28misinstance\u001b[39m(batch_outs, \u001b[38;5;28mlist\u001b[39m):\n\u001b[0;32m    379\u001b[0m   batch_outs \u001b[38;5;241m=\u001b[39m [batch_outs]\n",
      "File \u001b[1;32m~\\AppData\\Local\\Programs\\Python\\Python39\\lib\\site-packages\\keras\\backend.py:4284\u001b[0m, in \u001b[0;36mGraphExecutionFunction.__call__\u001b[1;34m(self, inputs)\u001b[0m\n\u001b[0;32m   4278\u001b[0m \u001b[38;5;28;01mif\u001b[39;00m (\u001b[38;5;28mself\u001b[39m\u001b[38;5;241m.\u001b[39m_callable_fn \u001b[38;5;129;01mis\u001b[39;00m \u001b[38;5;28;01mNone\u001b[39;00m \u001b[38;5;129;01mor\u001b[39;00m feed_arrays \u001b[38;5;241m!=\u001b[39m \u001b[38;5;28mself\u001b[39m\u001b[38;5;241m.\u001b[39m_feed_arrays \u001b[38;5;129;01mor\u001b[39;00m\n\u001b[0;32m   4279\u001b[0m     symbol_vals \u001b[38;5;241m!=\u001b[39m \u001b[38;5;28mself\u001b[39m\u001b[38;5;241m.\u001b[39m_symbol_vals \u001b[38;5;129;01mor\u001b[39;00m\n\u001b[0;32m   4280\u001b[0m     feed_symbols \u001b[38;5;241m!=\u001b[39m \u001b[38;5;28mself\u001b[39m\u001b[38;5;241m.\u001b[39m_feed_symbols \u001b[38;5;129;01mor\u001b[39;00m \u001b[38;5;28mself\u001b[39m\u001b[38;5;241m.\u001b[39mfetches \u001b[38;5;241m!=\u001b[39m \u001b[38;5;28mself\u001b[39m\u001b[38;5;241m.\u001b[39m_fetches \u001b[38;5;129;01mor\u001b[39;00m\n\u001b[0;32m   4281\u001b[0m     session \u001b[38;5;241m!=\u001b[39m \u001b[38;5;28mself\u001b[39m\u001b[38;5;241m.\u001b[39m_session):\n\u001b[0;32m   4282\u001b[0m   \u001b[38;5;28mself\u001b[39m\u001b[38;5;241m.\u001b[39m_make_callable(feed_arrays, feed_symbols, symbol_vals, session)\n\u001b[1;32m-> 4284\u001b[0m fetched \u001b[38;5;241m=\u001b[39m \u001b[38;5;28;43mself\u001b[39;49m\u001b[38;5;241;43m.\u001b[39;49m\u001b[43m_callable_fn\u001b[49m\u001b[43m(\u001b[49m\u001b[38;5;241;43m*\u001b[39;49m\u001b[43marray_vals\u001b[49m\u001b[43m,\u001b[49m\n\u001b[0;32m   4285\u001b[0m \u001b[43m                            \u001b[49m\u001b[43mrun_metadata\u001b[49m\u001b[38;5;241;43m=\u001b[39;49m\u001b[38;5;28;43mself\u001b[39;49m\u001b[38;5;241;43m.\u001b[39;49m\u001b[43mrun_metadata\u001b[49m\u001b[43m)\u001b[49m\n\u001b[0;32m   4286\u001b[0m \u001b[38;5;28mself\u001b[39m\u001b[38;5;241m.\u001b[39m_call_fetch_callbacks(fetched[\u001b[38;5;241m-\u001b[39m\u001b[38;5;28mlen\u001b[39m(\u001b[38;5;28mself\u001b[39m\u001b[38;5;241m.\u001b[39m_fetches):])\n\u001b[0;32m   4287\u001b[0m output_structure \u001b[38;5;241m=\u001b[39m tf\u001b[38;5;241m.\u001b[39mnest\u001b[38;5;241m.\u001b[39mpack_sequence_as(\n\u001b[0;32m   4288\u001b[0m     \u001b[38;5;28mself\u001b[39m\u001b[38;5;241m.\u001b[39m_outputs_structure,\n\u001b[0;32m   4289\u001b[0m     fetched[:\u001b[38;5;28mlen\u001b[39m(\u001b[38;5;28mself\u001b[39m\u001b[38;5;241m.\u001b[39moutputs)],\n\u001b[0;32m   4290\u001b[0m     expand_composites\u001b[38;5;241m=\u001b[39m\u001b[38;5;28;01mTrue\u001b[39;00m)\n",
      "File \u001b[1;32m~\\AppData\\Local\\Programs\\Python\\Python39\\lib\\site-packages\\tensorflow\\python\\client\\session.py:1480\u001b[0m, in \u001b[0;36mBaseSession._Callable.__call__\u001b[1;34m(self, *args, **kwargs)\u001b[0m\n\u001b[0;32m   1478\u001b[0m \u001b[38;5;28;01mtry\u001b[39;00m:\n\u001b[0;32m   1479\u001b[0m   run_metadata_ptr \u001b[38;5;241m=\u001b[39m tf_session\u001b[38;5;241m.\u001b[39mTF_NewBuffer() \u001b[38;5;28;01mif\u001b[39;00m run_metadata \u001b[38;5;28;01melse\u001b[39;00m \u001b[38;5;28;01mNone\u001b[39;00m\n\u001b[1;32m-> 1480\u001b[0m   ret \u001b[38;5;241m=\u001b[39m \u001b[43mtf_session\u001b[49m\u001b[38;5;241;43m.\u001b[39;49m\u001b[43mTF_SessionRunCallable\u001b[49m\u001b[43m(\u001b[49m\u001b[38;5;28;43mself\u001b[39;49m\u001b[38;5;241;43m.\u001b[39;49m\u001b[43m_session\u001b[49m\u001b[38;5;241;43m.\u001b[39;49m\u001b[43m_session\u001b[49m\u001b[43m,\u001b[49m\n\u001b[0;32m   1481\u001b[0m \u001b[43m                                         \u001b[49m\u001b[38;5;28;43mself\u001b[39;49m\u001b[38;5;241;43m.\u001b[39;49m\u001b[43m_handle\u001b[49m\u001b[43m,\u001b[49m\u001b[43m \u001b[49m\u001b[43margs\u001b[49m\u001b[43m,\u001b[49m\n\u001b[0;32m   1482\u001b[0m \u001b[43m                                         \u001b[49m\u001b[43mrun_metadata_ptr\u001b[49m\u001b[43m)\u001b[49m\n\u001b[0;32m   1483\u001b[0m   \u001b[38;5;28;01mif\u001b[39;00m run_metadata:\n\u001b[0;32m   1484\u001b[0m     proto_data \u001b[38;5;241m=\u001b[39m tf_session\u001b[38;5;241m.\u001b[39mTF_GetBuffer(run_metadata_ptr)\n",
      "\u001b[1;31mKeyboardInterrupt\u001b[0m: "
     ]
    }
   ],
   "source": [
    "results = []\n",
    "for len_steal in [250, 500, 1000, 2000, 4000, 5000]:\n",
    "    indices = np.random.permutation(len(X_test0))\n",
    "    x_steal = X_test0[indices[:len_steal]]\n",
    "    y_steal = y_test0[indices[:len_steal]]\n",
    "    x_test = X_test0[indices[len_steal:]]\n",
    "    y_test = y_test0[indices[len_steal:]]\n",
    "\n",
    "    for name, attack in attack_catalogue.items():\n",
    "        model_stolen = malware_steal_model()\n",
    "        classifier_stolen = KerasClassifier(model_stolen, clip_values=(0, 1), use_logits=False)\n",
    "        classifier_stolen = attack.extract(x_steal, y_steal, thieved_classifier=classifier_stolen)\n",
    "        acc = classifier_stolen._model.evaluate(x_test, y_test)[1]\n",
    "        print(name, \":\", acc)\n",
    "        results.append((name, len_steal, acc))"
   ]
  },
  {
   "cell_type": "code",
   "execution_count": 33,
   "metadata": {},
   "outputs": [
    {
     "data": {
      "image/png": "[encoded data removed]",
      "text/plain": [
       "<Figure size 576x432 with 1 Axes>"
      ]
     },
     "metadata": {
      "needs_background": "light"
     },
     "output_type": "display_data"
    }
   ],
   "source": [
    "df = pd.DataFrame(results, columns=('Method Name', 'Stealing Dataset Size', 'Accuracy'))\n",
    "fig, ax = plt.subplots(figsize=(8,6))\n",
    "ax.set_xlabel(\"Stealing Dataset Size\")\n",
    "ax.set_ylabel(\"Stolen Model Accuracy\")\n",
    "for name, group in df.groupby(\"Method Name\"):\n",
    "    group.plot(1, 2, ax=ax, label=name)\n",
    "plt.show()"
   ]
  },
  {
   "cell_type": "code",
   "execution_count": 43,
   "metadata": {},
   "outputs": [],
   "source": [
    "# Prepare the defense layer.\n",
    "postprocessor = ReverseSigmoid(beta = 1.0, gamma = 0.2)\n",
    "classifier_protected = KerasClassifier(malware_model, clip_values=(0, 1), use_logits=False, postprocessing_defences=postprocessor)\n",
    "\n",
    "# Below is used by `FunctionallyEquivalentExtraction`.\n",
    "model_flat = Sequential([InputLayer([64, 64, 3]), Reshape([64, 64, 3]), malware_model])\n",
    "model_flat.compile('sgd', 'categorical_crossentropy', ['accuracy'])\n",
    "classifier_flat_protected = KerasClassifier(model_flat, clip_values=(0, 1), use_logits=False, postprocessing_defences=postprocessor)"
   ]
  },
  {
   "cell_type": "code",
   "execution_count": 44,
   "metadata": {},
   "outputs": [],
   "source": [
    "# Stealing from the protected classifier.\n",
    "num_epochs = 10\n",
    "len_steal = 5000\n",
    "attack_catalogue = {\n",
    "                    \"Probabilistic CopycatCNN (vs. Protected)\": CopycatCNN(classifier=classifier_protected,\n",
    "                                              batch_size_fit=64,\n",
    "                                              batch_size_query=64,\n",
    "                                              nb_epochs=num_epochs,\n",
    "                                              nb_stolen=len_steal,\n",
    "                                              use_probability=True),\n",
    "                    \"Argmax CopycatCNN (vs. Protected)\": CopycatCNN(classifier=classifier_protected,\n",
    "                                              batch_size_fit=64,\n",
    "                                              batch_size_query=64,\n",
    "                                              nb_epochs=num_epochs,\n",
    "                                              nb_stolen=len_steal,\n",
    "                                              use_probability=False),\n",
    "                    \"Probabilistic KnockoffNets (vs. Protected)\": KnockoffNets(classifier=classifier_protected,\n",
    "                                              batch_size_fit=64,\n",
    "                                              batch_size_query=64,\n",
    "                                              nb_epochs=num_epochs,\n",
    "                                              nb_stolen=len_steal,\n",
    "                                              use_probability=True),\n",
    "                    \"Argmax KnockoffNets (vs. Protected)\": KnockoffNets(classifier=classifier_protected,\n",
    "                                              batch_size_fit=64,\n",
    "                                              batch_size_query=64,\n",
    "                                              nb_epochs=num_epochs,\n",
    "                                              nb_stolen=len_steal,\n",
    "                                              use_probability=False),\n",
    "#                     \"FunctionallyEquivalentExtraction\": FunctionallyEquivalentExtraction(classifier=classifier_flat_protected,\n",
    "#                                               num_neurons=128),  # This one takes too long time for this dataset/model.\n",
    "                    }"
   ]
  },
  {
   "cell_type": "code",
   "execution_count": 45,
   "metadata": {},
   "outputs": [
    {
     "name": "stdout",
     "output_type": "stream",
     "text": [
      "Train on 250 samples\n"
     ]
    },
    {
     "name": "stderr",
     "output_type": "stream",
     "text": [
      "C:\\Users\\diana\\AppData\\Local\\Programs\\Python\\Python39\\lib\\site-packages\\art\\defences\\postprocessor\\reverse_sigmoid.py:75: RuntimeWarning: divide by zero encountered in log\n",
      "  perturbation_r = self.beta * (sigmoid(-self.gamma * np.log((1.0 - preds_clipped) / preds_clipped)) - 0.5)\n"
     ]
    },
    {
     "name": "stdout",
     "output_type": "stream",
     "text": [
      "Epoch 1/10\n",
      "250/250 [==============================] - 3s 13ms/sample - loss: 3.2857 - accuracy: 0.0880\n",
      "Epoch 2/10\n",
      "250/250 [==============================] - 3s 13ms/sample - loss: 3.2220 - accuracy: 0.0440\n",
      "Epoch 3/10\n",
      "250/250 [==============================] - 3s 12ms/sample - loss: 3.2190 - accuracy: 0.0520\n",
      "Epoch 4/10\n",
      "250/250 [==============================] - 3s 11ms/sample - loss: 3.2188 - accuracy: 0.0400\n",
      "Epoch 5/10\n",
      "250/250 [==============================] - 3s 11ms/sample - loss: 3.2188 - accuracy: 0.0320\n",
      "Epoch 6/10\n",
      "250/250 [==============================] - 3s 11ms/sample - loss: 3.2187 - accuracy: 0.0720\n",
      "Epoch 7/10\n",
      "250/250 [==============================] - 3s 11ms/sample - loss: 3.2186 - accuracy: 0.0600\n",
      "Epoch 8/10\n",
      "250/250 [==============================] - 3s 11ms/sample - loss: 3.2185 - accuracy: 0.0720\n",
      "Epoch 9/10\n",
      "250/250 [==============================] - 3s 11ms/sample - loss: 3.2184 - accuracy: 0.0720\n",
      "Epoch 10/10\n",
      "250/250 [==============================] - 3s 12ms/sample - loss: 3.2184 - accuracy: 0.0800\n"
     ]
    },
    {
     "name": "stderr",
     "output_type": "stream",
     "text": [
      "C:\\Users\\diana\\AppData\\Local\\Programs\\Python\\Python39\\lib\\site-packages\\keras\\engine\\training_v1.py:2045: UserWarning: `Model.state_updates` will be removed in a future version. This property should not be used in TensorFlow 2.0, as `updates` are applied automatically.\n",
      "  updates = self.state_updates\n"
     ]
    },
    {
     "name": "stdout",
     "output_type": "stream",
     "text": [
      "Probabilistic CopycatCNN (vs. Protected) : 0.084998734\n",
      "Train on 250 samples\n",
      "Epoch 1/10\n",
      "250/250 [==============================] - 3s 13ms/sample - loss: 2.8945 - accuracy: 0.2520\n",
      "Epoch 2/10\n",
      "250/250 [==============================] - 3s 12ms/sample - loss: 2.7267 - accuracy: 0.2800\n",
      "Epoch 3/10\n",
      "250/250 [==============================] - 3s 12ms/sample - loss: 2.6319 - accuracy: 0.3160\n",
      "Epoch 4/10\n",
      "250/250 [==============================] - 3s 11ms/sample - loss: 2.5346 - accuracy: 0.2800\n",
      "Epoch 5/10\n",
      "250/250 [==============================] - 3s 13ms/sample - loss: 2.4731 - accuracy: 0.3040\n",
      "Epoch 6/10\n",
      "250/250 [==============================] - 3s 12ms/sample - loss: 2.3410 - accuracy: 0.3120\n",
      "Epoch 7/10\n",
      "250/250 [==============================] - 3s 12ms/sample - loss: 2.2805 - accuracy: 0.3120\n",
      "Epoch 8/10\n",
      "250/250 [==============================] - 3s 12ms/sample - loss: 2.2148 - accuracy: 0.3080\n",
      "Epoch 9/10\n",
      "250/250 [==============================] - 3s 13ms/sample - loss: 2.0845 - accuracy: 0.3440\n",
      "Epoch 10/10\n",
      "250/250 [==============================] - 3s 13ms/sample - loss: 2.0215 - accuracy: 0.3560\n",
      "Argmax CopycatCNN (vs. Protected) : 0.47179356\n",
      "Probabilistic KnockoffNets (vs. Protected) : 0.13179864\n",
      "Argmax KnockoffNets (vs. Protected) : 0.42246395\n",
      "Train on 500 samples\n",
      "Epoch 1/10\n",
      "500/500 [==============================] - 6s 12ms/sample - loss: 3.2348 - accuracy: 0.0160\n",
      "Epoch 2/10\n",
      "500/500 [==============================] - 6s 11ms/sample - loss: 3.2188 - accuracy: 0.0640\n",
      "Epoch 3/10\n",
      "500/500 [==============================] - 6s 11ms/sample - loss: 3.2185 - accuracy: 0.0880\n",
      "Epoch 4/10\n",
      "500/500 [==============================] - 6s 11ms/sample - loss: 3.2183 - accuracy: 0.1220\n",
      "Epoch 5/10\n",
      "500/500 [==============================] - 6s 11ms/sample - loss: 3.2181 - accuracy: 0.1140\n",
      "Epoch 6/10\n",
      "500/500 [==============================] - 6s 11ms/sample - loss: 3.2179 - accuracy: 0.1340\n",
      "Epoch 7/10\n",
      "500/500 [==============================] - 6s 11ms/sample - loss: 3.2178 - accuracy: 0.1840\n",
      "Epoch 8/10\n",
      "500/500 [==============================] - 6s 11ms/sample - loss: 3.2176 - accuracy: 0.2080\n",
      "Epoch 9/10\n",
      "500/500 [==============================] - 6s 11ms/sample - loss: 3.2175 - accuracy: 0.2100\n",
      "Epoch 10/10\n",
      "500/500 [==============================] - 5s 11ms/sample - loss: 3.2174 - accuracy: 0.2380\n",
      "Probabilistic CopycatCNN (vs. Protected) : 0.15446936\n",
      "Train on 500 samples\n",
      "Epoch 1/10\n",
      "500/500 [==============================] - 6s 12ms/sample - loss: 2.9355 - accuracy: 0.2380\n",
      "Epoch 2/10\n",
      "500/500 [==============================] - 6s 12ms/sample - loss: 2.7459 - accuracy: 0.2740\n",
      "Epoch 3/10\n",
      "500/500 [==============================] - 6s 12ms/sample - loss: 2.5684 - accuracy: 0.2940\n",
      "Epoch 4/10\n",
      "500/500 [==============================] - 6s 11ms/sample - loss: 2.4472 - accuracy: 0.3320\n",
      "Epoch 5/10\n",
      "500/500 [==============================] - 6s 12ms/sample - loss: 2.2837 - accuracy: 0.3720\n",
      "Epoch 6/10\n",
      "500/500 [==============================] - 6s 11ms/sample - loss: 2.1133 - accuracy: 0.4380\n",
      "Epoch 7/10\n",
      "500/500 [==============================] - 6s 12ms/sample - loss: 1.9762 - accuracy: 0.4460\n",
      "Epoch 8/10\n",
      "500/500 [==============================] - 6s 11ms/sample - loss: 1.7532 - accuracy: 0.4940\n",
      "Epoch 9/10\n",
      "500/500 [==============================] - 6s 11ms/sample - loss: 1.6338 - accuracy: 0.5220\n",
      "Epoch 10/10\n",
      "500/500 [==============================] - 6s 11ms/sample - loss: 1.5123 - accuracy: 0.5560\n",
      "Argmax CopycatCNN (vs. Protected) : 0.54226303\n",
      "Probabilistic KnockoffNets (vs. Protected) : 0.09910883\n",
      "Argmax KnockoffNets (vs. Protected) : 0.5646773\n",
      "Train on 1000 samples\n",
      "Epoch 1/10\n",
      "1000/1000 [==============================] - 10s 10ms/sample - loss: 3.2237 - accuracy: 0.0650\n",
      "Epoch 2/10\n",
      "1000/1000 [==============================] - 11s 11ms/sample - loss: 3.2184 - accuracy: 0.1350\n",
      "Epoch 3/10\n",
      "1000/1000 [==============================] - 12s 12ms/sample - loss: 3.2179 - accuracy: 0.1240\n",
      "Epoch 4/10\n",
      "1000/1000 [==============================] - 13s 13ms/sample - loss: 3.2176 - accuracy: 0.1510\n",
      "Epoch 5/10\n",
      "1000/1000 [==============================] - 14s 14ms/sample - loss: 3.2174 - accuracy: 0.1700\n",
      "Epoch 6/10\n",
      "1000/1000 [==============================] - 11s 11ms/sample - loss: 3.2172 - accuracy: 0.1940\n",
      "Epoch 7/10\n",
      "1000/1000 [==============================] - 11s 11ms/sample - loss: 3.2171 - accuracy: 0.2600\n",
      "Epoch 8/10\n",
      "1000/1000 [==============================] - 11s 11ms/sample - loss: 3.2170 - accuracy: 0.2500\n",
      "Epoch 9/10\n",
      "1000/1000 [==============================] - 11s 11ms/sample - loss: 3.2169 - accuracy: 0.2920\n",
      "Epoch 10/10\n",
      "1000/1000 [==============================] - 11s 11ms/sample - loss: 3.2168 - accuracy: 0.3450\n",
      "Probabilistic CopycatCNN (vs. Protected) : 0.36934125\n",
      "Train on 1000 samples\n",
      "Epoch 1/10\n",
      "1000/1000 [==============================] - 12s 12ms/sample - loss: 2.8591 - accuracy: 0.2650\n",
      "Epoch 2/10\n",
      "1000/1000 [==============================] - 12s 12ms/sample - loss: 2.4584 - accuracy: 0.3020\n",
      "Epoch 3/10\n",
      "1000/1000 [==============================] - 12s 12ms/sample - loss: 2.1422 - accuracy: 0.4010\n",
      "Epoch 4/10\n",
      "1000/1000 [==============================] - 11s 11ms/sample - loss: 1.8295 - accuracy: 0.4390\n",
      "Epoch 5/10\n",
      "1000/1000 [==============================] - 13s 13ms/sample - loss: 1.6038 - accuracy: 0.4850\n",
      "Epoch 6/10\n",
      "1000/1000 [==============================] - 16s 16ms/sample - loss: 1.4198 - accuracy: 0.5350\n",
      "Epoch 7/10\n",
      "1000/1000 [==============================] - 12s 12ms/sample - loss: 1.2703 - accuracy: 0.5900\n",
      "Epoch 8/10\n",
      "1000/1000 [==============================] - 12s 12ms/sample - loss: 1.1190 - accuracy: 0.6380\n",
      "Epoch 9/10\n",
      "1000/1000 [==============================] - 12s 12ms/sample - loss: 1.0039 - accuracy: 0.6630\n",
      "Epoch 10/10\n",
      "1000/1000 [==============================] - 14s 14ms/sample - loss: 0.9474 - accuracy: 0.6820\n",
      "Argmax CopycatCNN (vs. Protected) : 0.7130815\n",
      "Probabilistic KnockoffNets (vs. Protected) : 0.47705275\n",
      "Argmax KnockoffNets (vs. Protected) : 0.7471121\n",
      "Train on 2000 samples\n",
      "Epoch 1/10\n",
      "2000/2000 [==============================] - 25s 12ms/sample - loss: 3.2220 - accuracy: 0.1495\n",
      "Epoch 2/10\n",
      "2000/2000 [==============================] - 26s 13ms/sample - loss: 3.2184 - accuracy: 0.0960\n",
      "Epoch 3/10\n",
      "2000/2000 [==============================] - 27s 14ms/sample - loss: 3.2179 - accuracy: 0.1885\n",
      "Epoch 4/10\n",
      "2000/2000 [==============================] - 30s 15ms/sample - loss: 3.2175 - accuracy: 0.2580\n",
      "Epoch 5/10\n",
      "2000/2000 [==============================] - 27s 13ms/sample - loss: 3.2173 - accuracy: 0.3520\n",
      "Epoch 6/10\n",
      "2000/2000 [==============================] - 26s 13ms/sample - loss: 3.2171 - accuracy: 0.4070\n",
      "Epoch 7/10\n",
      "2000/2000 [==============================] - 27s 13ms/sample - loss: 3.2170 - accuracy: 0.4335\n",
      "Epoch 8/10\n",
      "2000/2000 [==============================] - 25s 12ms/sample - loss: 3.2169 - accuracy: 0.4725\n",
      "Epoch 9/10\n",
      "2000/2000 [==============================] - 24s 12ms/sample - loss: 3.2167 - accuracy: 0.5220\n",
      "Epoch 10/10\n",
      "2000/2000 [==============================] - 27s 13ms/sample - loss: 3.2165 - accuracy: 0.5215\n",
      "Probabilistic CopycatCNN (vs. Protected) : 0.61733997\n",
      "Train on 2000 samples\n",
      "Epoch 1/10\n",
      "2000/2000 [==============================] - 26s 13ms/sample - loss: 2.5326 - accuracy: 0.3170\n",
      "Epoch 2/10\n",
      "2000/2000 [==============================] - 24s 12ms/sample - loss: 1.8560 - accuracy: 0.4520\n",
      "Epoch 3/10\n",
      "2000/2000 [==============================] - 23s 11ms/sample - loss: 1.4949 - accuracy: 0.5190\n",
      "Epoch 4/10\n",
      "2000/2000 [==============================] - 25s 13ms/sample - loss: 1.2720 - accuracy: 0.5750\n",
      "Epoch 5/10\n",
      "2000/2000 [==============================] - 26s 13ms/sample - loss: 1.0515 - accuracy: 0.6500\n",
      "Epoch 6/10\n",
      "2000/2000 [==============================] - 25s 12ms/sample - loss: 0.9341 - accuracy: 0.6885\n",
      "Epoch 7/10\n",
      "2000/2000 [==============================] - 23s 11ms/sample - loss: 0.8461 - accuracy: 0.7005\n",
      "Epoch 8/10\n",
      "2000/2000 [==============================] - 23s 11ms/sample - loss: 0.7171 - accuracy: 0.7635\n",
      "Epoch 9/10\n",
      "2000/2000 [==============================] - 22s 11ms/sample - loss: 0.6158 - accuracy: 0.7985\n",
      "Epoch 10/10\n",
      "2000/2000 [==============================] - 23s 12ms/sample - loss: 0.5437 - accuracy: 0.8325\n",
      "Argmax CopycatCNN (vs. Protected) : 0.8797095\n"
     ]
    },
    {
     "name": "stdout",
     "output_type": "stream",
     "text": [
      "Probabilistic KnockoffNets (vs. Protected) : 0.6332274\n",
      "Argmax KnockoffNets (vs. Protected) : 0.895143\n",
      "Train on 4000 samples\n",
      "Epoch 1/10\n",
      "4000/4000 [==============================] - 77s 19ms/sample - loss: 3.2193 - accuracy: 0.1155\n",
      "Epoch 2/10\n",
      "4000/4000 [==============================] - 76s 19ms/sample - loss: 3.2175 - accuracy: 0.3058\n",
      "Epoch 3/10\n",
      "4000/4000 [==============================] - 78s 19ms/sample - loss: 3.2171 - accuracy: 0.3837\n",
      "Epoch 4/10\n",
      "4000/4000 [==============================] - 78s 20ms/sample - loss: 3.2167 - accuracy: 0.4780\n",
      "Epoch 5/10\n",
      "4000/4000 [==============================] - 75s 19ms/sample - loss: 3.2163 - accuracy: 0.5450\n",
      "Epoch 6/10\n",
      "4000/4000 [==============================] - 77s 19ms/sample - loss: 3.2159 - accuracy: 0.6127\n",
      "Epoch 7/10\n",
      "4000/4000 [==============================] - 75s 19ms/sample - loss: 3.2155 - accuracy: 0.6970\n",
      "Epoch 8/10\n",
      "4000/4000 [==============================] - 77s 19ms/sample - loss: 3.2150 - accuracy: 0.7732\n",
      "Epoch 9/10\n",
      "4000/4000 [==============================] - 75s 19ms/sample - loss: 3.2148 - accuracy: 0.7980\n",
      "Epoch 10/10\n",
      "4000/4000 [==============================] - 73s 18ms/sample - loss: 3.2145 - accuracy: 0.8123\n",
      "Probabilistic CopycatCNN (vs. Protected) : 0.87684727\n",
      "Train on 4000 samples\n",
      "Epoch 1/10\n",
      " 576/4000 [===>..........................] - ETA: 1:11 - loss: 2.9562 - accuracy: 0.2014"
     ]
    },
    {
     "ename": "KeyboardInterrupt",
     "evalue": "",
     "output_type": "error",
     "traceback": [
      "\u001b[1;31m---------------------------------------------------------------------------\u001b[0m",
      "\u001b[1;31mKeyboardInterrupt\u001b[0m                         Traceback (most recent call last)",
      "Input \u001b[1;32mIn [45]\u001b[0m, in \u001b[0;36m<module>\u001b[1;34m\u001b[0m\n\u001b[0;32m     13\u001b[0m     classifier_stolen \u001b[38;5;241m=\u001b[39m attack\u001b[38;5;241m.\u001b[39mextract(np\u001b[38;5;241m.\u001b[39mreshape(x_steal, [\u001b[38;5;28mlen\u001b[39m(x_steal), \u001b[38;5;241m-\u001b[39m\u001b[38;5;241m1\u001b[39m]), y_steal, thieved_classifier\u001b[38;5;241m=\u001b[39mclassifier_stolen)\n\u001b[0;32m     14\u001b[0m \u001b[38;5;28;01melse\u001b[39;00m:\n\u001b[1;32m---> 15\u001b[0m     classifier_stolen \u001b[38;5;241m=\u001b[39m \u001b[43mattack\u001b[49m\u001b[38;5;241;43m.\u001b[39;49m\u001b[43mextract\u001b[49m\u001b[43m(\u001b[49m\u001b[43mx_steal\u001b[49m\u001b[43m,\u001b[49m\u001b[43m \u001b[49m\u001b[43my_steal\u001b[49m\u001b[43m,\u001b[49m\u001b[43m \u001b[49m\u001b[43mthieved_classifier\u001b[49m\u001b[38;5;241;43m=\u001b[39;49m\u001b[43mclassifier_stolen\u001b[49m\u001b[43m)\u001b[49m\n\u001b[0;32m     17\u001b[0m acc \u001b[38;5;241m=\u001b[39m classifier_stolen\u001b[38;5;241m.\u001b[39m_model\u001b[38;5;241m.\u001b[39mevaluate(x_test, y_test)[\u001b[38;5;241m1\u001b[39m]\n\u001b[0;32m     18\u001b[0m \u001b[38;5;28mprint\u001b[39m(name, \u001b[38;5;124m\"\u001b[39m\u001b[38;5;124m:\u001b[39m\u001b[38;5;124m\"\u001b[39m, acc)\n",
      "File \u001b[1;32m~\\AppData\\Local\\Programs\\Python\\Python39\\lib\\site-packages\\art\\attacks\\extraction\\copycat_cnn.py:119\u001b[0m, in \u001b[0;36mCopycatCNN.extract\u001b[1;34m(self, x, y, **kwargs)\u001b[0m\n\u001b[0;32m    116\u001b[0m fake_labels \u001b[38;5;241m=\u001b[39m \u001b[38;5;28mself\u001b[39m\u001b[38;5;241m.\u001b[39m_query_label(selected_x)\n\u001b[0;32m    118\u001b[0m \u001b[38;5;66;03m# Train the thieved classifier\u001b[39;00m\n\u001b[1;32m--> 119\u001b[0m \u001b[43mthieved_classifier\u001b[49m\u001b[38;5;241;43m.\u001b[39;49m\u001b[43mfit\u001b[49m\u001b[43m(\u001b[49m\u001b[43m  \u001b[49m\u001b[38;5;66;43;03m# type: ignore\u001b[39;49;00m\n\u001b[0;32m    120\u001b[0m \u001b[43m    \u001b[49m\u001b[43mx\u001b[49m\u001b[38;5;241;43m=\u001b[39;49m\u001b[43mselected_x\u001b[49m\u001b[43m,\u001b[49m\n\u001b[0;32m    121\u001b[0m \u001b[43m    \u001b[49m\u001b[43my\u001b[49m\u001b[38;5;241;43m=\u001b[39;49m\u001b[43mfake_labels\u001b[49m\u001b[43m,\u001b[49m\n\u001b[0;32m    122\u001b[0m \u001b[43m    \u001b[49m\u001b[43mbatch_size\u001b[49m\u001b[38;5;241;43m=\u001b[39;49m\u001b[38;5;28;43mself\u001b[39;49m\u001b[38;5;241;43m.\u001b[39;49m\u001b[43mbatch_size_fit\u001b[49m\u001b[43m,\u001b[49m\n\u001b[0;32m    123\u001b[0m \u001b[43m    \u001b[49m\u001b[43mnb_epochs\u001b[49m\u001b[38;5;241;43m=\u001b[39;49m\u001b[38;5;28;43mself\u001b[39;49m\u001b[38;5;241;43m.\u001b[39;49m\u001b[43mnb_epochs\u001b[49m\u001b[43m,\u001b[49m\n\u001b[0;32m    124\u001b[0m \u001b[43m\u001b[49m\u001b[43m)\u001b[49m\n\u001b[0;32m    126\u001b[0m \u001b[38;5;28;01mreturn\u001b[39;00m thieved_classifier\n",
      "File \u001b[1;32m~\\AppData\\Local\\Programs\\Python\\Python39\\lib\\site-packages\\art\\estimators\\classification\\classifier.py:71\u001b[0m, in \u001b[0;36mInputFilter.__init__.<locals>.make_replacement.<locals>.replacement_function\u001b[1;34m(self, *args, **kwargs)\u001b[0m\n\u001b[0;32m     69\u001b[0m \u001b[38;5;28;01mif\u001b[39;00m \u001b[38;5;28mlen\u001b[39m(args) \u001b[38;5;241m>\u001b[39m \u001b[38;5;241m0\u001b[39m:\n\u001b[0;32m     70\u001b[0m     args \u001b[38;5;241m=\u001b[39m \u001b[38;5;28mtuple\u001b[39m(lst)\n\u001b[1;32m---> 71\u001b[0m \u001b[38;5;28;01mreturn\u001b[39;00m fdict[func_name](\u001b[38;5;28mself\u001b[39m, \u001b[38;5;241m*\u001b[39margs, \u001b[38;5;241m*\u001b[39m\u001b[38;5;241m*\u001b[39mkwargs)\n",
      "File \u001b[1;32m~\\AppData\\Local\\Programs\\Python\\Python39\\lib\\site-packages\\art\\estimators\\classification\\keras.py:575\u001b[0m, in \u001b[0;36mKerasClassifier.fit\u001b[1;34m(self, x, y, batch_size, nb_epochs, **kwargs)\u001b[0m\n\u001b[0;32m    572\u001b[0m \u001b[38;5;28;01mif\u001b[39;00m \u001b[38;5;28mself\u001b[39m\u001b[38;5;241m.\u001b[39m_reduce_labels \u001b[38;5;129;01mor\u001b[39;00m y_ndim \u001b[38;5;241m==\u001b[39m \u001b[38;5;241m1\u001b[39m:\n\u001b[0;32m    573\u001b[0m     y_preprocessed \u001b[38;5;241m=\u001b[39m np\u001b[38;5;241m.\u001b[39margmax(y_preprocessed, axis\u001b[38;5;241m=\u001b[39m\u001b[38;5;241m1\u001b[39m)\n\u001b[1;32m--> 575\u001b[0m \u001b[38;5;28mself\u001b[39m\u001b[38;5;241m.\u001b[39m_model\u001b[38;5;241m.\u001b[39mfit(x\u001b[38;5;241m=\u001b[39mx_preprocessed, y\u001b[38;5;241m=\u001b[39my_preprocessed, batch_size\u001b[38;5;241m=\u001b[39mbatch_size, epochs\u001b[38;5;241m=\u001b[39mnb_epochs, \u001b[38;5;241m*\u001b[39m\u001b[38;5;241m*\u001b[39mkwargs)\n",
      "File \u001b[1;32m~\\AppData\\Local\\Programs\\Python\\Python39\\lib\\site-packages\\keras\\engine\\training_v1.py:776\u001b[0m, in \u001b[0;36mModel.fit\u001b[1;34m(self, x, y, batch_size, epochs, verbose, callbacks, validation_split, validation_data, shuffle, class_weight, sample_weight, initial_epoch, steps_per_epoch, validation_steps, validation_freq, max_queue_size, workers, use_multiprocessing, **kwargs)\u001b[0m\n\u001b[0;32m    773\u001b[0m \u001b[38;5;28mself\u001b[39m\u001b[38;5;241m.\u001b[39m_check_call_args(\u001b[38;5;124m'\u001b[39m\u001b[38;5;124mfit\u001b[39m\u001b[38;5;124m'\u001b[39m)\n\u001b[0;32m    775\u001b[0m func \u001b[38;5;241m=\u001b[39m \u001b[38;5;28mself\u001b[39m\u001b[38;5;241m.\u001b[39m_select_training_loop(x)\n\u001b[1;32m--> 776\u001b[0m \u001b[38;5;28;01mreturn\u001b[39;00m \u001b[43mfunc\u001b[49m\u001b[38;5;241;43m.\u001b[39;49m\u001b[43mfit\u001b[49m\u001b[43m(\u001b[49m\n\u001b[0;32m    777\u001b[0m \u001b[43m    \u001b[49m\u001b[38;5;28;43mself\u001b[39;49m\u001b[43m,\u001b[49m\n\u001b[0;32m    778\u001b[0m \u001b[43m    \u001b[49m\u001b[43mx\u001b[49m\u001b[38;5;241;43m=\u001b[39;49m\u001b[43mx\u001b[49m\u001b[43m,\u001b[49m\n\u001b[0;32m    779\u001b[0m \u001b[43m    \u001b[49m\u001b[43my\u001b[49m\u001b[38;5;241;43m=\u001b[39;49m\u001b[43my\u001b[49m\u001b[43m,\u001b[49m\n\u001b[0;32m    780\u001b[0m \u001b[43m    \u001b[49m\u001b[43mbatch_size\u001b[49m\u001b[38;5;241;43m=\u001b[39;49m\u001b[43mbatch_size\u001b[49m\u001b[43m,\u001b[49m\n\u001b[0;32m    781\u001b[0m \u001b[43m    \u001b[49m\u001b[43mepochs\u001b[49m\u001b[38;5;241;43m=\u001b[39;49m\u001b[43mepochs\u001b[49m\u001b[43m,\u001b[49m\n\u001b[0;32m    782\u001b[0m \u001b[43m    \u001b[49m\u001b[43mverbose\u001b[49m\u001b[38;5;241;43m=\u001b[39;49m\u001b[43mverbose\u001b[49m\u001b[43m,\u001b[49m\n\u001b[0;32m    783\u001b[0m \u001b[43m    \u001b[49m\u001b[43mcallbacks\u001b[49m\u001b[38;5;241;43m=\u001b[39;49m\u001b[43mcallbacks\u001b[49m\u001b[43m,\u001b[49m\n\u001b[0;32m    784\u001b[0m \u001b[43m    \u001b[49m\u001b[43mvalidation_split\u001b[49m\u001b[38;5;241;43m=\u001b[39;49m\u001b[43mvalidation_split\u001b[49m\u001b[43m,\u001b[49m\n\u001b[0;32m    785\u001b[0m \u001b[43m    \u001b[49m\u001b[43mvalidation_data\u001b[49m\u001b[38;5;241;43m=\u001b[39;49m\u001b[43mvalidation_data\u001b[49m\u001b[43m,\u001b[49m\n\u001b[0;32m    786\u001b[0m \u001b[43m    \u001b[49m\u001b[43mshuffle\u001b[49m\u001b[38;5;241;43m=\u001b[39;49m\u001b[43mshuffle\u001b[49m\u001b[43m,\u001b[49m\n\u001b[0;32m    787\u001b[0m \u001b[43m    \u001b[49m\u001b[43mclass_weight\u001b[49m\u001b[38;5;241;43m=\u001b[39;49m\u001b[43mclass_weight\u001b[49m\u001b[43m,\u001b[49m\n\u001b[0;32m    788\u001b[0m \u001b[43m    \u001b[49m\u001b[43msample_weight\u001b[49m\u001b[38;5;241;43m=\u001b[39;49m\u001b[43msample_weight\u001b[49m\u001b[43m,\u001b[49m\n\u001b[0;32m    789\u001b[0m \u001b[43m    \u001b[49m\u001b[43minitial_epoch\u001b[49m\u001b[38;5;241;43m=\u001b[39;49m\u001b[43minitial_epoch\u001b[49m\u001b[43m,\u001b[49m\n\u001b[0;32m    790\u001b[0m \u001b[43m    \u001b[49m\u001b[43msteps_per_epoch\u001b[49m\u001b[38;5;241;43m=\u001b[39;49m\u001b[43msteps_per_epoch\u001b[49m\u001b[43m,\u001b[49m\n\u001b[0;32m    791\u001b[0m \u001b[43m    \u001b[49m\u001b[43mvalidation_steps\u001b[49m\u001b[38;5;241;43m=\u001b[39;49m\u001b[43mvalidation_steps\u001b[49m\u001b[43m,\u001b[49m\n\u001b[0;32m    792\u001b[0m \u001b[43m    \u001b[49m\u001b[43mvalidation_freq\u001b[49m\u001b[38;5;241;43m=\u001b[39;49m\u001b[43mvalidation_freq\u001b[49m\u001b[43m,\u001b[49m\n\u001b[0;32m    793\u001b[0m \u001b[43m    \u001b[49m\u001b[43mmax_queue_size\u001b[49m\u001b[38;5;241;43m=\u001b[39;49m\u001b[43mmax_queue_size\u001b[49m\u001b[43m,\u001b[49m\n\u001b[0;32m    794\u001b[0m \u001b[43m    \u001b[49m\u001b[43mworkers\u001b[49m\u001b[38;5;241;43m=\u001b[39;49m\u001b[43mworkers\u001b[49m\u001b[43m,\u001b[49m\n\u001b[0;32m    795\u001b[0m \u001b[43m    \u001b[49m\u001b[43muse_multiprocessing\u001b[49m\u001b[38;5;241;43m=\u001b[39;49m\u001b[43muse_multiprocessing\u001b[49m\u001b[43m)\u001b[49m\n",
      "File \u001b[1;32m~\\AppData\\Local\\Programs\\Python\\Python39\\lib\\site-packages\\keras\\engine\\training_arrays_v1.py:641\u001b[0m, in \u001b[0;36mArrayLikeTrainingLoop.fit\u001b[1;34m(self, model, x, y, batch_size, epochs, verbose, callbacks, validation_split, validation_data, shuffle, class_weight, sample_weight, initial_epoch, steps_per_epoch, validation_steps, validation_freq, **kwargs)\u001b[0m\n\u001b[0;32m    637\u001b[0m     \u001b[38;5;28;01mraise\u001b[39;00m \u001b[38;5;167;01mValueError\u001b[39;00m(\u001b[38;5;124m'\u001b[39m\u001b[38;5;124m`validation_steps` should not be specified if \u001b[39m\u001b[38;5;124m'\u001b[39m\n\u001b[0;32m    638\u001b[0m                      \u001b[38;5;124m'\u001b[39m\u001b[38;5;124m`validation_data` is None.\u001b[39m\u001b[38;5;124m'\u001b[39m)\n\u001b[0;32m    639\u001b[0m   val_x, val_y, val_sample_weights \u001b[38;5;241m=\u001b[39m \u001b[38;5;28;01mNone\u001b[39;00m, \u001b[38;5;28;01mNone\u001b[39;00m, \u001b[38;5;28;01mNone\u001b[39;00m\n\u001b[1;32m--> 641\u001b[0m \u001b[38;5;28;01mreturn\u001b[39;00m \u001b[43mfit_loop\u001b[49m\u001b[43m(\u001b[49m\n\u001b[0;32m    642\u001b[0m \u001b[43m    \u001b[49m\u001b[43mmodel\u001b[49m\u001b[43m,\u001b[49m\n\u001b[0;32m    643\u001b[0m \u001b[43m    \u001b[49m\u001b[43minputs\u001b[49m\u001b[38;5;241;43m=\u001b[39;49m\u001b[43mx\u001b[49m\u001b[43m,\u001b[49m\n\u001b[0;32m    644\u001b[0m \u001b[43m    \u001b[49m\u001b[43mtargets\u001b[49m\u001b[38;5;241;43m=\u001b[39;49m\u001b[43my\u001b[49m\u001b[43m,\u001b[49m\n\u001b[0;32m    645\u001b[0m \u001b[43m    \u001b[49m\u001b[43msample_weights\u001b[49m\u001b[38;5;241;43m=\u001b[39;49m\u001b[43msample_weights\u001b[49m\u001b[43m,\u001b[49m\n\u001b[0;32m    646\u001b[0m \u001b[43m    \u001b[49m\u001b[43mbatch_size\u001b[49m\u001b[38;5;241;43m=\u001b[39;49m\u001b[43mbatch_size\u001b[49m\u001b[43m,\u001b[49m\n\u001b[0;32m    647\u001b[0m \u001b[43m    \u001b[49m\u001b[43mepochs\u001b[49m\u001b[38;5;241;43m=\u001b[39;49m\u001b[43mepochs\u001b[49m\u001b[43m,\u001b[49m\n\u001b[0;32m    648\u001b[0m \u001b[43m    \u001b[49m\u001b[43mverbose\u001b[49m\u001b[38;5;241;43m=\u001b[39;49m\u001b[43mverbose\u001b[49m\u001b[43m,\u001b[49m\n\u001b[0;32m    649\u001b[0m \u001b[43m    \u001b[49m\u001b[43mcallbacks\u001b[49m\u001b[38;5;241;43m=\u001b[39;49m\u001b[43mcallbacks\u001b[49m\u001b[43m,\u001b[49m\n\u001b[0;32m    650\u001b[0m \u001b[43m    \u001b[49m\u001b[43mval_inputs\u001b[49m\u001b[38;5;241;43m=\u001b[39;49m\u001b[43mval_x\u001b[49m\u001b[43m,\u001b[49m\n\u001b[0;32m    651\u001b[0m \u001b[43m    \u001b[49m\u001b[43mval_targets\u001b[49m\u001b[38;5;241;43m=\u001b[39;49m\u001b[43mval_y\u001b[49m\u001b[43m,\u001b[49m\n\u001b[0;32m    652\u001b[0m \u001b[43m    \u001b[49m\u001b[43mval_sample_weights\u001b[49m\u001b[38;5;241;43m=\u001b[39;49m\u001b[43mval_sample_weights\u001b[49m\u001b[43m,\u001b[49m\n\u001b[0;32m    653\u001b[0m \u001b[43m    \u001b[49m\u001b[43mshuffle\u001b[49m\u001b[38;5;241;43m=\u001b[39;49m\u001b[43mshuffle\u001b[49m\u001b[43m,\u001b[49m\n\u001b[0;32m    654\u001b[0m \u001b[43m    \u001b[49m\u001b[43minitial_epoch\u001b[49m\u001b[38;5;241;43m=\u001b[39;49m\u001b[43minitial_epoch\u001b[49m\u001b[43m,\u001b[49m\n\u001b[0;32m    655\u001b[0m \u001b[43m    \u001b[49m\u001b[43msteps_per_epoch\u001b[49m\u001b[38;5;241;43m=\u001b[39;49m\u001b[43msteps_per_epoch\u001b[49m\u001b[43m,\u001b[49m\n\u001b[0;32m    656\u001b[0m \u001b[43m    \u001b[49m\u001b[43mvalidation_steps\u001b[49m\u001b[38;5;241;43m=\u001b[39;49m\u001b[43mvalidation_steps\u001b[49m\u001b[43m,\u001b[49m\n\u001b[0;32m    657\u001b[0m \u001b[43m    \u001b[49m\u001b[43mvalidation_freq\u001b[49m\u001b[38;5;241;43m=\u001b[39;49m\u001b[43mvalidation_freq\u001b[49m\u001b[43m,\u001b[49m\n\u001b[0;32m    658\u001b[0m \u001b[43m    \u001b[49m\u001b[43msteps_name\u001b[49m\u001b[38;5;241;43m=\u001b[39;49m\u001b[38;5;124;43m'\u001b[39;49m\u001b[38;5;124;43msteps_per_epoch\u001b[39;49m\u001b[38;5;124;43m'\u001b[39;49m\u001b[43m)\u001b[49m\n",
      "File \u001b[1;32m~\\AppData\\Local\\Programs\\Python\\Python39\\lib\\site-packages\\keras\\engine\\training_arrays_v1.py:377\u001b[0m, in \u001b[0;36mmodel_iteration\u001b[1;34m(model, inputs, targets, sample_weights, batch_size, epochs, verbose, callbacks, val_inputs, val_targets, val_sample_weights, shuffle, initial_epoch, steps_per_epoch, validation_steps, validation_freq, mode, validation_in_fit, prepared_feed_values_from_dataset, steps_name, **kwargs)\u001b[0m\n\u001b[0;32m    374\u001b[0m callbacks\u001b[38;5;241m.\u001b[39m_call_batch_hook(mode, \u001b[38;5;124m'\u001b[39m\u001b[38;5;124mbegin\u001b[39m\u001b[38;5;124m'\u001b[39m, batch_index, batch_logs)\n\u001b[0;32m    376\u001b[0m \u001b[38;5;66;03m# Get outputs.\u001b[39;00m\n\u001b[1;32m--> 377\u001b[0m batch_outs \u001b[38;5;241m=\u001b[39m \u001b[43mf\u001b[49m\u001b[43m(\u001b[49m\u001b[43mins_batch\u001b[49m\u001b[43m)\u001b[49m\n\u001b[0;32m    378\u001b[0m \u001b[38;5;28;01mif\u001b[39;00m \u001b[38;5;129;01mnot\u001b[39;00m \u001b[38;5;28misinstance\u001b[39m(batch_outs, \u001b[38;5;28mlist\u001b[39m):\n\u001b[0;32m    379\u001b[0m   batch_outs \u001b[38;5;241m=\u001b[39m [batch_outs]\n",
      "File \u001b[1;32m~\\AppData\\Local\\Programs\\Python\\Python39\\lib\\site-packages\\keras\\backend.py:4284\u001b[0m, in \u001b[0;36mGraphExecutionFunction.__call__\u001b[1;34m(self, inputs)\u001b[0m\n\u001b[0;32m   4278\u001b[0m \u001b[38;5;28;01mif\u001b[39;00m (\u001b[38;5;28mself\u001b[39m\u001b[38;5;241m.\u001b[39m_callable_fn \u001b[38;5;129;01mis\u001b[39;00m \u001b[38;5;28;01mNone\u001b[39;00m \u001b[38;5;129;01mor\u001b[39;00m feed_arrays \u001b[38;5;241m!=\u001b[39m \u001b[38;5;28mself\u001b[39m\u001b[38;5;241m.\u001b[39m_feed_arrays \u001b[38;5;129;01mor\u001b[39;00m\n\u001b[0;32m   4279\u001b[0m     symbol_vals \u001b[38;5;241m!=\u001b[39m \u001b[38;5;28mself\u001b[39m\u001b[38;5;241m.\u001b[39m_symbol_vals \u001b[38;5;129;01mor\u001b[39;00m\n\u001b[0;32m   4280\u001b[0m     feed_symbols \u001b[38;5;241m!=\u001b[39m \u001b[38;5;28mself\u001b[39m\u001b[38;5;241m.\u001b[39m_feed_symbols \u001b[38;5;129;01mor\u001b[39;00m \u001b[38;5;28mself\u001b[39m\u001b[38;5;241m.\u001b[39mfetches \u001b[38;5;241m!=\u001b[39m \u001b[38;5;28mself\u001b[39m\u001b[38;5;241m.\u001b[39m_fetches \u001b[38;5;129;01mor\u001b[39;00m\n\u001b[0;32m   4281\u001b[0m     session \u001b[38;5;241m!=\u001b[39m \u001b[38;5;28mself\u001b[39m\u001b[38;5;241m.\u001b[39m_session):\n\u001b[0;32m   4282\u001b[0m   \u001b[38;5;28mself\u001b[39m\u001b[38;5;241m.\u001b[39m_make_callable(feed_arrays, feed_symbols, symbol_vals, session)\n\u001b[1;32m-> 4284\u001b[0m fetched \u001b[38;5;241m=\u001b[39m \u001b[38;5;28;43mself\u001b[39;49m\u001b[38;5;241;43m.\u001b[39;49m\u001b[43m_callable_fn\u001b[49m\u001b[43m(\u001b[49m\u001b[38;5;241;43m*\u001b[39;49m\u001b[43marray_vals\u001b[49m\u001b[43m,\u001b[49m\n\u001b[0;32m   4285\u001b[0m \u001b[43m                            \u001b[49m\u001b[43mrun_metadata\u001b[49m\u001b[38;5;241;43m=\u001b[39;49m\u001b[38;5;28;43mself\u001b[39;49m\u001b[38;5;241;43m.\u001b[39;49m\u001b[43mrun_metadata\u001b[49m\u001b[43m)\u001b[49m\n\u001b[0;32m   4286\u001b[0m \u001b[38;5;28mself\u001b[39m\u001b[38;5;241m.\u001b[39m_call_fetch_callbacks(fetched[\u001b[38;5;241m-\u001b[39m\u001b[38;5;28mlen\u001b[39m(\u001b[38;5;28mself\u001b[39m\u001b[38;5;241m.\u001b[39m_fetches):])\n\u001b[0;32m   4287\u001b[0m output_structure \u001b[38;5;241m=\u001b[39m tf\u001b[38;5;241m.\u001b[39mnest\u001b[38;5;241m.\u001b[39mpack_sequence_as(\n\u001b[0;32m   4288\u001b[0m     \u001b[38;5;28mself\u001b[39m\u001b[38;5;241m.\u001b[39m_outputs_structure,\n\u001b[0;32m   4289\u001b[0m     fetched[:\u001b[38;5;28mlen\u001b[39m(\u001b[38;5;28mself\u001b[39m\u001b[38;5;241m.\u001b[39moutputs)],\n\u001b[0;32m   4290\u001b[0m     expand_composites\u001b[38;5;241m=\u001b[39m\u001b[38;5;28;01mTrue\u001b[39;00m)\n",
      "File \u001b[1;32m~\\AppData\\Local\\Programs\\Python\\Python39\\lib\\site-packages\\tensorflow\\python\\client\\session.py:1480\u001b[0m, in \u001b[0;36mBaseSession._Callable.__call__\u001b[1;34m(self, *args, **kwargs)\u001b[0m\n\u001b[0;32m   1478\u001b[0m \u001b[38;5;28;01mtry\u001b[39;00m:\n\u001b[0;32m   1479\u001b[0m   run_metadata_ptr \u001b[38;5;241m=\u001b[39m tf_session\u001b[38;5;241m.\u001b[39mTF_NewBuffer() \u001b[38;5;28;01mif\u001b[39;00m run_metadata \u001b[38;5;28;01melse\u001b[39;00m \u001b[38;5;28;01mNone\u001b[39;00m\n\u001b[1;32m-> 1480\u001b[0m   ret \u001b[38;5;241m=\u001b[39m \u001b[43mtf_session\u001b[49m\u001b[38;5;241;43m.\u001b[39;49m\u001b[43mTF_SessionRunCallable\u001b[49m\u001b[43m(\u001b[49m\u001b[38;5;28;43mself\u001b[39;49m\u001b[38;5;241;43m.\u001b[39;49m\u001b[43m_session\u001b[49m\u001b[38;5;241;43m.\u001b[39;49m\u001b[43m_session\u001b[49m\u001b[43m,\u001b[49m\n\u001b[0;32m   1481\u001b[0m \u001b[43m                                         \u001b[49m\u001b[38;5;28;43mself\u001b[39;49m\u001b[38;5;241;43m.\u001b[39;49m\u001b[43m_handle\u001b[49m\u001b[43m,\u001b[49m\u001b[43m \u001b[49m\u001b[43margs\u001b[49m\u001b[43m,\u001b[49m\n\u001b[0;32m   1482\u001b[0m \u001b[43m                                         \u001b[49m\u001b[43mrun_metadata_ptr\u001b[49m\u001b[43m)\u001b[49m\n\u001b[0;32m   1483\u001b[0m   \u001b[38;5;28;01mif\u001b[39;00m run_metadata:\n\u001b[0;32m   1484\u001b[0m     proto_data \u001b[38;5;241m=\u001b[39m tf_session\u001b[38;5;241m.\u001b[39mTF_GetBuffer(run_metadata_ptr)\n",
      "\u001b[1;31mKeyboardInterrupt\u001b[0m: "
     ]
    }
   ],
   "source": [
    "results_protected = []\n",
    "for len_steal in [250, 500, 1000, 2000, 4000, 5000]:\n",
    "    indices = np.random.permutation(len(X_test0))\n",
    "    x_steal = X_test0[indices[:len_steal]]\n",
    "    y_steal = y_test0[indices[:len_steal]]\n",
    "    x_test = X_test0[indices[len_steal:]]\n",
    "    y_test = y_test0[indices[len_steal:]]\n",
    "\n",
    "    for name, attack in attack_catalogue.items():\n",
    "        model_stolen = malware_steal_model()\n",
    "        classifier_stolen = KerasClassifier(model_stolen, clip_values=(0, 1), use_logits=False)\n",
    "        if name==\"FunctionallyEquivalentExtraction\":\n",
    "            classifier_stolen = attack.extract(np.reshape(x_steal, [len(x_steal), -1]), y_steal, thieved_classifier=classifier_stolen)\n",
    "        else:\n",
    "            classifier_stolen = attack.extract(x_steal, y_steal, thieved_classifier=classifier_stolen)\n",
    "        \n",
    "        acc = classifier_stolen._model.evaluate(x_test, y_test)[1]\n",
    "        print(name, \":\", acc)\n",
    "        results_protected.append((name, len_steal, acc))"
   ]
  },
  {
   "cell_type": "code",
   "execution_count": 46,
   "metadata": {},
   "outputs": [
    {
     "data": {
      "image/png": "[encoded data removed]",
      "text/plain": [
       "<Figure size 576x432 with 1 Axes>"
      ]
     },
     "metadata": {
      "needs_background": "light"
     },
     "output_type": "display_data"
    }
   ],
   "source": [
    "df_protected = pd.DataFrame(results_protected, columns=('Method Name', 'Stealing Dataset Size', 'Accuracy'))\n",
    "fig, ax = plt.subplots(figsize=(8,6))\n",
    "ax.set_xlabel(\"Stealing Dataset Size\")\n",
    "ax.set_ylabel(\"Stolen Model Accuracy\")\n",
    "for name, group in df_protected.groupby(\"Method Name\"):\n",
    "    group.plot(1, 2, ax=ax, label=name)\n",
    "plt.show()"
   ]
  },
  {
   "cell_type": "code",
   "execution_count": 47,
   "metadata": {},
   "outputs": [],
   "source": [
    "df_combined = pd.concat([df, df_protected])\n",
    "groupby = df_combined.groupby(\"Method Name\")"
   ]
  },
  {
   "cell_type": "code",
   "execution_count": 48,
   "metadata": {},
   "outputs": [
    {
     "name": "stderr",
     "output_type": "stream",
     "text": [
      "C:\\Users\\diana\\AppData\\Local\\Temp\\ipykernel_3172\\1578407588.py:8: UserWarning: Matplotlib is currently using module://matplotlib_inline.backend_inline, which is a non-GUI backend, so cannot show the figure.\n",
      "  fig.show()\n",
      "C:\\Users\\diana\\AppData\\Local\\Temp\\ipykernel_3172\\1578407588.py:8: UserWarning: Matplotlib is currently using module://matplotlib_inline.backend_inline, which is a non-GUI backend, so cannot show the figure.\n",
      "  fig.show()\n"
     ]
    },
    {
     "data": {
      "image/png": "[encoded data removed]",
      "text/plain": [
       "<Figure size 576x432 with 1 Axes>"
      ]
     },
     "metadata": {
      "needs_background": "light"
     },
     "output_type": "display_data"
    },
    {
     "data": {
      "image/png": "[encoded data removed]",
      "text/plain": [
       "<Figure size 576x432 with 1 Axes>"
      ]
     },
     "metadata": {
      "needs_background": "light"
     },
     "output_type": "display_data"
    }
   ],
   "source": [
    "names = [\"CopycatCNN\", \"KnockoffNets\"]\n",
    "for name in names:\n",
    "    fig, ax = plt.subplots(figsize=(8,6))\n",
    "    groupby.get_group(\"Probabilistic \" + name).plot(1, 2,ax = ax, label = \"Probabilistic \" + name)\n",
    "    groupby.get_group(\"Probabilistic \" + name + \" (vs. Protected)\").plot(1,2,ax=ax, label=\"Probabilistic \" + name + \" (vs. Protected)\")\n",
    "    ax.set_xlabel(\"Stealing Dataset Size\")\n",
    "    ax.set_ylabel(\"Stolen Model Accuracy\")\n",
    "    fig.show()"
   ]
  },
  {
   "cell_type": "code",
   "execution_count": null,
   "metadata": {},
   "outputs": [],
   "source": []
  }
 ],
 "metadata": {
  "kernelspec": {
   "display_name": "Python 3 (ipykernel)",
   "language": "python",
   "name": "python3"
  },
  "language_info": {
   "codemirror_mode": {
    "name": "ipython",
    "version": 3
   },
   "file_extension": ".py",
   "mimetype": "text/x-python",
   "name": "python",
   "nbconvert_exporter": "python",
   "pygments_lexer": "ipython3",
   "version": "3.9.10"
  }
 },
 "nbformat": 4,
 "nbformat_minor": 4
}

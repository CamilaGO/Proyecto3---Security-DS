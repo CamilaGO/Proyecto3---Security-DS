{
 "cells": [
  {
   "cell_type": "markdown",
   "metadata": {},
   "source": [
    "# PROYECTO 3 - Security Data Science\n",
    "### Parte 1"
   ]
  },
  {
   "cell_type": "code",
   "execution_count": 1,
   "metadata": {},
   "outputs": [
    {
     "name": "stderr",
     "output_type": "stream",
     "text": [
      "C:\\Users\\diana\\AppData\\Local\\Programs\\Python\\Python39\\lib\\site-packages\\tqdm\\auto.py:22: TqdmWarning: IProgress not found. Please update jupyter and ipywidgets. See https://ipywidgets.readthedocs.io/en/stable/user_install.html\n",
      "  from .autonotebook import tqdm as notebook_tqdm\n",
      "C:\\Users\\diana\\AppData\\Local\\Programs\\Python\\Python39\\lib\\site-packages\\art\\estimators\\certification\\__init__.py:12: UserWarning: PyTorch not found. Not importing DeepZ functionality\n",
      "  warnings.warn(\"PyTorch not found. Not importing DeepZ functionality\")\n"
     ]
    }
   ],
   "source": [
    "import sys\n",
    "import os\n",
    "from math import log\n",
    "import numpy as np\n",
    "import scipy as sp\n",
    "from PIL import Image\n",
    "import matplotlib.pyplot as plt\n",
    "import joblib\n",
    "import pandas as pd\n",
    "from sklearn.model_selection import train_test_split\n",
    "from art.estimators.classification import KerasClassifier\n",
    "import keras\n",
    "from tensorflow.keras.layers import Input\n",
    "from keras.models import Sequential, Model\n",
    "from keras.layers import Dense, Dropout, Flatten\n",
    "from keras.layers import Conv2D, MaxPooling2D, InputLayer, Reshape\n",
    "from tensorflow.keras.layers import BatchNormalization\n",
    "# from keras.layers.normalization import BatchNormalization\n",
    "import tensorflow as tf\n",
    "from art.attacks import ExtractionAttack\n",
    "from art.attacks.extraction import CopycatCNN, KnockoffNets\n",
    "from art.defences.postprocessor import ReverseSigmoid"
   ]
  },
  {
   "cell_type": "code",
   "execution_count": 2,
   "metadata": {},
   "outputs": [],
   "source": [
    "# Escribir aqui el path de la carpeta con imagenes. Usar doble \\\\ para el path\n",
    "path_root = \"D:\\\\UVG\\\\9noSemestre\\\\SecurityDataScience\\\\Proyecto3---Security-DS\\\\malimg_dataset\\\\malimg_paper_dataset_imgs\\\\\""
   ]
  },
  {
   "cell_type": "code",
   "execution_count": 3,
   "metadata": {},
   "outputs": [
    {
     "name": "stdout",
     "output_type": "stream",
     "text": [
      "Found 9339 images belonging to 25 classes.\n"
     ]
    }
   ],
   "source": [
    "from keras.preprocessing.image import ImageDataGenerator\n",
    "# se ven cuandas clases de imagenes hay en la data total\n",
    "batches = ImageDataGenerator().flow_from_directory(directory = path_root, target_size = (64, 64), batch_size = 10000)"
   ]
  },
  {
   "cell_type": "code",
   "execution_count": 4,
   "metadata": {},
   "outputs": [],
   "source": [
    "# Usamos next() para recorrer todos los elementos y generar un batch de imagenes y label del data set\n",
    "imgs, labels = next(batches)"
   ]
  },
  {
   "cell_type": "code",
   "execution_count": 5,
   "metadata": {},
   "outputs": [
    {
     "data": {
      "text/plain": [
       "(9339, 64, 64, 3)"
      ]
     },
     "execution_count": 5,
     "metadata": {},
     "output_type": "execute_result"
    }
   ],
   "source": [
    "# nuestras imagenes estan en RGB con formato 64x64 [width x length x depth].\n",
    "imgs.shape"
   ]
  },
  {
   "cell_type": "markdown",
   "metadata": {},
   "source": [
    "# Entrenamiento y prueba\n",
    "Se divide la data en 70% train y 30% test "
   ]
  },
  {
   "cell_type": "code",
   "execution_count": 6,
   "metadata": {},
   "outputs": [],
   "source": [
    "X_train, X_test0, y_train, y_test0 = train_test_split(imgs / 255., labels, test_size = 0.45)"
   ]
  },
  {
   "cell_type": "code",
   "execution_count": 7,
   "metadata": {},
   "outputs": [
    {
     "data": {
      "text/plain": [
       "(5136, 64, 64, 3)"
      ]
     },
     "execution_count": 7,
     "metadata": {},
     "output_type": "execute_result"
    }
   ],
   "source": [
    "X_train.shape"
   ]
  },
  {
   "cell_type": "markdown",
   "metadata": {},
   "source": [
    "# Modelo de Red Neural Convolutional"
   ]
  },
  {
   "cell_type": "code",
   "execution_count": 8,
   "metadata": {},
   "outputs": [],
   "source": [
    "num_classes = 25 # se define el total de clases encontradas en las secciones anteriores\n",
    "\n",
    "def malware_model():\n",
    "    # funcion para crear el modelo secuencial que permitira analizar el malware segun las imagenes\n",
    "    Malware_model = Sequential()\n",
    "    Malware_model.add(Conv2D(30, kernel_size=(3, 3),\n",
    "                     activation='relu',\n",
    "                     input_shape=(64,64,3)))\n",
    "\n",
    "    Malware_model.add(MaxPooling2D(pool_size=(2, 2)))\n",
    "    Malware_model.add(Conv2D(15, (3, 3), activation='relu'))\n",
    "    Malware_model.add(MaxPooling2D(pool_size=(2, 2)))\n",
    "    Malware_model.add(Dropout(0.25))\n",
    "    Malware_model.add(Flatten())\n",
    "    Malware_model.add(Dense(128, activation='relu'))\n",
    "    Malware_model.add(Dropout(0.5))\n",
    "    Malware_model.add(Dense(50, activation='relu'))\n",
    "    Malware_model.add(Dense(num_classes, activation='softmax'))\n",
    "    Malware_model.compile(loss='categorical_crossentropy', optimizer = 'adam', metrics=['accuracy'])\n",
    "    return Malware_model"
   ]
  },
  {
   "cell_type": "code",
   "execution_count": 9,
   "metadata": {},
   "outputs": [],
   "source": [
    "Malware_model = malware_model() # se crea el modelo"
   ]
  },
  {
   "cell_type": "code",
   "execution_count": 10,
   "metadata": {},
   "outputs": [
    {
     "name": "stdout",
     "output_type": "stream",
     "text": [
      "Model: \"sequential\"\n",
      "_________________________________________________________________\n",
      " Layer (type)                Output Shape              Param #   \n",
      "=================================================================\n",
      " conv2d (Conv2D)             (None, 62, 62, 30)        840       \n",
      "                                                                 \n",
      " max_pooling2d (MaxPooling2D  (None, 31, 31, 30)       0         \n",
      " )                                                               \n",
      "                                                                 \n",
      " conv2d_1 (Conv2D)           (None, 29, 29, 15)        4065      \n",
      "                                                                 \n",
      " max_pooling2d_1 (MaxPooling  (None, 14, 14, 15)       0         \n",
      " 2D)                                                             \n",
      "                                                                 \n",
      " dropout (Dropout)           (None, 14, 14, 15)        0         \n",
      "                                                                 \n",
      " flatten (Flatten)           (None, 2940)              0         \n",
      "                                                                 \n",
      " dense (Dense)               (None, 128)               376448    \n",
      "                                                                 \n",
      " dropout_1 (Dropout)         (None, 128)               0         \n",
      "                                                                 \n",
      " dense_1 (Dense)             (None, 50)                6450      \n",
      "                                                                 \n",
      " dense_2 (Dense)             (None, 25)                1275      \n",
      "                                                                 \n",
      "=================================================================\n",
      "Total params: 389,078\n",
      "Trainable params: 389,078\n",
      "Non-trainable params: 0\n",
      "_________________________________________________________________\n"
     ]
    }
   ],
   "source": [
    "Malware_model.summary()"
   ]
  },
  {
   "cell_type": "code",
   "execution_count": 11,
   "metadata": {},
   "outputs": [
    {
     "data": {
      "text/plain": [
       "(5136, 25)"
      ]
     },
     "execution_count": 11,
     "metadata": {},
     "output_type": "execute_result"
    }
   ],
   "source": [
    "y_train.shape"
   ]
  },
  {
   "cell_type": "code",
   "execution_count": 12,
   "metadata": {},
   "outputs": [
    {
     "data": {
      "text/plain": [
       "array([ 7,  3,  2, ..., 23,  2, 14], dtype=int64)"
      ]
     },
     "execution_count": 12,
     "metadata": {},
     "output_type": "execute_result"
    }
   ],
   "source": [
    "y_train_new = np.argmax(y_train, axis=1) # se extraen solo las clases\n",
    "y_train_new"
   ]
  },
  {
   "cell_type": "markdown",
   "metadata": {},
   "source": [
    "### Entrenamiento "
   ]
  },
  {
   "cell_type": "code",
   "execution_count": 13,
   "metadata": {},
   "outputs": [
    {
     "name": "stdout",
     "output_type": "stream",
     "text": [
      "Epoch 1/10\n",
      "161/161 [==============================] - 23s 137ms/step - loss: 1.8753 - accuracy: 0.4348 - val_loss: 0.9762 - val_accuracy: 0.6681\n",
      "Epoch 2/10\n",
      "161/161 [==============================] - 23s 141ms/step - loss: 0.8775 - accuracy: 0.7087 - val_loss: 0.5512 - val_accuracy: 0.7804\n",
      "Epoch 3/10\n",
      "161/161 [==============================] - 22s 137ms/step - loss: 0.5170 - accuracy: 0.8419 - val_loss: 0.2862 - val_accuracy: 0.9077\n",
      "Epoch 4/10\n",
      "161/161 [==============================] - 22s 140ms/step - loss: 0.3588 - accuracy: 0.8880 - val_loss: 0.2080 - val_accuracy: 0.9329\n",
      "Epoch 5/10\n",
      "161/161 [==============================] - 21s 129ms/step - loss: 0.2675 - accuracy: 0.9200 - val_loss: 0.2040 - val_accuracy: 0.9393\n",
      "Epoch 6/10\n",
      "161/161 [==============================] - 22s 137ms/step - loss: 0.2303 - accuracy: 0.9274 - val_loss: 0.1711 - val_accuracy: 0.9443\n",
      "Epoch 7/10\n",
      "161/161 [==============================] - 22s 139ms/step - loss: 0.2209 - accuracy: 0.9276 - val_loss: 0.1508 - val_accuracy: 0.9553\n",
      "Epoch 8/10\n",
      "161/161 [==============================] - 24s 147ms/step - loss: 0.1847 - accuracy: 0.9398 - val_loss: 0.1646 - val_accuracy: 0.9517\n",
      "Epoch 9/10\n",
      "161/161 [==============================] - 20s 123ms/step - loss: 0.1658 - accuracy: 0.9467 - val_loss: 0.1466 - val_accuracy: 0.9536\n",
      "Epoch 10/10\n",
      "161/161 [==============================] - 21s 133ms/step - loss: 0.1534 - accuracy: 0.9488 - val_loss: 0.1427 - val_accuracy: 0.9576\n"
     ]
    },
    {
     "data": {
      "text/plain": [
       "<keras.callbacks.History at 0x20df57a6280>"
      ]
     },
     "execution_count": 13,
     "metadata": {},
     "output_type": "execute_result"
    }
   ],
   "source": [
    "Malware_model.fit(X_train, y_train, validation_data=(X_test0, y_test0), epochs=10)"
   ]
  },
  {
   "cell_type": "code",
   "execution_count": 14,
   "metadata": {},
   "outputs": [
    {
     "name": "stdout",
     "output_type": "stream",
     "text": [
      "132/132 [==============================] - 4s 30ms/step - loss: 0.1427 - accuracy: 0.9576\n"
     ]
    }
   ],
   "source": [
    "scores = Malware_model.evaluate(X_test0, y_test0)"
   ]
  },
  {
   "cell_type": "code",
   "execution_count": 15,
   "metadata": {},
   "outputs": [
    {
     "name": "stdout",
     "output_type": "stream",
     "text": [
      "Accuracy final CNN:  0.957649290561676\n"
     ]
    }
   ],
   "source": [
    "print('Accuracy final CNN: ', scores[1])\n",
    "# Fue bastante alto el accuracy obtenido"
   ]
  },
  {
   "cell_type": "code",
   "execution_count": 16,
   "metadata": {},
   "outputs": [],
   "source": [
    "# se guarda el modelo \n",
    "Malware_model.save('malware-listo-model.h5')"
   ]
  },
  {
   "cell_type": "code",
   "execution_count": 17,
   "metadata": {},
   "outputs": [],
   "source": [
    "if tf.executing_eagerly():\n",
    "    tf.compat.v1.disable_eager_execution()"
   ]
  },
  {
   "cell_type": "code",
   "execution_count": 18,
   "metadata": {},
   "outputs": [],
   "source": [
    "# Recrea exactamente el mismo modelo solo cargandolo desde el archivo\n",
    "malware_model = keras.models.load_model('malware-listo-model.h5')"
   ]
  },
  {
   "cell_type": "code",
   "execution_count": 19,
   "metadata": {},
   "outputs": [],
   "source": [
    "classifier_original = KerasClassifier(malware_model, clip_values=(0, 1), use_logits=False) # se convierte en un clasificador de Keras"
   ]
  },
  {
   "cell_type": "markdown",
   "metadata": {},
   "source": [
    "### Modelo no protegido"
   ]
  },
  {
   "cell_type": "code",
   "execution_count": 20,
   "metadata": {},
   "outputs": [],
   "source": [
    "num_epochs = 10 # se guarda el numero de epocas con las que el modelo se entreno y cuanta data extraer\n",
    "len_steal = 5000 \n",
    "# Stealing from the unprotected classifier.\n",
    "attack_catalogue = {\"Probabilistic CopycatCNN\": CopycatCNN(classifier=classifier_original,\n",
    "                                              batch_size_fit=64,\n",
    "                                              batch_size_query=64,\n",
    "                                              nb_epochs=num_epochs,\n",
    "                                              nb_stolen=len_steal,\n",
    "                                              use_probability=True),\n",
    "                    \"Argmax CopycatCNN\": CopycatCNN(classifier=classifier_original,\n",
    "                                              batch_size_fit=64,\n",
    "                                              batch_size_query=64,\n",
    "                                              nb_epochs=num_epochs,\n",
    "                                              nb_stolen=len_steal,\n",
    "                                              use_probability=False),\n",
    "                    \"Probabilistic KnockoffNets\": KnockoffNets(classifier=classifier_original,\n",
    "                                              batch_size_fit=64,\n",
    "                                              batch_size_query=64,\n",
    "                                              nb_epochs=num_epochs,\n",
    "                                              nb_stolen=len_steal,\n",
    "                                              use_probability=True),\n",
    "                    \"Argmax KnockoffNets\": KnockoffNets(classifier=classifier_original,\n",
    "                                              batch_size_fit=64,\n",
    "                                              batch_size_query=64,\n",
    "                                              nb_epochs=num_epochs,\n",
    "                                              nb_stolen=len_steal,\n",
    "                                              use_probability=False),\n",
    "                   }"
   ]
  },
  {
   "cell_type": "code",
   "execution_count": 21,
   "metadata": {},
   "outputs": [],
   "source": [
    "def malware_steal_model():\n",
    "    # se crea un nuevo modelo para la data robada\n",
    "    Malware_model = Sequential(Conv2D(30, kernel_size=(3, 3),\n",
    "                     activation='relu',\n",
    "                     input_shape=(64,64,3)))\n",
    "   \n",
    "    Malware_model.add(MaxPooling2D(pool_size=(2, 2)))\n",
    "    Malware_model.add(Conv2D(15, (3, 3), activation='relu'))\n",
    "    Malware_model.add(MaxPooling2D(pool_size=(2, 2)))\n",
    "    Malware_model.add(Dropout(0.25))\n",
    "    Malware_model.add(Flatten())\n",
    "    Malware_model.add(Dense(128, activation='relu'))\n",
    "    Malware_model.add(Dropout(0.5))\n",
    "    Malware_model.add(Dense(50, activation='relu'))\n",
    "    Malware_model.add(Dense(num_classes, activation='softmax'))\n",
    "    Malware_model.compile(loss='categorical_crossentropy', optimizer = 'adam', metrics=['accuracy'])\n",
    "    return Malware_model"
   ]
  },
  {
   "cell_type": "code",
   "execution_count": 22,
   "metadata": {},
   "outputs": [
    {
     "name": "stderr",
     "output_type": "stream",
     "text": [
      "C:\\Users\\diana\\AppData\\Local\\Programs\\Python\\Python39\\lib\\site-packages\\keras\\engine\\training_v1.py:2067: UserWarning: `Model.state_updates` will be removed in a future version. This property should not be used in TensorFlow 2.0, as `updates` are applied automatically.\n",
      "  updates=self.state_updates,\n"
     ]
    },
    {
     "name": "stdout",
     "output_type": "stream",
     "text": [
      "Train on 250 samples\n",
      "Epoch 1/10\n",
      "250/250 [==============================] - 1s 4ms/sample - loss: 3.0328 - accuracy: 0.2120\n",
      "Epoch 2/10\n",
      "250/250 [==============================] - 1s 2ms/sample - loss: 2.7882 - accuracy: 0.3440\n",
      "Epoch 3/10\n",
      "250/250 [==============================] - 1s 3ms/sample - loss: 2.6907 - accuracy: 0.3280\n",
      "Epoch 4/10\n",
      "250/250 [==============================] - 1s 3ms/sample - loss: 2.5611 - accuracy: 0.3080\n",
      "Epoch 5/10\n",
      "250/250 [==============================] - 1s 3ms/sample - loss: 2.4791 - accuracy: 0.3440\n",
      "Epoch 6/10\n",
      "250/250 [==============================] - 1s 3ms/sample - loss: 2.3873 - accuracy: 0.3080\n",
      "Epoch 7/10\n",
      "250/250 [==============================] - 1s 3ms/sample - loss: 2.2482 - accuracy: 0.3400\n",
      "Epoch 8/10\n",
      "250/250 [==============================] - 1s 2ms/sample - loss: 2.1859 - accuracy: 0.4200\n",
      "Epoch 9/10\n",
      "250/250 [==============================] - 1s 3ms/sample - loss: 2.0741 - accuracy: 0.4680\n",
      "Epoch 10/10\n",
      "250/250 [==============================] - 1s 3ms/sample - loss: 1.9233 - accuracy: 0.4840\n"
     ]
    },
    {
     "name": "stderr",
     "output_type": "stream",
     "text": [
      "C:\\Users\\diana\\AppData\\Local\\Programs\\Python\\Python39\\lib\\site-packages\\keras\\engine\\training_v1.py:2045: UserWarning: `Model.state_updates` will be removed in a future version. This property should not be used in TensorFlow 2.0, as `updates` are applied automatically.\n",
      "  updates = self.state_updates\n"
     ]
    },
    {
     "name": "stdout",
     "output_type": "stream",
     "text": [
      "Probabilistic CopycatCNN : 0.43561852\n",
      "Train on 250 samples\n",
      "Epoch 1/10\n",
      "250/250 [==============================] - 1s 4ms/sample - loss: 3.0730 - accuracy: 0.0920\n",
      "Epoch 2/10\n",
      "250/250 [==============================] - 1s 3ms/sample - loss: 2.8327 - accuracy: 0.2320\n",
      "Epoch 3/10\n",
      "250/250 [==============================] - 1s 2ms/sample - loss: 2.6312 - accuracy: 0.2560\n",
      "Epoch 4/10\n",
      "250/250 [==============================] - 1s 3ms/sample - loss: 2.6460 - accuracy: 0.2280\n",
      "Epoch 5/10\n",
      "250/250 [==============================] - 1s 3ms/sample - loss: 2.5598 - accuracy: 0.2960\n",
      "Epoch 6/10\n",
      "250/250 [==============================] - 1s 3ms/sample - loss: 2.4195 - accuracy: 0.3120\n",
      "Epoch 7/10\n",
      "250/250 [==============================] - 1s 3ms/sample - loss: 2.3978 - accuracy: 0.3040\n",
      "Epoch 8/10\n",
      "250/250 [==============================] - 1s 3ms/sample - loss: 2.1928 - accuracy: 0.3600\n",
      "Epoch 9/10\n",
      "250/250 [==============================] - 1s 3ms/sample - loss: 2.1189 - accuracy: 0.3880\n",
      "Epoch 10/10\n",
      "250/250 [==============================] - 1s 3ms/sample - loss: 2.0557 - accuracy: 0.4040\n",
      "Argmax CopycatCNN : 0.41715154\n",
      "Probabilistic KnockoffNets : 0.43511257\n",
      "Argmax KnockoffNets : 0.4295472\n",
      "Train on 500 samples\n",
      "Epoch 1/10\n",
      "500/500 [==============================] - 1s 3ms/sample - loss: 2.7892 - accuracy: 0.2140\n",
      "Epoch 2/10\n",
      "500/500 [==============================] - 1s 3ms/sample - loss: 2.5566 - accuracy: 0.3280\n",
      "Epoch 3/10\n",
      "500/500 [==============================] - 1s 2ms/sample - loss: 2.4340 - accuracy: 0.3380\n",
      "Epoch 4/10\n",
      "500/500 [==============================] - 1s 3ms/sample - loss: 2.2732 - accuracy: 0.3560\n",
      "Epoch 5/10\n",
      "500/500 [==============================] - 1s 3ms/sample - loss: 2.1457 - accuracy: 0.4140\n",
      "Epoch 6/10\n",
      "500/500 [==============================] - 1s 2ms/sample - loss: 1.9476 - accuracy: 0.4360\n",
      "Epoch 7/10\n",
      "500/500 [==============================] - 1s 3ms/sample - loss: 1.8406 - accuracy: 0.4620\n",
      "Epoch 8/10\n",
      "500/500 [==============================] - 1s 3ms/sample - loss: 1.6648 - accuracy: 0.5120\n",
      "Epoch 9/10\n",
      "500/500 [==============================] - 1s 3ms/sample - loss: 1.5705 - accuracy: 0.5380\n",
      "Epoch 10/10\n",
      "500/500 [==============================] - 1s 3ms/sample - loss: 1.4043 - accuracy: 0.6160\n",
      "Probabilistic CopycatCNN : 0.56386715\n",
      "Train on 500 samples\n",
      "Epoch 1/10\n",
      "500/500 [==============================] - 2s 3ms/sample - loss: 2.8544 - accuracy: 0.2620\n",
      "Epoch 2/10\n",
      "500/500 [==============================] - 1s 3ms/sample - loss: 2.5951 - accuracy: 0.3340\n",
      "Epoch 3/10\n",
      "500/500 [==============================] - 1s 3ms/sample - loss: 2.4443 - accuracy: 0.3400\n",
      "Epoch 4/10\n",
      "500/500 [==============================] - 1s 2ms/sample - loss: 2.2580 - accuracy: 0.3620\n",
      "Epoch 5/10\n",
      "500/500 [==============================] - 1s 3ms/sample - loss: 2.1018 - accuracy: 0.4340\n",
      "Epoch 6/10\n",
      "500/500 [==============================] - 1s 3ms/sample - loss: 1.9062 - accuracy: 0.4500\n",
      "Epoch 7/10\n",
      "500/500 [==============================] - 1s 3ms/sample - loss: 1.7664 - accuracy: 0.4960\n",
      "Epoch 8/10\n",
      "500/500 [==============================] - 1s 2ms/sample - loss: 1.6608 - accuracy: 0.5160\n",
      "Epoch 9/10\n",
      "500/500 [==============================] - 1s 3ms/sample - loss: 1.5899 - accuracy: 0.5140\n",
      "Epoch 10/10\n",
      "500/500 [==============================] - 1s 3ms/sample - loss: 1.5075 - accuracy: 0.5380\n",
      "Argmax CopycatCNN : 0.5149878\n",
      "Probabilistic KnockoffNets : 0.51876855\n",
      "Argmax KnockoffNets : 0.6073454\n",
      "Train on 1000 samples\n",
      "Epoch 1/10\n",
      "1000/1000 [==============================] - 3s 3ms/sample - loss: 2.8645 - accuracy: 0.2990\n",
      "Epoch 2/10\n",
      "1000/1000 [==============================] - 3s 3ms/sample - loss: 2.4467 - accuracy: 0.3430\n",
      "Epoch 3/10\n",
      "1000/1000 [==============================] - 4s 4ms/sample - loss: 2.1208 - accuracy: 0.4190\n",
      "Epoch 4/10\n",
      "1000/1000 [==============================] - 4s 4ms/sample - loss: 1.8526 - accuracy: 0.4560\n",
      "Epoch 5/10\n",
      "1000/1000 [==============================] - 4s 4ms/sample - loss: 1.6499 - accuracy: 0.4900\n",
      "Epoch 6/10\n",
      "1000/1000 [==============================] - 4s 4ms/sample - loss: 1.4935 - accuracy: 0.5220\n",
      "Epoch 7/10\n",
      "1000/1000 [==============================] - 5s 5ms/sample - loss: 1.3837 - accuracy: 0.5240\n",
      "Epoch 8/10\n",
      "1000/1000 [==============================] - 4s 4ms/sample - loss: 1.2698 - accuracy: 0.5910\n",
      "Epoch 9/10\n",
      "1000/1000 [==============================] - 5s 5ms/sample - loss: 1.1013 - accuracy: 0.6320\n",
      "Epoch 10/10\n",
      "1000/1000 [==============================] - 5s 5ms/sample - loss: 1.0027 - accuracy: 0.6780\n",
      "Probabilistic CopycatCNN : 0.6962223\n",
      "Train on 1000 samples\n",
      "Epoch 1/10\n",
      "1000/1000 [==============================] - 4s 4ms/sample - loss: 2.7072 - accuracy: 0.2570\n",
      "Epoch 2/10\n",
      "1000/1000 [==============================] - 4s 4ms/sample - loss: 2.3750 - accuracy: 0.3270\n",
      "Epoch 3/10\n",
      "1000/1000 [==============================] - 4s 4ms/sample - loss: 2.1065 - accuracy: 0.4080\n",
      "Epoch 4/10\n",
      "1000/1000 [==============================] - 4s 4ms/sample - loss: 1.8341 - accuracy: 0.4500\n",
      "Epoch 5/10\n",
      "1000/1000 [==============================] - 4s 4ms/sample - loss: 1.6176 - accuracy: 0.4850\n",
      "Epoch 6/10\n",
      "1000/1000 [==============================] - 4s 4ms/sample - loss: 1.4173 - accuracy: 0.5230\n",
      "Epoch 7/10\n",
      "1000/1000 [==============================] - 4s 4ms/sample - loss: 1.2596 - accuracy: 0.5750\n",
      "Epoch 8/10\n",
      "1000/1000 [==============================] - 4s 4ms/sample - loss: 1.1226 - accuracy: 0.6000\n",
      "Epoch 9/10\n",
      "1000/1000 [==============================] - 4s 4ms/sample - loss: 0.9761 - accuracy: 0.6670\n",
      "Epoch 10/10\n",
      "1000/1000 [==============================] - 4s 4ms/sample - loss: 0.8725 - accuracy: 0.7180\n",
      "Argmax CopycatCNN : 0.69122696\n",
      "Probabilistic KnockoffNets : 0.6881049\n",
      "Argmax KnockoffNets : 0.8070559\n",
      "Train on 2000 samples\n",
      "Epoch 1/10\n",
      "2000/2000 [==============================] - 10s 5ms/sample - loss: 2.6003 - accuracy: 0.3050\n",
      "Epoch 2/10\n",
      "2000/2000 [==============================] - 11s 5ms/sample - loss: 1.9447 - accuracy: 0.4485\n",
      "Epoch 3/10\n",
      "2000/2000 [==============================] - 10s 5ms/sample - loss: 1.5727 - accuracy: 0.5025\n",
      "Epoch 4/10\n",
      "2000/2000 [==============================] - 11s 5ms/sample - loss: 1.2828 - accuracy: 0.5920\n",
      "Epoch 5/10\n",
      "2000/2000 [==============================] - 10s 5ms/sample - loss: 1.0699 - accuracy: 0.6390\n",
      "Epoch 6/10\n",
      "2000/2000 [==============================] - 10s 5ms/sample - loss: 0.9103 - accuracy: 0.6900\n",
      "Epoch 7/10\n",
      "2000/2000 [==============================] - 11s 5ms/sample - loss: 0.7896 - accuracy: 0.7390\n",
      "Epoch 8/10\n",
      "2000/2000 [==============================] - 11s 5ms/sample - loss: 0.7313 - accuracy: 0.7595\n",
      "Epoch 9/10\n",
      "2000/2000 [==============================] - 10s 5ms/sample - loss: 0.6317 - accuracy: 0.7940\n",
      "Epoch 10/10\n",
      "2000/2000 [==============================] - 10s 5ms/sample - loss: 0.5585 - accuracy: 0.8155\n",
      "Probabilistic CopycatCNN : 0.851566\n",
      "Train on 2000 samples\n",
      "Epoch 1/10\n",
      "2000/2000 [==============================] - 11s 6ms/sample - loss: 2.7656 - accuracy: 0.2815\n",
      "Epoch 2/10\n",
      "2000/2000 [==============================] - 11s 5ms/sample - loss: 2.0856 - accuracy: 0.4065\n",
      "Epoch 3/10\n",
      "2000/2000 [==============================] - 11s 6ms/sample - loss: 1.6317 - accuracy: 0.4985\n",
      "Epoch 4/10\n",
      "2000/2000 [==============================] - 11s 5ms/sample - loss: 1.2371 - accuracy: 0.5990\n",
      "Epoch 5/10\n",
      "2000/2000 [==============================] - 11s 5ms/sample - loss: 1.0067 - accuracy: 0.6665\n",
      "Epoch 6/10\n",
      "2000/2000 [==============================] - 11s 5ms/sample - loss: 0.8330 - accuracy: 0.7110\n",
      "Epoch 7/10\n",
      "2000/2000 [==============================] - 11s 5ms/sample - loss: 0.6523 - accuracy: 0.7885\n",
      "Epoch 8/10\n",
      "2000/2000 [==============================] - 11s 6ms/sample - loss: 0.5635 - accuracy: 0.8225\n",
      "Epoch 9/10\n",
      "2000/2000 [==============================] - 11s 5ms/sample - loss: 0.4723 - accuracy: 0.8595\n",
      "Epoch 10/10\n",
      "2000/2000 [==============================] - 11s 5ms/sample - loss: 0.3801 - accuracy: 0.8805\n",
      "Argmax CopycatCNN : 0.89650476\n",
      "Probabilistic KnockoffNets : 0.9037676\n",
      "Argmax KnockoffNets : 0.84203357\n",
      "Train on 3000 samples\n",
      "Epoch 1/10\n",
      "3000/3000 [==============================] - 17s 6ms/sample - loss: 2.5182 - accuracy: 0.3577\n",
      "Epoch 2/10\n",
      "3000/3000 [==============================] - 16s 5ms/sample - loss: 1.8444 - accuracy: 0.4637\n",
      "Epoch 3/10\n"
     ]
    },
    {
     "name": "stdout",
     "output_type": "stream",
     "text": [
      "3000/3000 [==============================] - 18s 6ms/sample - loss: 1.4028 - accuracy: 0.5633\n",
      "Epoch 4/10\n",
      "3000/3000 [==============================] - 17s 6ms/sample - loss: 1.1073 - accuracy: 0.6340\n",
      "Epoch 5/10\n",
      "3000/3000 [==============================] - 18s 6ms/sample - loss: 0.8866 - accuracy: 0.7070\n",
      "Epoch 6/10\n",
      "3000/3000 [==============================] - 18s 6ms/sample - loss: 0.7454 - accuracy: 0.7790\n",
      "Epoch 7/10\n",
      "3000/3000 [==============================] - 18s 6ms/sample - loss: 0.6014 - accuracy: 0.8143\n",
      "Epoch 8/10\n",
      "3000/3000 [==============================] - 18s 6ms/sample - loss: 0.5211 - accuracy: 0.8580\n",
      "Epoch 9/10\n",
      "3000/3000 [==============================] - 18s 6ms/sample - loss: 0.4602 - accuracy: 0.8727\n",
      "Epoch 10/10\n",
      "3000/3000 [==============================] - 20s 7ms/sample - loss: 0.4087 - accuracy: 0.8903\n",
      "Probabilistic CopycatCNN : 0.89193684\n",
      "Train on 3000 samples\n",
      "Epoch 1/10\n",
      "3000/3000 [==============================] - 20s 7ms/sample - loss: 2.4750 - accuracy: 0.3317\n",
      "Epoch 2/10\n",
      "3000/3000 [==============================] - 19s 6ms/sample - loss: 1.8131 - accuracy: 0.4493\n",
      "Epoch 3/10\n",
      "3000/3000 [==============================] - 20s 7ms/sample - loss: 1.3511 - accuracy: 0.5593\n",
      "Epoch 4/10\n",
      "3000/3000 [==============================] - 20s 7ms/sample - loss: 1.0444 - accuracy: 0.6380\n",
      "Epoch 5/10\n",
      "3000/3000 [==============================] - 20s 7ms/sample - loss: 0.7988 - accuracy: 0.7340\n",
      "Epoch 6/10\n",
      "3000/3000 [==============================] - 20s 7ms/sample - loss: 0.6274 - accuracy: 0.7897\n",
      "Epoch 7/10\n",
      "3000/3000 [==============================] - 20s 7ms/sample - loss: 0.5154 - accuracy: 0.8367\n",
      "Epoch 8/10\n",
      "3000/3000 [==============================] - 19s 6ms/sample - loss: 0.4350 - accuracy: 0.8603\n",
      "Epoch 9/10\n",
      "3000/3000 [==============================] - 19s 6ms/sample - loss: 0.3583 - accuracy: 0.8903\n",
      "Epoch 10/10\n",
      "3000/3000 [==============================] - 20s 7ms/sample - loss: 0.3136 - accuracy: 0.9000\n",
      "Argmax CopycatCNN : 0.9077307\n",
      "Probabilistic KnockoffNets : 0.9127182\n",
      "Argmax KnockoffNets : 0.9077307\n",
      "Train on 4000 samples\n",
      "Epoch 1/10\n",
      "4000/4000 [==============================] - 27s 7ms/sample - loss: 2.2736 - accuracy: 0.3705\n",
      "Epoch 2/10\n",
      "4000/4000 [==============================] - 25s 6ms/sample - loss: 1.3629 - accuracy: 0.5742\n",
      "Epoch 3/10\n",
      "4000/4000 [==============================] - 27s 7ms/sample - loss: 0.8969 - accuracy: 0.7125\n",
      "Epoch 4/10\n",
      "4000/4000 [==============================] - 28s 7ms/sample - loss: 0.6642 - accuracy: 0.8095\n",
      "Epoch 5/10\n",
      "4000/4000 [==============================] - 28s 7ms/sample - loss: 0.5383 - accuracy: 0.8550\n",
      "Epoch 6/10\n",
      "4000/4000 [==============================] - 28s 7ms/sample - loss: 0.4527 - accuracy: 0.8767\n",
      "Epoch 7/10\n",
      "4000/4000 [==============================] - 25s 6ms/sample - loss: 0.3716 - accuracy: 0.9038\n",
      "Epoch 8/10\n",
      "4000/4000 [==============================] - 24s 6ms/sample - loss: 0.3304 - accuracy: 0.9150\n",
      "Epoch 9/10\n",
      "4000/4000 [==============================] - 25s 6ms/sample - loss: 0.2992 - accuracy: 0.9287\n",
      "Epoch 10/10\n",
      "4000/4000 [==============================] - 25s 6ms/sample - loss: 0.2694 - accuracy: 0.9365\n",
      "Probabilistic CopycatCNN : 0.9310345\n",
      "Train on 4000 samples\n",
      "Epoch 1/10\n",
      "4000/4000 [==============================] - 27s 7ms/sample - loss: 2.2039 - accuracy: 0.3840\n",
      "Epoch 2/10\n",
      "4000/4000 [==============================] - 26s 7ms/sample - loss: 1.3388 - accuracy: 0.5605\n",
      "Epoch 3/10\n",
      "4000/4000 [==============================] - 27s 7ms/sample - loss: 0.9365 - accuracy: 0.6743\n",
      "Epoch 4/10\n",
      "4000/4000 [==============================] - 26s 7ms/sample - loss: 0.7331 - accuracy: 0.7197\n",
      "Epoch 5/10\n",
      "4000/4000 [==============================] - 25s 6ms/sample - loss: 0.6116 - accuracy: 0.7667\n",
      "Epoch 6/10\n",
      "4000/4000 [==============================] - 25s 6ms/sample - loss: 0.4999 - accuracy: 0.8180\n",
      "Epoch 7/10\n",
      "4000/4000 [==============================] - 25s 6ms/sample - loss: 0.4339 - accuracy: 0.8540\n",
      "Epoch 8/10\n",
      "4000/4000 [==============================] - 26s 6ms/sample - loss: 0.3237 - accuracy: 0.8988\n",
      "Epoch 9/10\n",
      "4000/4000 [==============================] - 26s 7ms/sample - loss: 0.2778 - accuracy: 0.9078\n",
      "Epoch 10/10\n",
      "4000/4000 [==============================] - 25s 6ms/sample - loss: 0.2268 - accuracy: 0.9273\n",
      "Argmax CopycatCNN : 0.92610836\n",
      "Probabilistic KnockoffNets : 0.91133004\n",
      "Argmax KnockoffNets : 0.9211823\n"
     ]
    }
   ],
   "source": [
    "results = []\n",
    "for len_steal in [250, 500, 1000, 2000, 3000, 4000]:\n",
    "    indices = np.random.permutation(len(X_test0))\n",
    "    x_steal = X_test0[indices[:len_steal]]\n",
    "    y_steal = y_test0[indices[:len_steal]]\n",
    "    x_test = X_test0[indices[len_steal:]]\n",
    "    y_test = y_test0[indices[len_steal:]]\n",
    "\n",
    "    for name, attack in attack_catalogue.items():\n",
    "        model_stolen = malware_steal_model()\n",
    "        classifier_stolen = KerasClassifier(model_stolen, clip_values=(0, 1), use_logits=False)\n",
    "        classifier_stolen = attack.extract(x_steal, y_steal, thieved_classifier=classifier_stolen)\n",
    "        acc = classifier_stolen._model.evaluate(x_test, y_test)[1]\n",
    "        print(name, \":\", acc)\n",
    "        results.append((name, len_steal, acc))"
   ]
  },
  {
   "cell_type": "markdown",
   "metadata": {},
   "source": [
    "## Grafica de la curva ROC\n",
    "del modelo no protegido"
   ]
  },
  {
   "cell_type": "code",
   "execution_count": 23,
   "metadata": {},
   "outputs": [
    {
     "data": {
      "image/png": "[encoded data removed]",
      "text/plain": [
       "<Figure size 576x432 with 1 Axes>"
      ]
     },
     "metadata": {
      "needs_background": "light"
     },
     "output_type": "display_data"
    }
   ],
   "source": [
    "df = pd.DataFrame(results, columns=('Method Name', 'Stealing Dataset Size', 'Accuracy'))\n",
    "fig, ax = plt.subplots(figsize=(8,6))\n",
    "ax.set_xlabel(\"Stealing Dataset Size\")\n",
    "ax.set_ylabel(\"Stolen Model Accuracy\")\n",
    "for name, group in df.groupby(\"Method Name\"):\n",
    "    group.plot(1, 2, ax=ax, label=name)\n",
    "plt.show()"
   ]
  },
  {
   "cell_type": "markdown",
   "metadata": {},
   "source": [
    "Se observa como en entre los ataques probabilisticos, el de KnockoffNets tienen mayor accuracy. Y de forma contraria en los no probabilisticos, CopycatCNN tiene el accuracy mas alto."
   ]
  },
  {
   "cell_type": "markdown",
   "metadata": {},
   "source": [
    "### Modelo protegido"
   ]
  },
  {
   "cell_type": "code",
   "execution_count": 24,
   "metadata": {},
   "outputs": [],
   "source": [
    "# Se prepara la capa para DEFENSA\n",
    "postprocessor = ReverseSigmoid(beta = 1.0, gamma = 0.2)\n",
    "classifier_protected = KerasClassifier(malware_model, clip_values=(0, 1), use_logits=False, postprocessing_defences=postprocessor)\n",
    "\n",
    "# En la siguiente parte se usa `FunctionallyEquivalentExtraction` pero toma demasiado tiempo\n",
    "model_flat = Sequential([InputLayer([64, 64, 3]), Reshape([64, 64, 3]), malware_model])\n",
    "model_flat.compile('sgd', 'categorical_crossentropy', ['accuracy'])\n",
    "classifier_flat_protected = KerasClassifier(model_flat, clip_values=(0, 1), use_logits=False, postprocessing_defences=postprocessor)"
   ]
  },
  {
   "cell_type": "code",
   "execution_count": 25,
   "metadata": {},
   "outputs": [],
   "source": [
    "# Se roba data del clasificador protegido con la misma cantidad de epocas que los anteriores y cuanta data extraer\n",
    "num_epochs = 10\n",
    "len_steal = 5000\n",
    "attack_catalogue = {\n",
    "                    \"Probabilistic CopycatCNN (vs. Protected)\": CopycatCNN(classifier=classifier_protected,\n",
    "                                              batch_size_fit=64,\n",
    "                                              batch_size_query=64,\n",
    "                                              nb_epochs=num_epochs,\n",
    "                                              nb_stolen=len_steal,\n",
    "                                              use_probability=True),\n",
    "                    \"Argmax CopycatCNN (vs. Protected)\": CopycatCNN(classifier=classifier_protected,\n",
    "                                              batch_size_fit=64,\n",
    "                                              batch_size_query=64,\n",
    "                                              nb_epochs=num_epochs,\n",
    "                                              nb_stolen=len_steal,\n",
    "                                              use_probability=False),\n",
    "                    \"Probabilistic KnockoffNets (vs. Protected)\": KnockoffNets(classifier=classifier_protected,\n",
    "                                              batch_size_fit=64,\n",
    "                                              batch_size_query=64,\n",
    "                                              nb_epochs=num_epochs,\n",
    "                                              nb_stolen=len_steal,\n",
    "                                              use_probability=True),\n",
    "                    \"Argmax KnockoffNets (vs. Protected)\": KnockoffNets(classifier=classifier_protected,\n",
    "                                              batch_size_fit=64,\n",
    "                                              batch_size_query=64,\n",
    "                                              nb_epochs=num_epochs,\n",
    "                                              nb_stolen=len_steal,\n",
    "                                              use_probability=False),\n",
    "}"
   ]
  },
  {
   "cell_type": "code",
   "execution_count": 26,
   "metadata": {},
   "outputs": [
    {
     "name": "stderr",
     "output_type": "stream",
     "text": [
      "C:\\Users\\diana\\AppData\\Local\\Programs\\Python\\Python39\\lib\\site-packages\\art\\defences\\postprocessor\\reverse_sigmoid.py:75: RuntimeWarning: divide by zero encountered in log\n",
      "  perturbation_r = self.beta * (sigmoid(-self.gamma * np.log((1.0 - preds_clipped) / preds_clipped)) - 0.5)\n"
     ]
    },
    {
     "name": "stdout",
     "output_type": "stream",
     "text": [
      "Train on 250 samples\n",
      "Epoch 1/10\n",
      "250/250 [==============================] - 2s 9ms/sample - loss: 3.2939 - accuracy: 0.0200\n",
      "Epoch 2/10\n",
      "250/250 [==============================] - 2s 7ms/sample - loss: 3.2230 - accuracy: 0.0200\n",
      "Epoch 3/10\n",
      "250/250 [==============================] - 2s 7ms/sample - loss: 3.2194 - accuracy: 0.0160\n",
      "Epoch 4/10\n",
      "250/250 [==============================] - 2s 7ms/sample - loss: 3.2189 - accuracy: 0.0320\n",
      "Epoch 5/10\n",
      "250/250 [==============================] - 2s 7ms/sample - loss: 3.2188 - accuracy: 0.0600\n",
      "Epoch 6/10\n",
      "250/250 [==============================] - 2s 7ms/sample - loss: 3.2188 - accuracy: 0.0600\n",
      "Epoch 7/10\n",
      "250/250 [==============================] - 2s 7ms/sample - loss: 3.2187 - accuracy: 0.0800\n",
      "Epoch 8/10\n",
      "250/250 [==============================] - 2s 7ms/sample - loss: 3.2187 - accuracy: 0.0640\n",
      "Epoch 9/10\n",
      "250/250 [==============================] - 2s 7ms/sample - loss: 3.2186 - accuracy: 0.0760\n",
      "Epoch 10/10\n",
      "250/250 [==============================] - 2s 7ms/sample - loss: 3.2185 - accuracy: 0.0800\n"
     ]
    },
    {
     "name": "stderr",
     "output_type": "stream",
     "text": [
      "C:\\Users\\diana\\AppData\\Local\\Programs\\Python\\Python39\\lib\\site-packages\\keras\\engine\\training_v1.py:2045: UserWarning: `Model.state_updates` will be removed in a future version. This property should not be used in TensorFlow 2.0, as `updates` are applied automatically.\n",
      "  updates = self.state_updates\n"
     ]
    },
    {
     "name": "stdout",
     "output_type": "stream",
     "text": [
      "Probabilistic CopycatCNN (vs. Protected) : 0.08778143\n",
      "Train on 250 samples\n",
      "Epoch 1/10\n",
      "250/250 [==============================] - 2s 9ms/sample - loss: 2.9907 - accuracy: 0.2040\n",
      "Epoch 2/10\n",
      "250/250 [==============================] - 2s 7ms/sample - loss: 2.6483 - accuracy: 0.2560\n",
      "Epoch 3/10\n",
      "250/250 [==============================] - 2s 7ms/sample - loss: 2.5176 - accuracy: 0.2840\n",
      "Epoch 4/10\n",
      "250/250 [==============================] - 2s 7ms/sample - loss: 2.4179 - accuracy: 0.3680\n",
      "Epoch 5/10\n",
      "250/250 [==============================] - 2s 7ms/sample - loss: 2.3662 - accuracy: 0.3480\n",
      "Epoch 6/10\n",
      "250/250 [==============================] - 2s 7ms/sample - loss: 2.3241 - accuracy: 0.3360\n",
      "Epoch 7/10\n",
      "250/250 [==============================] - 2s 7ms/sample - loss: 2.2180 - accuracy: 0.3920\n",
      "Epoch 8/10\n",
      "250/250 [==============================] - 2s 7ms/sample - loss: 2.1387 - accuracy: 0.3800\n",
      "Epoch 9/10\n",
      "250/250 [==============================] - 2s 7ms/sample - loss: 2.0338 - accuracy: 0.4080\n",
      "Epoch 10/10\n",
      "250/250 [==============================] - 2s 7ms/sample - loss: 1.8959 - accuracy: 0.4040\n",
      "Argmax CopycatCNN (vs. Protected) : 0.4118391\n",
      "Probabilistic KnockoffNets (vs. Protected) : 0.27447507\n",
      "Argmax KnockoffNets (vs. Protected) : 0.40880343\n",
      "Train on 500 samples\n",
      "Epoch 1/10\n",
      "500/500 [==============================] - 4s 9ms/sample - loss: 3.2237 - accuracy: 0.0800\n",
      "Epoch 2/10\n",
      "500/500 [==============================] - 4s 8ms/sample - loss: 3.2187 - accuracy: 0.0960\n",
      "Epoch 3/10\n",
      "500/500 [==============================] - 4s 8ms/sample - loss: 3.2184 - accuracy: 0.1980\n",
      "Epoch 4/10\n",
      "500/500 [==============================] - 4s 8ms/sample - loss: 3.2181 - accuracy: 0.2400\n",
      "Epoch 5/10\n",
      "500/500 [==============================] - 4s 8ms/sample - loss: 3.2179 - accuracy: 0.1920\n",
      "Epoch 6/10\n",
      "500/500 [==============================] - 4s 8ms/sample - loss: 3.2177 - accuracy: 0.1780\n",
      "Epoch 7/10\n",
      "500/500 [==============================] - 4s 8ms/sample - loss: 3.2176 - accuracy: 0.2100\n",
      "Epoch 8/10\n",
      "500/500 [==============================] - 4s 8ms/sample - loss: 3.2175 - accuracy: 0.2500\n",
      "Epoch 9/10\n",
      "500/500 [==============================] - 4s 8ms/sample - loss: 3.2174 - accuracy: 0.2760\n",
      "Epoch 10/10\n",
      "500/500 [==============================] - 4s 8ms/sample - loss: 3.2173 - accuracy: 0.3120\n",
      "Probabilistic CopycatCNN (vs. Protected) : 0.2489873\n",
      "Train on 500 samples\n",
      "Epoch 1/10\n",
      "500/500 [==============================] - 5s 9ms/sample - loss: 2.9802 - accuracy: 0.1860\n",
      "Epoch 2/10\n",
      "500/500 [==============================] - 4s 8ms/sample - loss: 2.6102 - accuracy: 0.3140\n",
      "Epoch 3/10\n",
      "500/500 [==============================] - 4s 8ms/sample - loss: 2.4575 - accuracy: 0.3340\n",
      "Epoch 4/10\n",
      "500/500 [==============================] - 4s 8ms/sample - loss: 2.2616 - accuracy: 0.3760\n",
      "Epoch 5/10\n",
      "500/500 [==============================] - 4s 8ms/sample - loss: 2.1083 - accuracy: 0.3900\n",
      "Epoch 6/10\n",
      "500/500 [==============================] - 4s 8ms/sample - loss: 1.9999 - accuracy: 0.3900\n",
      "Epoch 7/10\n",
      "500/500 [==============================] - 4s 8ms/sample - loss: 1.8193 - accuracy: 0.4480\n",
      "Epoch 8/10\n",
      "500/500 [==============================] - 4s 8ms/sample - loss: 1.6961 - accuracy: 0.4640\n",
      "Epoch 9/10\n",
      "500/500 [==============================] - 4s 8ms/sample - loss: 1.5727 - accuracy: 0.4660\n",
      "Epoch 10/10\n",
      "500/500 [==============================] - 4s 8ms/sample - loss: 1.4290 - accuracy: 0.5500\n",
      "Argmax CopycatCNN (vs. Protected) : 0.54442346\n",
      "Probabilistic KnockoffNets (vs. Protected) : 0.09829868\n",
      "Argmax KnockoffNets (vs. Protected) : 0.65244395\n",
      "Train on 1000 samples\n",
      "Epoch 1/10\n",
      "1000/1000 [==============================] - 16s 16ms/sample - loss: 3.2308 - accuracy: 0.0370\n",
      "Epoch 2/10\n",
      "1000/1000 [==============================] - 15s 15ms/sample - loss: 3.2187 - accuracy: 0.1010\n",
      "Epoch 3/10\n",
      "1000/1000 [==============================] - 13s 13ms/sample - loss: 3.2185 - accuracy: 0.1710\n",
      "Epoch 4/10\n",
      "1000/1000 [==============================] - 12s 12ms/sample - loss: 3.2183 - accuracy: 0.1630\n",
      "Epoch 5/10\n",
      "1000/1000 [==============================] - 12s 12ms/sample - loss: 3.2182 - accuracy: 0.1840\n",
      "Epoch 6/10\n",
      "1000/1000 [==============================] - 12s 12ms/sample - loss: 3.2180 - accuracy: 0.1900\n",
      "Epoch 7/10\n",
      "1000/1000 [==============================] - 12s 12ms/sample - loss: 3.2179 - accuracy: 0.1840\n",
      "Epoch 8/10\n",
      "1000/1000 [==============================] - 12s 12ms/sample - loss: 3.2178 - accuracy: 0.2310\n",
      "Epoch 9/10\n",
      "1000/1000 [==============================] - 12s 12ms/sample - loss: 3.2177 - accuracy: 0.3260\n",
      "Epoch 10/10\n",
      "1000/1000 [==============================] - 12s 12ms/sample - loss: 3.2176 - accuracy: 0.3940\n",
      "Probabilistic CopycatCNN (vs. Protected) : 0.44114894\n",
      "Train on 1000 samples\n",
      "Epoch 1/10\n",
      "1000/1000 [==============================] - 13s 13ms/sample - loss: 2.7015 - accuracy: 0.2620\n",
      "Epoch 2/10\n",
      "1000/1000 [==============================] - 12s 12ms/sample - loss: 2.2732 - accuracy: 0.3940\n",
      "Epoch 3/10\n",
      "1000/1000 [==============================] - 12s 12ms/sample - loss: 1.8737 - accuracy: 0.4790\n",
      "Epoch 4/10\n",
      "1000/1000 [==============================] - 12s 12ms/sample - loss: 1.6302 - accuracy: 0.5100\n",
      "Epoch 5/10\n",
      "1000/1000 [==============================] - 12s 12ms/sample - loss: 1.4503 - accuracy: 0.5550\n",
      "Epoch 6/10\n",
      "1000/1000 [==============================] - 12s 12ms/sample - loss: 1.3251 - accuracy: 0.5640\n",
      "Epoch 7/10\n",
      "1000/1000 [==============================] - 12s 12ms/sample - loss: 1.2219 - accuracy: 0.5990\n",
      "Epoch 8/10\n",
      "1000/1000 [==============================] - 12s 12ms/sample - loss: 1.1127 - accuracy: 0.6140\n",
      "Epoch 9/10\n",
      "1000/1000 [==============================] - 12s 12ms/sample - loss: 0.9981 - accuracy: 0.6500\n",
      "Epoch 10/10\n",
      "1000/1000 [==============================] - 12s 12ms/sample - loss: 0.9022 - accuracy: 0.6870\n",
      "Argmax CopycatCNN (vs. Protected) : 0.7355604\n",
      "Probabilistic KnockoffNets (vs. Protected) : 0.40087417\n",
      "Argmax KnockoffNets (vs. Protected) : 0.73337495\n",
      "Train on 2000 samples\n",
      "Epoch 1/10\n",
      "2000/2000 [==============================] - 33s 16ms/sample - loss: 3.2204 - accuracy: 0.0970\n",
      "Epoch 2/10\n",
      "2000/2000 [==============================] - 32s 16ms/sample - loss: 3.2180 - accuracy: 0.1985\n",
      "Epoch 3/10\n",
      "2000/2000 [==============================] - 31s 15ms/sample - loss: 3.2176 - accuracy: 0.2690\n",
      "Epoch 4/10\n",
      "2000/2000 [==============================] - 29s 14ms/sample - loss: 3.2174 - accuracy: 0.3700\n",
      "Epoch 5/10\n",
      "2000/2000 [==============================] - 29s 15ms/sample - loss: 3.2173 - accuracy: 0.4275\n",
      "Epoch 6/10\n",
      "2000/2000 [==============================] - 28s 14ms/sample - loss: 3.2172 - accuracy: 0.4800\n",
      "Epoch 7/10\n",
      "2000/2000 [==============================] - 28s 14ms/sample - loss: 3.2170 - accuracy: 0.4890\n",
      "Epoch 8/10\n",
      "2000/2000 [==============================] - 28s 14ms/sample - loss: 3.2168 - accuracy: 0.5295\n",
      "Epoch 9/10\n",
      "2000/2000 [==============================] - 28s 14ms/sample - loss: 3.2166 - accuracy: 0.5730\n",
      "Epoch 10/10\n",
      "2000/2000 [==============================] - 28s 14ms/sample - loss: 3.2163 - accuracy: 0.6110\n",
      "Probabilistic CopycatCNN (vs. Protected) : 0.6659101\n",
      "Train on 2000 samples\n",
      "Epoch 1/10\n",
      "2000/2000 [==============================] - 30s 15ms/sample - loss: 2.6914 - accuracy: 0.2675\n",
      "Epoch 2/10\n",
      "2000/2000 [==============================] - 30s 15ms/sample - loss: 1.9039 - accuracy: 0.4540\n",
      "Epoch 3/10\n",
      "2000/2000 [==============================] - 32s 16ms/sample - loss: 1.3588 - accuracy: 0.5650\n",
      "Epoch 4/10\n",
      "2000/2000 [==============================] - 31s 16ms/sample - loss: 1.1073 - accuracy: 0.6175\n",
      "Epoch 5/10\n",
      "2000/2000 [==============================] - 31s 15ms/sample - loss: 0.9325 - accuracy: 0.6840\n",
      "Epoch 6/10\n",
      "2000/2000 [==============================] - 31s 16ms/sample - loss: 0.8028 - accuracy: 0.7290\n",
      "Epoch 7/10\n",
      "2000/2000 [==============================] - 32s 16ms/sample - loss: 0.6918 - accuracy: 0.7745\n",
      "Epoch 8/10\n",
      "2000/2000 [==============================] - 30s 15ms/sample - loss: 0.6155 - accuracy: 0.8055\n",
      "Epoch 9/10\n",
      "2000/2000 [==============================] - 28s 14ms/sample - loss: 0.5921 - accuracy: 0.8140\n",
      "Epoch 10/10\n",
      "2000/2000 [==============================] - 28s 14ms/sample - loss: 0.4650 - accuracy: 0.8545\n",
      "Argmax CopycatCNN (vs. Protected) : 0.88788015\n",
      "Probabilistic KnockoffNets (vs. Protected) : 0.5279165\n"
     ]
    },
    {
     "name": "stdout",
     "output_type": "stream",
     "text": [
      "Argmax KnockoffNets (vs. Protected) : 0.8955969\n",
      "Train on 3000 samples\n",
      "Epoch 1/10\n",
      "3000/3000 [==============================] - 42s 14ms/sample - loss: 3.2216 - accuracy: 0.1633\n",
      "Epoch 2/10\n",
      "3000/3000 [==============================] - 41s 14ms/sample - loss: 3.2178 - accuracy: 0.2200\n",
      "Epoch 3/10\n",
      "3000/3000 [==============================] - 41s 14ms/sample - loss: 3.2175 - accuracy: 0.2983\n",
      "Epoch 4/10\n",
      "3000/3000 [==============================] - 41s 14ms/sample - loss: 3.2174 - accuracy: 0.3747\n",
      "Epoch 5/10\n",
      "3000/3000 [==============================] - 41s 14ms/sample - loss: 3.2173 - accuracy: 0.3920\n",
      "Epoch 6/10\n",
      "3000/3000 [==============================] - 41s 14ms/sample - loss: 3.2171 - accuracy: 0.4603\n",
      "Epoch 7/10\n",
      "3000/3000 [==============================] - 41s 14ms/sample - loss: 3.2170 - accuracy: 0.4797\n",
      "Epoch 8/10\n",
      "3000/3000 [==============================] - 42s 14ms/sample - loss: 3.2168 - accuracy: 0.5310\n",
      "Epoch 9/10\n",
      "3000/3000 [==============================] - 41s 14ms/sample - loss: 3.2166 - accuracy: 0.5393\n",
      "Epoch 10/10\n",
      "3000/3000 [==============================] - 43s 14ms/sample - loss: 3.2164 - accuracy: 0.5923\n",
      "Probabilistic CopycatCNN (vs. Protected) : 0.6791355\n",
      "Train on 3000 samples\n",
      "Epoch 1/10\n",
      "3000/3000 [==============================] - 42s 14ms/sample - loss: 2.5310 - accuracy: 0.3130\n",
      "Epoch 2/10\n",
      "3000/3000 [==============================] - 42s 14ms/sample - loss: 1.7401 - accuracy: 0.4783\n",
      "Epoch 3/10\n",
      "3000/3000 [==============================] - 41s 14ms/sample - loss: 1.2351 - accuracy: 0.5927\n",
      "Epoch 4/10\n",
      "3000/3000 [==============================] - 42s 14ms/sample - loss: 0.8719 - accuracy: 0.7207\n",
      "Epoch 5/10\n",
      "3000/3000 [==============================] - 43s 14ms/sample - loss: 0.6673 - accuracy: 0.7867\n",
      "Epoch 6/10\n",
      "3000/3000 [==============================] - 61s 20ms/sample - loss: 0.4886 - accuracy: 0.8563\n",
      "Epoch 7/10\n",
      "3000/3000 [==============================] - 77s 26ms/sample - loss: 0.4082 - accuracy: 0.8830\n",
      "Epoch 8/10\n",
      "3000/3000 [==============================] - 69s 23ms/sample - loss: 0.3610 - accuracy: 0.8990\n",
      "Epoch 9/10\n",
      "3000/3000 [==============================] - 60s 20ms/sample - loss: 0.3089 - accuracy: 0.9163\n",
      "Epoch 10/10\n",
      "3000/3000 [==============================] - 60s 20ms/sample - loss: 0.2687 - accuracy: 0.9230\n",
      "Argmax CopycatCNN (vs. Protected) : 0.9135495\n",
      "Probabilistic KnockoffNets (vs. Protected) : 0.58187866\n",
      "Argmax KnockoffNets (vs. Protected) : 0.9127182\n",
      "Train on 4000 samples\n",
      "Epoch 1/10\n",
      "4000/4000 [==============================] - 36s 9ms/sample - loss: 3.2188 - accuracy: 0.1597\n",
      "Epoch 2/10\n",
      "4000/4000 [==============================] - 35s 9ms/sample - loss: 3.2175 - accuracy: 0.3075\n",
      "Epoch 3/10\n",
      "4000/4000 [==============================] - 35s 9ms/sample - loss: 3.2172 - accuracy: 0.4185\n",
      "Epoch 4/10\n",
      "4000/4000 [==============================] - 35s 9ms/sample - loss: 3.2169 - accuracy: 0.5052\n",
      "Epoch 5/10\n",
      "4000/4000 [==============================] - 35s 9ms/sample - loss: 3.2165 - accuracy: 0.6068\n",
      "Epoch 6/10\n",
      "4000/4000 [==============================] - 35s 9ms/sample - loss: 3.2161 - accuracy: 0.6680\n",
      "Epoch 7/10\n",
      "4000/4000 [==============================] - 35s 9ms/sample - loss: 3.2158 - accuracy: 0.7070\n",
      "Epoch 8/10\n",
      "4000/4000 [==============================] - 35s 9ms/sample - loss: 3.2156 - accuracy: 0.7502\n",
      "Epoch 9/10\n",
      "4000/4000 [==============================] - 35s 9ms/sample - loss: 3.2154 - accuracy: 0.7602\n",
      "Epoch 10/10\n",
      "4000/4000 [==============================] - 35s 9ms/sample - loss: 3.2152 - accuracy: 0.7887\n",
      "Probabilistic CopycatCNN (vs. Protected) : 0.817734\n",
      "Train on 4000 samples\n",
      "Epoch 1/10\n",
      "4000/4000 [==============================] - 37s 9ms/sample - loss: 2.1217 - accuracy: 0.4230\n",
      "Epoch 2/10\n",
      "4000/4000 [==============================] - 37s 9ms/sample - loss: 1.1573 - accuracy: 0.6115\n",
      "Epoch 3/10\n",
      "4000/4000 [==============================] - 37s 9ms/sample - loss: 0.8200 - accuracy: 0.7228\n",
      "Epoch 4/10\n",
      "4000/4000 [==============================] - 37s 9ms/sample - loss: 0.6222 - accuracy: 0.7940\n",
      "Epoch 5/10\n",
      "4000/4000 [==============================] - 37s 9ms/sample - loss: 0.4764 - accuracy: 0.8465\n",
      "Epoch 6/10\n",
      "4000/4000 [==============================] - 37s 9ms/sample - loss: 0.3556 - accuracy: 0.8903\n",
      "Epoch 7/10\n",
      "4000/4000 [==============================] - 37s 9ms/sample - loss: 0.2837 - accuracy: 0.9162\n",
      "Epoch 8/10\n",
      "4000/4000 [==============================] - 37s 9ms/sample - loss: 0.2414 - accuracy: 0.9287\n",
      "Epoch 9/10\n",
      "4000/4000 [==============================] - 37s 9ms/sample - loss: 0.2138 - accuracy: 0.9388\n",
      "Epoch 10/10\n",
      "4000/4000 [==============================] - 37s 9ms/sample - loss: 0.1962 - accuracy: 0.9408\n",
      "Argmax CopycatCNN (vs. Protected) : 0.9014778\n",
      "Probabilistic KnockoffNets (vs. Protected) : 0.7389163\n",
      "Argmax KnockoffNets (vs. Protected) : 0.91133004\n"
     ]
    }
   ],
   "source": [
    "results_protected = []\n",
    "for len_steal in [250, 500, 1000, 2000, 3000, 4000]:\n",
    "    indices = np.random.permutation(len(X_test0))\n",
    "    x_steal = X_test0[indices[:len_steal]]\n",
    "    y_steal = y_test0[indices[:len_steal]]\n",
    "    x_test = X_test0[indices[len_steal:]]\n",
    "    y_test = y_test0[indices[len_steal:]]\n",
    "\n",
    "    for name, attack in attack_catalogue.items():\n",
    "        model_stolen = malware_steal_model()\n",
    "        classifier_stolen = KerasClassifier(model_stolen, clip_values=(0, 1), use_logits=False)\n",
    "        if name==\"FunctionallyEquivalentExtraction\":\n",
    "            # Se modifica el shape de la data \n",
    "            classifier_stolen = attack.extract(np.reshape(x_steal, [len(x_steal), -1]), y_steal, thieved_classifier=classifier_stolen)\n",
    "        else:\n",
    "            classifier_stolen = attack.extract(x_steal, y_steal, thieved_classifier=classifier_stolen)\n",
    "        \n",
    "        acc = classifier_stolen._model.evaluate(x_test, y_test)[1]\n",
    "        print(name, \":\", acc)\n",
    "        results_protected.append((name, len_steal, acc))"
   ]
  },
  {
   "cell_type": "markdown",
   "metadata": {},
   "source": [
    "## Grafica de la curva ROC\n",
    "Del modelo protegido"
   ]
  },
  {
   "cell_type": "code",
   "execution_count": 27,
   "metadata": {},
   "outputs": [
    {
     "data": {
      "image/png": "[encoded data removed]",
      "text/plain": [
       "<Figure size 576x432 with 1 Axes>"
      ]
     },
     "metadata": {
      "needs_background": "light"
     },
     "output_type": "display_data"
    }
   ],
   "source": [
    "df_protected = pd.DataFrame(results_protected, columns=('Method Name', 'Stealing Dataset Size', 'Accuracy'))\n",
    "fig, ax = plt.subplots(figsize=(8,6))\n",
    "ax.set_xlabel(\"Stealing Dataset Size\")\n",
    "ax.set_ylabel(\"Stolen Model Accuracy\")\n",
    "for name, group in df_protected.groupby(\"Method Name\"):\n",
    "    group.plot(1, 2, ax=ax, label=name)\n",
    "plt.show()"
   ]
  },
  {
   "cell_type": "markdown",
   "metadata": {},
   "source": [
    "## Grafica de la curva ROC\n",
    "de los modelos segun el tipo de ataque utilizado (CopycatCNN o KnockoffNets)"
   ]
  },
  {
   "cell_type": "code",
   "execution_count": 28,
   "metadata": {},
   "outputs": [],
   "source": [
    "df_combined = pd.concat([df, df_protected]) # se agrupa la data robada de los modelos creados con diferentes metodos de ataque\n",
    "groupby = df_combined.groupby(\"Method Name\")"
   ]
  },
  {
   "cell_type": "code",
   "execution_count": 29,
   "metadata": {},
   "outputs": [
    {
     "name": "stderr",
     "output_type": "stream",
     "text": [
      "C:\\Users\\diana\\AppData\\Local\\Temp\\ipykernel_10128\\3763360729.py:8: UserWarning: Matplotlib is currently using module://matplotlib_inline.backend_inline, which is a non-GUI backend, so cannot show the figure.\n",
      "  fig.show()\n",
      "C:\\Users\\diana\\AppData\\Local\\Temp\\ipykernel_10128\\3763360729.py:8: UserWarning: Matplotlib is currently using module://matplotlib_inline.backend_inline, which is a non-GUI backend, so cannot show the figure.\n",
      "  fig.show()\n"
     ]
    },
    {
     "data": {
      "image/png": "[encoded data removed]",
      "text/plain": [
       "<Figure size 576x432 with 1 Axes>"
      ]
     },
     "metadata": {
      "needs_background": "light"
     },
     "output_type": "display_data"
    },
    {
     "data": {
      "image/png": "[encoded data removed]",
      "text/plain": [
       "<Figure size 576x432 with 1 Axes>"
      ]
     },
     "metadata": {
      "needs_background": "light"
     },
     "output_type": "display_data"
    }
   ],
   "source": [
    "names = [\"CopycatCNN\", \"KnockoffNets\"] # metodos de ataques usados\n",
    "for name in names:\n",
    "    fig, ax = plt.subplots(figsize=(8,6))\n",
    "    groupby.get_group(\"Probabilistic \" + name).plot(1, 2,ax = ax, label = \"Probabilistic \" + name)\n",
    "    groupby.get_group(\"Probabilistic \" + name + \" (vs. Protected)\").plot(1,2,ax=ax, label=\"Probabilistic \" + name + \" (vs. Protected)\")\n",
    "    ax.set_xlabel(\"Stealing Dataset Size\")\n",
    "    ax.set_ylabel(\"Stolen Model Accuracy\")\n",
    "    fig.show()"
   ]
  },
  {
   "cell_type": "markdown",
   "metadata": {},
   "source": [
    "Se puede ver como el accuracy en ambos tipos de ataque fue mayor en el modelo sin proteccion, tal como era de esperarse aunque la diferencia en ambos casos es unicamente del 0.2"
   ]
  },
  {
   "cell_type": "code",
   "execution_count": null,
   "metadata": {},
   "outputs": [],
   "source": []
  }
 ],
 "metadata": {
  "kernelspec": {
   "display_name": "Python 3 (ipykernel)",
   "language": "python",
   "name": "python3"
  },
  "language_info": {
   "codemirror_mode": {
    "name": "ipython",
    "version": 3
   },
   "file_extension": ".py",
   "mimetype": "text/x-python",
   "name": "python",
   "nbconvert_exporter": "python",
   "pygments_lexer": "ipython3",
   "version": "3.9.10"
  }
 },
 "nbformat": 4,
 "nbformat_minor": 4
}
